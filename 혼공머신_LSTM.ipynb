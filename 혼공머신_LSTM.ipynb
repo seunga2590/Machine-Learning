{
  "nbformat": 4,
  "nbformat_minor": 0,
  "metadata": {
    "colab": {
      "name": "혼공머신 LSTM",
      "provenance": [],
      "collapsed_sections": [],
      "authorship_tag": "ABX9TyNgayM1mnSzjek+hk39aeJh",
      "include_colab_link": true
    },
    "kernelspec": {
      "name": "python3",
      "display_name": "Python 3"
    }
  },
  "cells": [
    {
      "cell_type": "markdown",
      "metadata": {
        "id": "view-in-github",
        "colab_type": "text"
      },
      "source": [
        "<a href=\"https://colab.research.google.com/github/seunga2590/Machine-Learning/blob/main/%ED%98%BC%EA%B3%B5%EB%A8%B8%EC%8B%A0_LSTM.ipynb\" target=\"_parent\"><img src=\"https://colab.research.google.com/assets/colab-badge.svg\" alt=\"Open In Colab\"/></a>"
      ]
    },
    {
      "cell_type": "code",
      "metadata": {
        "id": "AJtIwS5XwDos"
      },
      "source": [
        "import tensorflow as tf\r\n",
        "\r\n",
        "imdb = tf.keras.datasets.imdb"
      ],
      "execution_count": 1,
      "outputs": []
    },
    {
      "cell_type": "code",
      "metadata": {
        "colab": {
          "base_uri": "https://localhost:8080/"
        },
        "id": "PnfJOcZWwOPP",
        "outputId": "c81d1394-6434-4bf6-b3de-bad1fce33c37"
      },
      "source": [
        "(train_input, train_target), (test_input, test_target) = imdb.load_data(num_words=500)"
      ],
      "execution_count": 2,
      "outputs": [
        {
          "output_type": "stream",
          "text": [
            "Downloading data from https://storage.googleapis.com/tensorflow/tf-keras-datasets/imdb.npz\n",
            "17465344/17464789 [==============================] - 0s 0us/step\n"
          ],
          "name": "stdout"
        },
        {
          "output_type": "stream",
          "text": [
            "<string>:6: VisibleDeprecationWarning: Creating an ndarray from ragged nested sequences (which is a list-or-tuple of lists-or-tuples-or ndarrays with different lengths or shapes) is deprecated. If you meant to do this, you must specify 'dtype=object' when creating the ndarray\n",
            "/usr/local/lib/python3.7/dist-packages/tensorflow/python/keras/datasets/imdb.py:159: VisibleDeprecationWarning: Creating an ndarray from ragged nested sequences (which is a list-or-tuple of lists-or-tuples-or ndarrays with different lengths or shapes) is deprecated. If you meant to do this, you must specify 'dtype=object' when creating the ndarray\n",
            "  x_train, y_train = np.array(xs[:idx]), np.array(labels[:idx])\n",
            "/usr/local/lib/python3.7/dist-packages/tensorflow/python/keras/datasets/imdb.py:160: VisibleDeprecationWarning: Creating an ndarray from ragged nested sequences (which is a list-or-tuple of lists-or-tuples-or ndarrays with different lengths or shapes) is deprecated. If you meant to do this, you must specify 'dtype=object' when creating the ndarray\n",
            "  x_test, y_test = np.array(xs[idx:]), np.array(labels[idx:])\n"
          ],
          "name": "stderr"
        }
      ]
    },
    {
      "cell_type": "code",
      "metadata": {
        "id": "sx9At5OfwaXe"
      },
      "source": [
        "from sklearn.model_selection import train_test_split\r\n",
        "\r\n",
        "train_input, val_input, train_target, val_target = train_test_split(train_input, train_target, test_size=0.2, random_state=42)"
      ],
      "execution_count": 3,
      "outputs": []
    },
    {
      "cell_type": "code",
      "metadata": {
        "id": "LM4os6qfwt0l"
      },
      "source": [
        "#pad_sequence = 각 문장길이 제한\r\n",
        "from tensorflow.keras.preprocessing.sequence import pad_sequences\r\n",
        "train_seq = pad_sequences(train_input, maxlen=100)\r\n",
        "val_seq = pad_sequences(val_input, maxlen=100)"
      ],
      "execution_count": 4,
      "outputs": []
    },
    {
      "cell_type": "code",
      "metadata": {
        "id": "hE-IgpMRxiFv"
      },
      "source": [
        "from tensorflow import keras\r\n",
        "model = keras.Sequential()\r\n",
        "model.add(keras.layers.Embedding(500,16,input_length=100))\r\n",
        "model.add(keras.layers.LSTM(8))\r\n",
        "model.add(keras.layers.Dense(1, activation='sigmoid'))"
      ],
      "execution_count": 5,
      "outputs": []
    },
    {
      "cell_type": "code",
      "metadata": {
        "colab": {
          "base_uri": "https://localhost:8080/"
        },
        "id": "ossuFKJ20IJO",
        "outputId": "e0bd60aa-b869-4969-f07f-9a59a12e0570"
      },
      "source": [
        "model.summary()"
      ],
      "execution_count": 6,
      "outputs": [
        {
          "output_type": "stream",
          "text": [
            "Model: \"sequential\"\n",
            "_________________________________________________________________\n",
            "Layer (type)                 Output Shape              Param #   \n",
            "=================================================================\n",
            "embedding (Embedding)        (None, 100, 16)           8000      \n",
            "_________________________________________________________________\n",
            "lstm (LSTM)                  (None, 8)                 800       \n",
            "_________________________________________________________________\n",
            "dense (Dense)                (None, 1)                 9         \n",
            "=================================================================\n",
            "Total params: 8,809\n",
            "Trainable params: 8,809\n",
            "Non-trainable params: 0\n",
            "_________________________________________________________________\n"
          ],
          "name": "stdout"
        }
      ]
    },
    {
      "cell_type": "code",
      "metadata": {
        "colab": {
          "base_uri": "https://localhost:8080/"
        },
        "id": "_1CkWj_s1yoC",
        "outputId": "32dc7c63-f833-4b09-a582-b57edc9f5abc"
      },
      "source": [
        "rmsprop = keras.optimizers.RMSprop(learning_rate=1e-4)\r\n",
        "model.compile(optimizer=rmsprop, loss='binary_crossentropy', metrics=['accuracy'])\r\n",
        "checkpoint_cb = keras.callbacks.ModelCheckpoint('best-lstm-model.h5')\r\n",
        "early_stopping_cb = keras.callbacks.EarlyStopping(patience=3, restore_best_weights=True)\r\n",
        "history = model.fit(train_seq, train_target, epochs=50, batch_size=64, validation_data=(val_seq, val_target),\r\n",
        "                    callbacks=[checkpoint_cb, early_stopping_cb])"
      ],
      "execution_count": 14,
      "outputs": [
        {
          "output_type": "stream",
          "text": [
            "Epoch 1/50\n",
            "313/313 [==============================] - 13s 35ms/step - loss: 0.4108 - accuracy: 0.8177 - val_loss: 0.4377 - val_accuracy: 0.7958\n",
            "Epoch 2/50\n",
            "313/313 [==============================] - 11s 35ms/step - loss: 0.4185 - accuracy: 0.8120 - val_loss: 0.4375 - val_accuracy: 0.7974\n",
            "Epoch 3/50\n",
            "313/313 [==============================] - 11s 36ms/step - loss: 0.4055 - accuracy: 0.8201 - val_loss: 0.4370 - val_accuracy: 0.7954\n",
            "Epoch 4/50\n",
            "313/313 [==============================] - 12s 37ms/step - loss: 0.4142 - accuracy: 0.8139 - val_loss: 0.4359 - val_accuracy: 0.8000\n",
            "Epoch 5/50\n",
            "313/313 [==============================] - 12s 38ms/step - loss: 0.4069 - accuracy: 0.8215 - val_loss: 0.4357 - val_accuracy: 0.7990\n",
            "Epoch 6/50\n",
            "313/313 [==============================] - 12s 38ms/step - loss: 0.4089 - accuracy: 0.8174 - val_loss: 0.4356 - val_accuracy: 0.8002\n",
            "Epoch 7/50\n",
            "313/313 [==============================] - 12s 38ms/step - loss: 0.4139 - accuracy: 0.8157 - val_loss: 0.4349 - val_accuracy: 0.7990\n",
            "Epoch 8/50\n",
            "313/313 [==============================] - 12s 38ms/step - loss: 0.4070 - accuracy: 0.8188 - val_loss: 0.4362 - val_accuracy: 0.7990\n",
            "Epoch 9/50\n",
            "313/313 [==============================] - 12s 39ms/step - loss: 0.4075 - accuracy: 0.8154 - val_loss: 0.4358 - val_accuracy: 0.7990\n",
            "Epoch 10/50\n",
            "313/313 [==============================] - 12s 39ms/step - loss: 0.4088 - accuracy: 0.8162 - val_loss: 0.4325 - val_accuracy: 0.7996\n",
            "Epoch 11/50\n",
            "313/313 [==============================] - 12s 39ms/step - loss: 0.4030 - accuracy: 0.8205 - val_loss: 0.4317 - val_accuracy: 0.7992\n",
            "Epoch 12/50\n",
            "313/313 [==============================] - 12s 39ms/step - loss: 0.4036 - accuracy: 0.8165 - val_loss: 0.4321 - val_accuracy: 0.8008\n",
            "Epoch 13/50\n",
            "313/313 [==============================] - 12s 39ms/step - loss: 0.4123 - accuracy: 0.8153 - val_loss: 0.4308 - val_accuracy: 0.7998\n",
            "Epoch 14/50\n",
            "313/313 [==============================] - 12s 39ms/step - loss: 0.4037 - accuracy: 0.8178 - val_loss: 0.4432 - val_accuracy: 0.7982\n",
            "Epoch 15/50\n",
            "313/313 [==============================] - 12s 39ms/step - loss: 0.4044 - accuracy: 0.8192 - val_loss: 0.4302 - val_accuracy: 0.8000\n",
            "Epoch 16/50\n",
            "313/313 [==============================] - 12s 39ms/step - loss: 0.4017 - accuracy: 0.8213 - val_loss: 0.4302 - val_accuracy: 0.8010\n",
            "Epoch 17/50\n",
            "313/313 [==============================] - 12s 39ms/step - loss: 0.4031 - accuracy: 0.8196 - val_loss: 0.4329 - val_accuracy: 0.8026\n",
            "Epoch 18/50\n",
            "313/313 [==============================] - 13s 41ms/step - loss: 0.4065 - accuracy: 0.8173 - val_loss: 0.4312 - val_accuracy: 0.7976\n",
            "Epoch 19/50\n",
            "313/313 [==============================] - 12s 38ms/step - loss: 0.4041 - accuracy: 0.8145 - val_loss: 0.4293 - val_accuracy: 0.8012\n",
            "Epoch 20/50\n",
            "313/313 [==============================] - 12s 39ms/step - loss: 0.4057 - accuracy: 0.8163 - val_loss: 0.4299 - val_accuracy: 0.8006\n",
            "Epoch 21/50\n",
            "313/313 [==============================] - 12s 39ms/step - loss: 0.4056 - accuracy: 0.8135 - val_loss: 0.4294 - val_accuracy: 0.7986\n",
            "Epoch 22/50\n",
            "313/313 [==============================] - 13s 40ms/step - loss: 0.3963 - accuracy: 0.8223 - val_loss: 0.4295 - val_accuracy: 0.7992\n"
          ],
          "name": "stdout"
        }
      ]
    },
    {
      "cell_type": "code",
      "metadata": {
        "colab": {
          "base_uri": "https://localhost:8080/",
          "height": 279
        },
        "id": "JEvH3-BQ3r55",
        "outputId": "44befb1c-5932-4a7f-a404-40d9cb1d1504"
      },
      "source": [
        "import matplotlib.pyplot as plt\r\n",
        "plt.plot(history.history['loss'])\r\n",
        "plt.plot(history.history['val_loss'])\r\n",
        "plt.xlabel('epoch')\r\n",
        "plt.ylabel('loss')\r\n",
        "plt.legend(['train', 'val'])\r\n",
        "plt.show()"
      ],
      "execution_count": 15,
      "outputs": [
        {
          "output_type": "display_data",
          "data": {
            "image/png": "[encoded data removed]",
            "text/plain": [
              "<Figure size 432x288 with 1 Axes>"
            ]
          },
          "metadata": {
            "tags": [],
            "needs_background": "light"
          }
        }
      ]
    },
    {
      "cell_type": "code",
      "metadata": {
        "id": "KihstAfv4sLR"
      },
      "source": [
        "#dropout 추가 적용\r\n",
        "\r\n",
        "model2 = keras.Sequential()\r\n",
        "model2.add(keras.layers.Embedding(500,16, input_length =100))\r\n",
        "model2.add(keras.layers.LSTM(8, dropout=0.3))\r\n",
        "model2.add(keras.layers.Dense(1, activation='sigmoid'))"
      ],
      "execution_count": 18,
      "outputs": []
    },
    {
      "cell_type": "code",
      "metadata": {
        "colab": {
          "base_uri": "https://localhost:8080/"
        },
        "id": "VDNmaFK65nZG",
        "outputId": "749033b8-474f-45cd-b3c5-22384d1f8853"
      },
      "source": [
        "rmsprop = keras.optimizers.RMSprop(learning_rate=1e-4)\r\n",
        "model2.compile(optimizer=rmsprop, loss='binary_crossentropy', metrics=['accuracy'])\r\n",
        "checkpoint_cb = keras.callbacks.ModelCheckpoint('best-lstm-model.h5')\r\n",
        "early_stopping_cb = keras.callbacks.EarlyStopping(patience=3, restore_best_weights=True)\r\n",
        "history = model2.fit(train_seq, train_target, epochs=22, batch_size=64, validation_data=(val_seq, val_target),\r\n",
        "                    callbacks=[checkpoint_cb, early_stopping_cb])"
      ],
      "execution_count": 20,
      "outputs": [
        {
          "output_type": "stream",
          "text": [
            "Epoch 1/22\n",
            "313/313 [==============================] - 13s 37ms/step - loss: 0.4236 - accuracy: 0.8054 - val_loss: 0.4349 - val_accuracy: 0.7982\n",
            "Epoch 2/22\n",
            "313/313 [==============================] - 11s 36ms/step - loss: 0.4169 - accuracy: 0.8122 - val_loss: 0.4361 - val_accuracy: 0.7942\n",
            "Epoch 3/22\n",
            "313/313 [==============================] - 11s 36ms/step - loss: 0.4335 - accuracy: 0.8034 - val_loss: 0.4333 - val_accuracy: 0.7990\n",
            "Epoch 4/22\n",
            "313/313 [==============================] - 12s 38ms/step - loss: 0.4166 - accuracy: 0.8088 - val_loss: 0.4322 - val_accuracy: 0.8020\n",
            "Epoch 5/22\n",
            "313/313 [==============================] - 12s 38ms/step - loss: 0.4198 - accuracy: 0.8056 - val_loss: 0.4310 - val_accuracy: 0.8004\n",
            "Epoch 6/22\n",
            "313/313 [==============================] - 12s 37ms/step - loss: 0.4221 - accuracy: 0.8083 - val_loss: 0.4310 - val_accuracy: 0.8040\n",
            "Epoch 7/22\n",
            "313/313 [==============================] - 12s 38ms/step - loss: 0.4215 - accuracy: 0.8061 - val_loss: 0.4416 - val_accuracy: 0.8018\n",
            "Epoch 8/22\n",
            "313/313 [==============================] - 12s 38ms/step - loss: 0.4180 - accuracy: 0.8089 - val_loss: 0.4304 - val_accuracy: 0.7974\n",
            "Epoch 9/22\n",
            "313/313 [==============================] - 12s 38ms/step - loss: 0.4112 - accuracy: 0.8137 - val_loss: 0.4298 - val_accuracy: 0.8038\n",
            "Epoch 10/22\n",
            "313/313 [==============================] - 12s 38ms/step - loss: 0.4106 - accuracy: 0.8130 - val_loss: 0.4283 - val_accuracy: 0.7996\n",
            "Epoch 11/22\n",
            "313/313 [==============================] - 12s 37ms/step - loss: 0.4129 - accuracy: 0.8071 - val_loss: 0.4291 - val_accuracy: 0.7974\n",
            "Epoch 12/22\n",
            "313/313 [==============================] - 12s 38ms/step - loss: 0.4108 - accuracy: 0.8102 - val_loss: 0.4274 - val_accuracy: 0.8028\n",
            "Epoch 13/22\n",
            "313/313 [==============================] - 12s 39ms/step - loss: 0.4096 - accuracy: 0.8108 - val_loss: 0.4282 - val_accuracy: 0.7992\n",
            "Epoch 14/22\n",
            "313/313 [==============================] - 12s 38ms/step - loss: 0.4096 - accuracy: 0.8147 - val_loss: 0.4266 - val_accuracy: 0.8040\n",
            "Epoch 15/22\n",
            "313/313 [==============================] - 12s 37ms/step - loss: 0.4100 - accuracy: 0.8102 - val_loss: 0.4258 - val_accuracy: 0.8018\n",
            "Epoch 16/22\n",
            "313/313 [==============================] - 12s 39ms/step - loss: 0.4087 - accuracy: 0.8122 - val_loss: 0.4256 - val_accuracy: 0.8058\n",
            "Epoch 17/22\n",
            "313/313 [==============================] - 12s 38ms/step - loss: 0.4064 - accuracy: 0.8167 - val_loss: 0.4254 - val_accuracy: 0.8032\n",
            "Epoch 18/22\n",
            "313/313 [==============================] - 12s 38ms/step - loss: 0.4070 - accuracy: 0.8161 - val_loss: 0.4252 - val_accuracy: 0.8046\n",
            "Epoch 19/22\n",
            "313/313 [==============================] - 12s 38ms/step - loss: 0.4104 - accuracy: 0.8120 - val_loss: 0.4250 - val_accuracy: 0.8040\n",
            "Epoch 20/22\n",
            "313/313 [==============================] - 12s 38ms/step - loss: 0.4082 - accuracy: 0.8153 - val_loss: 0.4263 - val_accuracy: 0.8010\n",
            "Epoch 21/22\n",
            "313/313 [==============================] - 12s 39ms/step - loss: 0.4097 - accuracy: 0.8125 - val_loss: 0.4249 - val_accuracy: 0.8066\n",
            "Epoch 22/22\n",
            "313/313 [==============================] - 13s 41ms/step - loss: 0.4053 - accuracy: 0.8127 - val_loss: 0.4251 - val_accuracy: 0.8064\n"
          ],
          "name": "stdout"
        }
      ]
    },
    {
      "cell_type": "code",
      "metadata": {
        "colab": {
          "base_uri": "https://localhost:8080/",
          "height": 279
        },
        "id": "DPnYbwYi6F81",
        "outputId": "b7d3184d-5b26-432d-a2db-2476cadb5bbc"
      },
      "source": [
        "plt.plot(history.history['loss'])\r\n",
        "plt.plot(history.history['val_loss'])\r\n",
        "plt.xlabel('epoch')\r\n",
        "plt.ylabel('loss')\r\n",
        "plt.legend(['train', 'val'])\r\n",
        "plt.show()"
      ],
      "execution_count": 21,
      "outputs": [
        {
          "output_type": "display_data",
          "data": {
            "image/png": "[encoded data removed]",
            "text/plain": [
              "<Figure size 432x288 with 1 Axes>"
            ]
          },
          "metadata": {
            "tags": [],
            "needs_background": "light"
          }
        }
      ]
    },
    {
      "cell_type": "code",
      "metadata": {
        "id": "CIxpZBFO-Uu2"
      },
      "source": [
        "model3 = keras.Sequential()\r\n",
        "model3.add(keras.layers.Embedding(500, 16, input_length=100))\r\n",
        "model3.add(keras.layers.LSTM(8, dropout=0.3, return_sequences=True))\r\n",
        "model3.add(keras.layers.LSTM(8, dropout=0.3))\r\n",
        "model3.add(keras.layers.Dense(1, activation='sigmoid'))"
      ],
      "execution_count": 22,
      "outputs": []
    },
    {
      "cell_type": "code",
      "metadata": {
        "colab": {
          "base_uri": "https://localhost:8080/"
        },
        "id": "1gaihlG4I5A8",
        "outputId": "a73390a2-a6cb-44a4-d141-f60104cd9b41"
      },
      "source": [
        "model3.summary()\r\n",
        "#time step = 100"
      ],
      "execution_count": 23,
      "outputs": [
        {
          "output_type": "stream",
          "text": [
            "Model: \"sequential_5\"\n",
            "_________________________________________________________________\n",
            "Layer (type)                 Output Shape              Param #   \n",
            "=================================================================\n",
            "embedding_2 (Embedding)      (None, 100, 16)           8000      \n",
            "_________________________________________________________________\n",
            "lstm_2 (LSTM)                (None, 100, 8)            800       \n",
            "_________________________________________________________________\n",
            "lstm_3 (LSTM)                (None, 8)                 544       \n",
            "_________________________________________________________________\n",
            "dense_2 (Dense)              (None, 1)                 9         \n",
            "=================================================================\n",
            "Total params: 9,353\n",
            "Trainable params: 9,353\n",
            "Non-trainable params: 0\n",
            "_________________________________________________________________\n"
          ],
          "name": "stdout"
        }
      ]
    },
    {
      "cell_type": "code",
      "metadata": {
        "colab": {
          "base_uri": "https://localhost:8080/"
        },
        "id": "_vjm-dAKI-E0",
        "outputId": "e18a87b4-5e39-4f29-9090-d1240fdd4510"
      },
      "source": [
        "rmsprop = keras.optimizers.RMSprop(learning_rate=1e-4)\r\n",
        "model3.compile(optimizer=rmsprop, loss='binary_crossentropy', metrics=['accuracy'])\r\n",
        "checkpoint_cb = keras.callbacks.ModelCheckpoint('best-lstm-model.h5')\r\n",
        "early_stopping_cb = keras.callbacks.EarlyStopping(patience=3, restore_best_weights=True)\r\n",
        "history = model3.fit(train_seq, train_target, epochs=22, batch_size=64, validation_data=(val_seq, val_target),\r\n",
        "                    callbacks=[checkpoint_cb, early_stopping_cb])"
      ],
      "execution_count": 24,
      "outputs": [
        {
          "output_type": "stream",
          "text": [
            "Epoch 1/22\n",
            "313/313 [==============================] - 26s 71ms/step - loss: 0.6929 - accuracy: 0.5267 - val_loss: 0.6922 - val_accuracy: 0.5754\n",
            "Epoch 2/22\n",
            "313/313 [==============================] - 22s 69ms/step - loss: 0.6912 - accuracy: 0.5920 - val_loss: 0.6871 - val_accuracy: 0.6284\n",
            "Epoch 3/22\n",
            "313/313 [==============================] - 22s 71ms/step - loss: 0.6805 - accuracy: 0.6436 - val_loss: 0.6421 - val_accuracy: 0.6906\n",
            "Epoch 4/22\n",
            "313/313 [==============================] - 22s 70ms/step - loss: 0.6177 - accuracy: 0.7030 - val_loss: 0.5828 - val_accuracy: 0.7214\n",
            "Epoch 5/22\n",
            "313/313 [==============================] - 22s 71ms/step - loss: 0.5715 - accuracy: 0.7233 - val_loss: 0.5523 - val_accuracy: 0.7386\n",
            "Epoch 6/22\n",
            "313/313 [==============================] - 22s 71ms/step - loss: 0.5476 - accuracy: 0.7394 - val_loss: 0.5295 - val_accuracy: 0.7570\n",
            "Epoch 7/22\n",
            "313/313 [==============================] - 22s 71ms/step - loss: 0.5283 - accuracy: 0.7522 - val_loss: 0.5219 - val_accuracy: 0.7530\n",
            "Epoch 8/22\n",
            "313/313 [==============================] - 22s 71ms/step - loss: 0.5108 - accuracy: 0.7606 - val_loss: 0.4983 - val_accuracy: 0.7690\n",
            "Epoch 9/22\n",
            "313/313 [==============================] - 22s 71ms/step - loss: 0.5005 - accuracy: 0.7671 - val_loss: 0.4866 - val_accuracy: 0.7750\n",
            "Epoch 10/22\n",
            "313/313 [==============================] - 22s 71ms/step - loss: 0.4857 - accuracy: 0.7774 - val_loss: 0.4838 - val_accuracy: 0.7726\n",
            "Epoch 11/22\n",
            "313/313 [==============================] - 22s 71ms/step - loss: 0.4822 - accuracy: 0.7735 - val_loss: 0.4703 - val_accuracy: 0.7796\n",
            "Epoch 12/22\n",
            "313/313 [==============================] - 23s 72ms/step - loss: 0.4691 - accuracy: 0.7859 - val_loss: 0.4644 - val_accuracy: 0.7836\n",
            "Epoch 13/22\n",
            "313/313 [==============================] - 23s 73ms/step - loss: 0.4594 - accuracy: 0.7913 - val_loss: 0.4594 - val_accuracy: 0.7844\n",
            "Epoch 14/22\n",
            "313/313 [==============================] - 24s 75ms/step - loss: 0.4551 - accuracy: 0.7897 - val_loss: 0.4563 - val_accuracy: 0.7864\n",
            "Epoch 15/22\n",
            "313/313 [==============================] - 23s 74ms/step - loss: 0.4581 - accuracy: 0.7869 - val_loss: 0.4530 - val_accuracy: 0.7892\n",
            "Epoch 16/22\n",
            "313/313 [==============================] - 23s 74ms/step - loss: 0.4411 - accuracy: 0.7997 - val_loss: 0.4502 - val_accuracy: 0.7914\n",
            "Epoch 17/22\n",
            "313/313 [==============================] - 23s 74ms/step - loss: 0.4435 - accuracy: 0.8020 - val_loss: 0.4484 - val_accuracy: 0.7896\n",
            "Epoch 18/22\n",
            "313/313 [==============================] - 23s 74ms/step - loss: 0.4405 - accuracy: 0.8012 - val_loss: 0.4475 - val_accuracy: 0.7914\n",
            "Epoch 19/22\n",
            "313/313 [==============================] - 23s 74ms/step - loss: 0.4384 - accuracy: 0.8002 - val_loss: 0.4452 - val_accuracy: 0.7936\n",
            "Epoch 20/22\n",
            "313/313 [==============================] - 23s 74ms/step - loss: 0.4411 - accuracy: 0.7987 - val_loss: 0.4440 - val_accuracy: 0.7944\n",
            "Epoch 21/22\n",
            "313/313 [==============================] - 23s 75ms/step - loss: 0.4322 - accuracy: 0.8027 - val_loss: 0.4463 - val_accuracy: 0.7886\n",
            "Epoch 22/22\n",
            "313/313 [==============================] - 23s 74ms/step - loss: 0.4309 - accuracy: 0.8005 - val_loss: 0.4436 - val_accuracy: 0.7964\n"
          ],
          "name": "stdout"
        }
      ]
    },
    {
      "cell_type": "code",
      "metadata": {
        "colab": {
          "base_uri": "https://localhost:8080/",
          "height": 279
        },
        "id": "H2lA-YhlJL5M",
        "outputId": "bba1963f-b8da-4f27-8a60-728a829f0846"
      },
      "source": [
        "plt.plot(history.history['loss'])\r\n",
        "plt.plot(history.history['val_loss'])\r\n",
        "plt.xlabel('epochs')\r\n",
        "plt.ylabel('loss')\r\n",
        "plt.legend(['train', 'val'])\r\n",
        "plt.show()"
      ],
      "execution_count": 25,
      "outputs": [
        {
          "output_type": "display_data",
          "data": {
            "image/png": "[encoded data removed]",
            "text/plain": [
              "<Figure size 432x288 with 1 Axes>"
            ]
          },
          "metadata": {
            "tags": [],
            "needs_background": "light"
          }
        }
      ]
    },
    {
      "cell_type": "code",
      "metadata": {
        "id": "aRrCYSRqLxfF"
      },
      "source": [
        ""
      ],
      "execution_count": null,
      "outputs": []
    }
  ]
}