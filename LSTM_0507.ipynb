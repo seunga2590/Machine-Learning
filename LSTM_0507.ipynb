{
  "nbformat": 4,
  "nbformat_minor": 0,
  "metadata": {
    "colab": {
      "name": "LSTM_0507",
      "provenance": [],
      "collapsed_sections": [],
      "authorship_tag": "ABX9TyMn8dH6AjF3QiqyDF4ibmix",
      "include_colab_link": true
    },
    "kernelspec": {
      "name": "python3",
      "display_name": "Python 3"
    }
  },
  "cells": [
    {
      "cell_type": "markdown",
      "metadata": {
        "id": "view-in-github",
        "colab_type": "text"
      },
      "source": [
        "<a href=\"https://colab.research.google.com/github/seunga2590/Machine-Learning/blob/main/LSTM_0507.ipynb\" target=\"_parent\"><img src=\"https://colab.research.google.com/assets/colab-badge.svg\" alt=\"Open In Colab\"/></a>"
      ]
    },
    {
      "cell_type": "code",
      "metadata": {
        "colab": {
          "base_uri": "https://localhost:8080/"
        },
        "id": "tZarX-oMN0TI",
        "outputId": "972acb11-194b-45e2-a68d-e00aba021186"
      },
      "source": [
        "import tensorflow as tf\n",
        "import pandas as pd\n",
        "import numpy as np\n",
        "from google.colab import drive\n",
        "drive.mount('/content/drive')"
      ],
      "execution_count": 1,
      "outputs": [
        {
          "output_type": "stream",
          "text": [
            "Mounted at /content/drive\n"
          ],
          "name": "stdout"
        }
      ]
    },
    {
      "cell_type": "code",
      "metadata": {
        "colab": {
          "base_uri": "https://localhost:8080/",
          "height": 434
        },
        "id": "iS7iMuYC5VHv",
        "outputId": "16e5ffc9-0008-4d93-e7ed-30dfde8eb37f"
      },
      "source": [
        "import glob\n",
        "import sys\n",
        "\n",
        "all_data = pd.DataFrame()\n",
        "for f in glob.glob('/content/drive/My Drive/air_pollution/air_*.xlsx'):\n",
        "  df = pd.read_excel(f)\n",
        "  all_data = all_data.append(df, ignore_index=True)\n",
        "\n",
        "print(all_data.shape)\n",
        "all_data.head()\n",
        "all_data"
      ],
      "execution_count": 2,
      "outputs": [
        {
          "output_type": "stream",
          "text": [
            "(2012160, 9)\n"
          ],
          "name": "stdout"
        },
        {
          "output_type": "execute_result",
          "data": {
            "text/html": [
              "<div>\n",
              "<style scoped>\n",
              "    .dataframe tbody tr th:only-of-type {\n",
              "        vertical-align: middle;\n",
              "    }\n",
              "\n",
              "    .dataframe tbody tr th {\n",
              "        vertical-align: top;\n",
              "    }\n",
              "\n",
              "    .dataframe thead th {\n",
              "        text-align: right;\n",
              "    }\n",
              "</style>\n",
              "<table border=\"1\" class=\"dataframe\">\n",
              "  <thead>\n",
              "    <tr style=\"text-align: right;\">\n",
              "      <th></th>\n",
              "      <th>지역</th>\n",
              "      <th>측정소명</th>\n",
              "      <th>측정일시</th>\n",
              "      <th>SO2</th>\n",
              "      <th>CO</th>\n",
              "      <th>O3</th>\n",
              "      <th>NO2</th>\n",
              "      <th>PM10</th>\n",
              "      <th>PM25</th>\n",
              "    </tr>\n",
              "  </thead>\n",
              "  <tbody>\n",
              "    <tr>\n",
              "      <th>0</th>\n",
              "      <td>서울</td>\n",
              "      <td>중구</td>\n",
              "      <td>2015010101</td>\n",
              "      <td>0.006</td>\n",
              "      <td>0.6</td>\n",
              "      <td>0.022</td>\n",
              "      <td>0.011</td>\n",
              "      <td>44.0</td>\n",
              "      <td>7.0</td>\n",
              "    </tr>\n",
              "    <tr>\n",
              "      <th>1</th>\n",
              "      <td>서울</td>\n",
              "      <td>중구</td>\n",
              "      <td>2015010102</td>\n",
              "      <td>0.006</td>\n",
              "      <td>0.6</td>\n",
              "      <td>0.022</td>\n",
              "      <td>0.010</td>\n",
              "      <td>57.0</td>\n",
              "      <td>10.0</td>\n",
              "    </tr>\n",
              "    <tr>\n",
              "      <th>2</th>\n",
              "      <td>서울</td>\n",
              "      <td>중구</td>\n",
              "      <td>2015010103</td>\n",
              "      <td>0.006</td>\n",
              "      <td>0.6</td>\n",
              "      <td>0.021</td>\n",
              "      <td>0.010</td>\n",
              "      <td>76.0</td>\n",
              "      <td>10.0</td>\n",
              "    </tr>\n",
              "    <tr>\n",
              "      <th>3</th>\n",
              "      <td>서울</td>\n",
              "      <td>중구</td>\n",
              "      <td>2015010104</td>\n",
              "      <td>0.006</td>\n",
              "      <td>0.6</td>\n",
              "      <td>0.022</td>\n",
              "      <td>0.009</td>\n",
              "      <td>86.0</td>\n",
              "      <td>11.0</td>\n",
              "    </tr>\n",
              "    <tr>\n",
              "      <th>4</th>\n",
              "      <td>서울</td>\n",
              "      <td>중구</td>\n",
              "      <td>2015010105</td>\n",
              "      <td>0.006</td>\n",
              "      <td>0.5</td>\n",
              "      <td>0.021</td>\n",
              "      <td>0.009</td>\n",
              "      <td>106.0</td>\n",
              "      <td>12.0</td>\n",
              "    </tr>\n",
              "    <tr>\n",
              "      <th>...</th>\n",
              "      <td>...</td>\n",
              "      <td>...</td>\n",
              "      <td>...</td>\n",
              "      <td>...</td>\n",
              "      <td>...</td>\n",
              "      <td>...</td>\n",
              "      <td>...</td>\n",
              "      <td>...</td>\n",
              "      <td>...</td>\n",
              "    </tr>\n",
              "    <tr>\n",
              "      <th>2012155</th>\n",
              "      <td>서울 노원구</td>\n",
              "      <td>노원</td>\n",
              "      <td>2020103120</td>\n",
              "      <td>0.003</td>\n",
              "      <td>0.5</td>\n",
              "      <td>0.013</td>\n",
              "      <td>0.051</td>\n",
              "      <td>NaN</td>\n",
              "      <td>NaN</td>\n",
              "    </tr>\n",
              "    <tr>\n",
              "      <th>2012156</th>\n",
              "      <td>서울 노원구</td>\n",
              "      <td>노원</td>\n",
              "      <td>2020103121</td>\n",
              "      <td>0.003</td>\n",
              "      <td>0.5</td>\n",
              "      <td>0.017</td>\n",
              "      <td>0.040</td>\n",
              "      <td>NaN</td>\n",
              "      <td>NaN</td>\n",
              "    </tr>\n",
              "    <tr>\n",
              "      <th>2012157</th>\n",
              "      <td>서울 노원구</td>\n",
              "      <td>노원</td>\n",
              "      <td>2020103122</td>\n",
              "      <td>0.003</td>\n",
              "      <td>0.5</td>\n",
              "      <td>0.014</td>\n",
              "      <td>0.043</td>\n",
              "      <td>NaN</td>\n",
              "      <td>NaN</td>\n",
              "    </tr>\n",
              "    <tr>\n",
              "      <th>2012158</th>\n",
              "      <td>서울 노원구</td>\n",
              "      <td>노원</td>\n",
              "      <td>2020103123</td>\n",
              "      <td>0.003</td>\n",
              "      <td>0.6</td>\n",
              "      <td>0.012</td>\n",
              "      <td>0.045</td>\n",
              "      <td>NaN</td>\n",
              "      <td>NaN</td>\n",
              "    </tr>\n",
              "    <tr>\n",
              "      <th>2012159</th>\n",
              "      <td>서울 노원구</td>\n",
              "      <td>노원</td>\n",
              "      <td>2020103124</td>\n",
              "      <td>0.003</td>\n",
              "      <td>0.7</td>\n",
              "      <td>0.005</td>\n",
              "      <td>0.055</td>\n",
              "      <td>NaN</td>\n",
              "      <td>NaN</td>\n",
              "    </tr>\n",
              "  </tbody>\n",
              "</table>\n",
              "<p>2012160 rows × 9 columns</p>\n",
              "</div>"
            ],
            "text/plain": [
              "             지역 측정소명        측정일시    SO2   CO     O3    NO2   PM10  PM25\n",
              "0            서울   중구  2015010101  0.006  0.6  0.022  0.011   44.0   7.0\n",
              "1            서울   중구  2015010102  0.006  0.6  0.022  0.010   57.0  10.0\n",
              "2            서울   중구  2015010103  0.006  0.6  0.021  0.010   76.0  10.0\n",
              "3            서울   중구  2015010104  0.006  0.6  0.022  0.009   86.0  11.0\n",
              "4            서울   중구  2015010105  0.006  0.5  0.021  0.009  106.0  12.0\n",
              "...         ...  ...         ...    ...  ...    ...    ...    ...   ...\n",
              "2012155  서울 노원구   노원  2020103120  0.003  0.5  0.013  0.051    NaN   NaN\n",
              "2012156  서울 노원구   노원  2020103121  0.003  0.5  0.017  0.040    NaN   NaN\n",
              "2012157  서울 노원구   노원  2020103122  0.003  0.5  0.014  0.043    NaN   NaN\n",
              "2012158  서울 노원구   노원  2020103123  0.003  0.6  0.012  0.045    NaN   NaN\n",
              "2012159  서울 노원구   노원  2020103124  0.003  0.7  0.005  0.055    NaN   NaN\n",
              "\n",
              "[2012160 rows x 9 columns]"
            ]
          },
          "metadata": {
            "tags": []
          },
          "execution_count": 2
        }
      ]
    },
    {
      "cell_type": "markdown",
      "metadata": {
        "id": "DCAJ_RZj8ZGf"
      },
      "source": [
        "###강남구"
      ]
    },
    {
      "cell_type": "code",
      "metadata": {
        "id": "H-lR3gc-8a8N"
      },
      "source": [
        "all_data1 = all_data.rename(columns={\"측정일시\":\"date\"})"
      ],
      "execution_count": 3,
      "outputs": []
    },
    {
      "cell_type": "code",
      "metadata": {
        "colab": {
          "base_uri": "https://localhost:8080/",
          "height": 202
        },
        "id": "8WiJcpF48a4l",
        "outputId": "5b07a826-1e5c-461b-b635-c43670093f9d"
      },
      "source": [
        "gangnam = all_data1['측정소명'] == '강남'\n",
        "air_gang = all_data1[gangnam]\n",
        "air_gang1 = air_gang.drop(['지역','측정소명'], axis=1)\n",
        "air_gang1.head()"
      ],
      "execution_count": 4,
      "outputs": [
        {
          "output_type": "execute_result",
          "data": {
            "text/html": [
              "<div>\n",
              "<style scoped>\n",
              "    .dataframe tbody tr th:only-of-type {\n",
              "        vertical-align: middle;\n",
              "    }\n",
              "\n",
              "    .dataframe tbody tr th {\n",
              "        vertical-align: top;\n",
              "    }\n",
              "\n",
              "    .dataframe thead th {\n",
              "        text-align: right;\n",
              "    }\n",
              "</style>\n",
              "<table border=\"1\" class=\"dataframe\">\n",
              "  <thead>\n",
              "    <tr style=\"text-align: right;\">\n",
              "      <th></th>\n",
              "      <th>date</th>\n",
              "      <th>SO2</th>\n",
              "      <th>CO</th>\n",
              "      <th>O3</th>\n",
              "      <th>NO2</th>\n",
              "      <th>PM10</th>\n",
              "      <th>PM25</th>\n",
              "    </tr>\n",
              "  </thead>\n",
              "  <tbody>\n",
              "    <tr>\n",
              "      <th>58320</th>\n",
              "      <td>2015010101</td>\n",
              "      <td>0.006</td>\n",
              "      <td>0.2</td>\n",
              "      <td>0.026</td>\n",
              "      <td>0.011</td>\n",
              "      <td>42.0</td>\n",
              "      <td>24.0</td>\n",
              "    </tr>\n",
              "    <tr>\n",
              "      <th>58321</th>\n",
              "      <td>2015010102</td>\n",
              "      <td>0.005</td>\n",
              "      <td>0.2</td>\n",
              "      <td>0.025</td>\n",
              "      <td>0.010</td>\n",
              "      <td>54.0</td>\n",
              "      <td>12.0</td>\n",
              "    </tr>\n",
              "    <tr>\n",
              "      <th>58322</th>\n",
              "      <td>2015010103</td>\n",
              "      <td>0.005</td>\n",
              "      <td>0.2</td>\n",
              "      <td>0.024</td>\n",
              "      <td>0.010</td>\n",
              "      <td>73.0</td>\n",
              "      <td>19.0</td>\n",
              "    </tr>\n",
              "    <tr>\n",
              "      <th>58323</th>\n",
              "      <td>2015010104</td>\n",
              "      <td>0.007</td>\n",
              "      <td>0.2</td>\n",
              "      <td>0.025</td>\n",
              "      <td>0.008</td>\n",
              "      <td>89.0</td>\n",
              "      <td>18.0</td>\n",
              "    </tr>\n",
              "    <tr>\n",
              "      <th>58324</th>\n",
              "      <td>2015010105</td>\n",
              "      <td>0.006</td>\n",
              "      <td>0.2</td>\n",
              "      <td>0.025</td>\n",
              "      <td>0.008</td>\n",
              "      <td>106.0</td>\n",
              "      <td>23.0</td>\n",
              "    </tr>\n",
              "  </tbody>\n",
              "</table>\n",
              "</div>"
            ],
            "text/plain": [
              "             date    SO2   CO     O3    NO2   PM10  PM25\n",
              "58320  2015010101  0.006  0.2  0.026  0.011   42.0  24.0\n",
              "58321  2015010102  0.005  0.2  0.025  0.010   54.0  12.0\n",
              "58322  2015010103  0.005  0.2  0.024  0.010   73.0  19.0\n",
              "58323  2015010104  0.007  0.2  0.025  0.008   89.0  18.0\n",
              "58324  2015010105  0.006  0.2  0.025  0.008  106.0  23.0"
            ]
          },
          "metadata": {
            "tags": []
          },
          "execution_count": 4
        }
      ]
    },
    {
      "cell_type": "code",
      "metadata": {
        "colab": {
          "base_uri": "https://localhost:8080/",
          "height": 415
        },
        "id": "b7obXY5z8a2k",
        "outputId": "866cbf68-c217-4ed1-aae2-5a6dd17d9e77"
      },
      "source": [
        "air_gang1 = air_gang1.sort_values(by=['date'], axis=0)\n",
        "air_gang1"
      ],
      "execution_count": 5,
      "outputs": [
        {
          "output_type": "execute_result",
          "data": {
            "text/html": [
              "<div>\n",
              "<style scoped>\n",
              "    .dataframe tbody tr th:only-of-type {\n",
              "        vertical-align: middle;\n",
              "    }\n",
              "\n",
              "    .dataframe tbody tr th {\n",
              "        vertical-align: top;\n",
              "    }\n",
              "\n",
              "    .dataframe thead th {\n",
              "        text-align: right;\n",
              "    }\n",
              "</style>\n",
              "<table border=\"1\" class=\"dataframe\">\n",
              "  <thead>\n",
              "    <tr style=\"text-align: right;\">\n",
              "      <th></th>\n",
              "      <th>date</th>\n",
              "      <th>SO2</th>\n",
              "      <th>CO</th>\n",
              "      <th>O3</th>\n",
              "      <th>NO2</th>\n",
              "      <th>PM10</th>\n",
              "      <th>PM25</th>\n",
              "    </tr>\n",
              "  </thead>\n",
              "  <tbody>\n",
              "    <tr>\n",
              "      <th>58320</th>\n",
              "      <td>2015010101</td>\n",
              "      <td>0.006</td>\n",
              "      <td>0.2</td>\n",
              "      <td>0.026</td>\n",
              "      <td>0.011</td>\n",
              "      <td>42.0</td>\n",
              "      <td>24.0</td>\n",
              "    </tr>\n",
              "    <tr>\n",
              "      <th>62640</th>\n",
              "      <td>2015010101</td>\n",
              "      <td>0.006</td>\n",
              "      <td>0.7</td>\n",
              "      <td>0.011</td>\n",
              "      <td>0.012</td>\n",
              "      <td>39.0</td>\n",
              "      <td>NaN</td>\n",
              "    </tr>\n",
              "    <tr>\n",
              "      <th>62641</th>\n",
              "      <td>2015010102</td>\n",
              "      <td>0.006</td>\n",
              "      <td>0.7</td>\n",
              "      <td>0.011</td>\n",
              "      <td>0.011</td>\n",
              "      <td>59.0</td>\n",
              "      <td>NaN</td>\n",
              "    </tr>\n",
              "    <tr>\n",
              "      <th>58321</th>\n",
              "      <td>2015010102</td>\n",
              "      <td>0.005</td>\n",
              "      <td>0.2</td>\n",
              "      <td>0.025</td>\n",
              "      <td>0.010</td>\n",
              "      <td>54.0</td>\n",
              "      <td>12.0</td>\n",
              "    </tr>\n",
              "    <tr>\n",
              "      <th>58322</th>\n",
              "      <td>2015010103</td>\n",
              "      <td>0.005</td>\n",
              "      <td>0.2</td>\n",
              "      <td>0.024</td>\n",
              "      <td>0.010</td>\n",
              "      <td>73.0</td>\n",
              "      <td>19.0</td>\n",
              "    </tr>\n",
              "    <tr>\n",
              "      <th>...</th>\n",
              "      <td>...</td>\n",
              "      <td>...</td>\n",
              "      <td>...</td>\n",
              "      <td>...</td>\n",
              "      <td>...</td>\n",
              "      <td>...</td>\n",
              "      <td>...</td>\n",
              "    </tr>\n",
              "    <tr>\n",
              "      <th>2004717</th>\n",
              "      <td>2020103122</td>\n",
              "      <td>0.004</td>\n",
              "      <td>1.0</td>\n",
              "      <td>0.020</td>\n",
              "      <td>0.032</td>\n",
              "      <td>31.0</td>\n",
              "      <td>13.0</td>\n",
              "    </tr>\n",
              "    <tr>\n",
              "      <th>2004718</th>\n",
              "      <td>2020103123</td>\n",
              "      <td>0.004</td>\n",
              "      <td>1.0</td>\n",
              "      <td>0.016</td>\n",
              "      <td>0.036</td>\n",
              "      <td>37.0</td>\n",
              "      <td>13.0</td>\n",
              "    </tr>\n",
              "    <tr>\n",
              "      <th>2003230</th>\n",
              "      <td>2020103123</td>\n",
              "      <td>0.003</td>\n",
              "      <td>0.4</td>\n",
              "      <td>0.029</td>\n",
              "      <td>0.022</td>\n",
              "      <td>24.0</td>\n",
              "      <td>14.0</td>\n",
              "    </tr>\n",
              "    <tr>\n",
              "      <th>2003231</th>\n",
              "      <td>2020103124</td>\n",
              "      <td>0.004</td>\n",
              "      <td>0.4</td>\n",
              "      <td>0.029</td>\n",
              "      <td>0.020</td>\n",
              "      <td>22.0</td>\n",
              "      <td>15.0</td>\n",
              "    </tr>\n",
              "    <tr>\n",
              "      <th>2004719</th>\n",
              "      <td>2020103124</td>\n",
              "      <td>0.004</td>\n",
              "      <td>1.0</td>\n",
              "      <td>0.020</td>\n",
              "      <td>0.030</td>\n",
              "      <td>31.0</td>\n",
              "      <td>13.0</td>\n",
              "    </tr>\n",
              "  </tbody>\n",
              "</table>\n",
              "<p>102288 rows × 7 columns</p>\n",
              "</div>"
            ],
            "text/plain": [
              "               date    SO2   CO     O3    NO2  PM10  PM25\n",
              "58320    2015010101  0.006  0.2  0.026  0.011  42.0  24.0\n",
              "62640    2015010101  0.006  0.7  0.011  0.012  39.0   NaN\n",
              "62641    2015010102  0.006  0.7  0.011  0.011  59.0   NaN\n",
              "58321    2015010102  0.005  0.2  0.025  0.010  54.0  12.0\n",
              "58322    2015010103  0.005  0.2  0.024  0.010  73.0  19.0\n",
              "...             ...    ...  ...    ...    ...   ...   ...\n",
              "2004717  2020103122  0.004  1.0  0.020  0.032  31.0  13.0\n",
              "2004718  2020103123  0.004  1.0  0.016  0.036  37.0  13.0\n",
              "2003230  2020103123  0.003  0.4  0.029  0.022  24.0  14.0\n",
              "2003231  2020103124  0.004  0.4  0.029  0.020  22.0  15.0\n",
              "2004719  2020103124  0.004  1.0  0.020  0.030  31.0  13.0\n",
              "\n",
              "[102288 rows x 7 columns]"
            ]
          },
          "metadata": {
            "tags": []
          },
          "execution_count": 5
        }
      ]
    },
    {
      "cell_type": "code",
      "metadata": {
        "id": "jc84h-4e8a04"
      },
      "source": [
        "air_gang2 = air_gang1.groupby('date').mean()\n",
        "air_gang3 = air_gang2.reset_index()\n",
        "air_gang4 = air_gang3[:51143]\n",
        "air_gang4 = air_gang4.reset_index()"
      ],
      "execution_count": 6,
      "outputs": []
    },
    {
      "cell_type": "code",
      "metadata": {
        "id": "8MCDa5eF8YzU"
      },
      "source": [
        "col_names2 = ['date','tem','rain','wind_s','wind_d','hum','pre']\n",
        "df_atm = pd.read_excel(\"/content/drive/My Drive/parameter/parameter_sum.xlsx\",names = col_names2)\n",
        "df_atm1 = df_atm[:51143]\n",
        "df_atm2 = df_atm1.reset_index()"
      ],
      "execution_count": 7,
      "outputs": []
    },
    {
      "cell_type": "code",
      "metadata": {
        "id": "Z3eOrYanbIZ7"
      },
      "source": [
        "jung_atm = pd.read_excel('/content/drive/My Drive/lab/jung_sum_2.xlsx', index_col=0)\n",
        "jung_atm = jung_atm[:51143]"
      ],
      "execution_count": 8,
      "outputs": []
    },
    {
      "cell_type": "code",
      "metadata": {
        "colab": {
          "base_uri": "https://localhost:8080/",
          "height": 202
        },
        "id": "NHX2179MV-gS",
        "outputId": "dca18f0a-cc02-4370-8f50-b2cfac0e1ffe"
      },
      "source": [
        "df_atm2['PM10'] = air_gang3['PM10']\n",
        "df_atm2['PM25'] = air_gang3['PM25']\n",
        "df_atm2['SO2'] = air_gang3['SO2']\n",
        "df_atm2['CO'] = air_gang3['CO']\n",
        "df_atm2['NO2'] = air_gang3['NO2']\n",
        "df_atm2['O3'] = air_gang3['O3']\n",
        "df_atm2['wind_s'] = jung_atm['wind_x']\n",
        "df_atm2['wind_d'] = jung_atm['wind_y']\n",
        "df_atm2.head()"
      ],
      "execution_count": 9,
      "outputs": [
        {
          "output_type": "execute_result",
          "data": {
            "text/html": [
              "<div>\n",
              "<style scoped>\n",
              "    .dataframe tbody tr th:only-of-type {\n",
              "        vertical-align: middle;\n",
              "    }\n",
              "\n",
              "    .dataframe tbody tr th {\n",
              "        vertical-align: top;\n",
              "    }\n",
              "\n",
              "    .dataframe thead th {\n",
              "        text-align: right;\n",
              "    }\n",
              "</style>\n",
              "<table border=\"1\" class=\"dataframe\">\n",
              "  <thead>\n",
              "    <tr style=\"text-align: right;\">\n",
              "      <th></th>\n",
              "      <th>index</th>\n",
              "      <th>date</th>\n",
              "      <th>tem</th>\n",
              "      <th>rain</th>\n",
              "      <th>wind_s</th>\n",
              "      <th>wind_d</th>\n",
              "      <th>hum</th>\n",
              "      <th>pre</th>\n",
              "      <th>PM10</th>\n",
              "      <th>PM25</th>\n",
              "      <th>SO2</th>\n",
              "      <th>CO</th>\n",
              "      <th>NO2</th>\n",
              "      <th>O3</th>\n",
              "    </tr>\n",
              "  </thead>\n",
              "  <tbody>\n",
              "    <tr>\n",
              "      <th>0</th>\n",
              "      <td>0</td>\n",
              "      <td>2015-01-01 01:00:00</td>\n",
              "      <td>-7.4</td>\n",
              "      <td>NaN</td>\n",
              "      <td>2.643416</td>\n",
              "      <td>-3.886174</td>\n",
              "      <td>33.0</td>\n",
              "      <td>1011.8</td>\n",
              "      <td>40.5</td>\n",
              "      <td>24.0</td>\n",
              "      <td>0.0060</td>\n",
              "      <td>0.45</td>\n",
              "      <td>0.0115</td>\n",
              "      <td>0.0185</td>\n",
              "    </tr>\n",
              "    <tr>\n",
              "      <th>1</th>\n",
              "      <td>1</td>\n",
              "      <td>2015-01-01 02:00:00</td>\n",
              "      <td>-8.0</td>\n",
              "      <td>NaN</td>\n",
              "      <td>2.530930</td>\n",
              "      <td>-3.720805</td>\n",
              "      <td>35.0</td>\n",
              "      <td>1011.7</td>\n",
              "      <td>56.5</td>\n",
              "      <td>12.0</td>\n",
              "      <td>0.0055</td>\n",
              "      <td>0.45</td>\n",
              "      <td>0.0105</td>\n",
              "      <td>0.0180</td>\n",
              "    </tr>\n",
              "    <tr>\n",
              "      <th>2</th>\n",
              "      <td>2</td>\n",
              "      <td>2015-01-01 03:00:00</td>\n",
              "      <td>-8.4</td>\n",
              "      <td>NaN</td>\n",
              "      <td>2.137230</td>\n",
              "      <td>-3.142013</td>\n",
              "      <td>37.0</td>\n",
              "      <td>1012.1</td>\n",
              "      <td>74.0</td>\n",
              "      <td>19.0</td>\n",
              "      <td>0.0055</td>\n",
              "      <td>0.45</td>\n",
              "      <td>0.0085</td>\n",
              "      <td>0.0180</td>\n",
              "    </tr>\n",
              "    <tr>\n",
              "      <th>3</th>\n",
              "      <td>3</td>\n",
              "      <td>2015-01-01 04:00:00</td>\n",
              "      <td>-8.8</td>\n",
              "      <td>NaN</td>\n",
              "      <td>2.755902</td>\n",
              "      <td>-4.051544</td>\n",
              "      <td>35.0</td>\n",
              "      <td>1012.3</td>\n",
              "      <td>89.5</td>\n",
              "      <td>18.0</td>\n",
              "      <td>0.0065</td>\n",
              "      <td>0.45</td>\n",
              "      <td>0.0065</td>\n",
              "      <td>0.0185</td>\n",
              "    </tr>\n",
              "    <tr>\n",
              "      <th>4</th>\n",
              "      <td>4</td>\n",
              "      <td>2015-01-01 05:00:00</td>\n",
              "      <td>-9.1</td>\n",
              "      <td>NaN</td>\n",
              "      <td>3.205845</td>\n",
              "      <td>-4.713020</td>\n",
              "      <td>35.0</td>\n",
              "      <td>1011.8</td>\n",
              "      <td>105.5</td>\n",
              "      <td>23.0</td>\n",
              "      <td>0.0060</td>\n",
              "      <td>0.50</td>\n",
              "      <td>0.0070</td>\n",
              "      <td>0.0185</td>\n",
              "    </tr>\n",
              "  </tbody>\n",
              "</table>\n",
              "</div>"
            ],
            "text/plain": [
              "   index                date  tem  rain  ...     SO2    CO     NO2      O3\n",
              "0      0 2015-01-01 01:00:00 -7.4   NaN  ...  0.0060  0.45  0.0115  0.0185\n",
              "1      1 2015-01-01 02:00:00 -8.0   NaN  ...  0.0055  0.45  0.0105  0.0180\n",
              "2      2 2015-01-01 03:00:00 -8.4   NaN  ...  0.0055  0.45  0.0085  0.0180\n",
              "3      3 2015-01-01 04:00:00 -8.8   NaN  ...  0.0065  0.45  0.0065  0.0185\n",
              "4      4 2015-01-01 05:00:00 -9.1   NaN  ...  0.0060  0.50  0.0070  0.0185\n",
              "\n",
              "[5 rows x 14 columns]"
            ]
          },
          "metadata": {
            "tags": []
          },
          "execution_count": 9
        }
      ]
    },
    {
      "cell_type": "code",
      "metadata": {
        "colab": {
          "base_uri": "https://localhost:8080/",
          "height": 202
        },
        "id": "OP6SQ66JIyIw",
        "outputId": "e99ef8b5-29c9-4762-b6db-342b2f1933b5"
      },
      "source": [
        "#interpolate 선형 그래프로 결측값 보간\n",
        "df_atm2 = df_atm2.interpolate(method='values')\n",
        "df_atm2.head()"
      ],
      "execution_count": 10,
      "outputs": [
        {
          "output_type": "execute_result",
          "data": {
            "text/html": [
              "<div>\n",
              "<style scoped>\n",
              "    .dataframe tbody tr th:only-of-type {\n",
              "        vertical-align: middle;\n",
              "    }\n",
              "\n",
              "    .dataframe tbody tr th {\n",
              "        vertical-align: top;\n",
              "    }\n",
              "\n",
              "    .dataframe thead th {\n",
              "        text-align: right;\n",
              "    }\n",
              "</style>\n",
              "<table border=\"1\" class=\"dataframe\">\n",
              "  <thead>\n",
              "    <tr style=\"text-align: right;\">\n",
              "      <th></th>\n",
              "      <th>index</th>\n",
              "      <th>date</th>\n",
              "      <th>tem</th>\n",
              "      <th>rain</th>\n",
              "      <th>wind_s</th>\n",
              "      <th>wind_d</th>\n",
              "      <th>hum</th>\n",
              "      <th>pre</th>\n",
              "      <th>PM10</th>\n",
              "      <th>PM25</th>\n",
              "      <th>SO2</th>\n",
              "      <th>CO</th>\n",
              "      <th>NO2</th>\n",
              "      <th>O3</th>\n",
              "    </tr>\n",
              "  </thead>\n",
              "  <tbody>\n",
              "    <tr>\n",
              "      <th>0</th>\n",
              "      <td>0</td>\n",
              "      <td>2015-01-01 01:00:00</td>\n",
              "      <td>-7.4</td>\n",
              "      <td>NaN</td>\n",
              "      <td>2.643416</td>\n",
              "      <td>-3.886174</td>\n",
              "      <td>33.0</td>\n",
              "      <td>1011.8</td>\n",
              "      <td>40.5</td>\n",
              "      <td>24.0</td>\n",
              "      <td>0.0060</td>\n",
              "      <td>0.45</td>\n",
              "      <td>0.0115</td>\n",
              "      <td>0.0185</td>\n",
              "    </tr>\n",
              "    <tr>\n",
              "      <th>1</th>\n",
              "      <td>1</td>\n",
              "      <td>2015-01-01 02:00:00</td>\n",
              "      <td>-8.0</td>\n",
              "      <td>NaN</td>\n",
              "      <td>2.530930</td>\n",
              "      <td>-3.720805</td>\n",
              "      <td>35.0</td>\n",
              "      <td>1011.7</td>\n",
              "      <td>56.5</td>\n",
              "      <td>12.0</td>\n",
              "      <td>0.0055</td>\n",
              "      <td>0.45</td>\n",
              "      <td>0.0105</td>\n",
              "      <td>0.0180</td>\n",
              "    </tr>\n",
              "    <tr>\n",
              "      <th>2</th>\n",
              "      <td>2</td>\n",
              "      <td>2015-01-01 03:00:00</td>\n",
              "      <td>-8.4</td>\n",
              "      <td>NaN</td>\n",
              "      <td>2.137230</td>\n",
              "      <td>-3.142013</td>\n",
              "      <td>37.0</td>\n",
              "      <td>1012.1</td>\n",
              "      <td>74.0</td>\n",
              "      <td>19.0</td>\n",
              "      <td>0.0055</td>\n",
              "      <td>0.45</td>\n",
              "      <td>0.0085</td>\n",
              "      <td>0.0180</td>\n",
              "    </tr>\n",
              "    <tr>\n",
              "      <th>3</th>\n",
              "      <td>3</td>\n",
              "      <td>2015-01-01 04:00:00</td>\n",
              "      <td>-8.8</td>\n",
              "      <td>NaN</td>\n",
              "      <td>2.755902</td>\n",
              "      <td>-4.051544</td>\n",
              "      <td>35.0</td>\n",
              "      <td>1012.3</td>\n",
              "      <td>89.5</td>\n",
              "      <td>18.0</td>\n",
              "      <td>0.0065</td>\n",
              "      <td>0.45</td>\n",
              "      <td>0.0065</td>\n",
              "      <td>0.0185</td>\n",
              "    </tr>\n",
              "    <tr>\n",
              "      <th>4</th>\n",
              "      <td>4</td>\n",
              "      <td>2015-01-01 05:00:00</td>\n",
              "      <td>-9.1</td>\n",
              "      <td>NaN</td>\n",
              "      <td>3.205845</td>\n",
              "      <td>-4.713020</td>\n",
              "      <td>35.0</td>\n",
              "      <td>1011.8</td>\n",
              "      <td>105.5</td>\n",
              "      <td>23.0</td>\n",
              "      <td>0.0060</td>\n",
              "      <td>0.50</td>\n",
              "      <td>0.0070</td>\n",
              "      <td>0.0185</td>\n",
              "    </tr>\n",
              "  </tbody>\n",
              "</table>\n",
              "</div>"
            ],
            "text/plain": [
              "   index                date  tem  rain  ...     SO2    CO     NO2      O3\n",
              "0      0 2015-01-01 01:00:00 -7.4   NaN  ...  0.0060  0.45  0.0115  0.0185\n",
              "1      1 2015-01-01 02:00:00 -8.0   NaN  ...  0.0055  0.45  0.0105  0.0180\n",
              "2      2 2015-01-01 03:00:00 -8.4   NaN  ...  0.0055  0.45  0.0085  0.0180\n",
              "3      3 2015-01-01 04:00:00 -8.8   NaN  ...  0.0065  0.45  0.0065  0.0185\n",
              "4      4 2015-01-01 05:00:00 -9.1   NaN  ...  0.0060  0.50  0.0070  0.0185\n",
              "\n",
              "[5 rows x 14 columns]"
            ]
          },
          "metadata": {
            "tags": []
          },
          "execution_count": 10
        }
      ]
    },
    {
      "cell_type": "code",
      "metadata": {
        "id": "YzK10b80bjjB"
      },
      "source": [
        "df_atm2 = df_atm2.rename(columns={\"wind_s\":\"wind_x\", \"wind_d\":\"wind_y\"})"
      ],
      "execution_count": 11,
      "outputs": []
    },
    {
      "cell_type": "code",
      "metadata": {
        "colab": {
          "base_uri": "https://localhost:8080/",
          "height": 202
        },
        "id": "gvSz40pxV-iq",
        "outputId": "94b68060-7499-4e22-ccd3-ea6b3e4189e8"
      },
      "source": [
        "df_atm2['rain'] = df_atm2['rain'].fillna(0)\n",
        "df_atm2.head()"
      ],
      "execution_count": 12,
      "outputs": [
        {
          "output_type": "execute_result",
          "data": {
            "text/html": [
              "<div>\n",
              "<style scoped>\n",
              "    .dataframe tbody tr th:only-of-type {\n",
              "        vertical-align: middle;\n",
              "    }\n",
              "\n",
              "    .dataframe tbody tr th {\n",
              "        vertical-align: top;\n",
              "    }\n",
              "\n",
              "    .dataframe thead th {\n",
              "        text-align: right;\n",
              "    }\n",
              "</style>\n",
              "<table border=\"1\" class=\"dataframe\">\n",
              "  <thead>\n",
              "    <tr style=\"text-align: right;\">\n",
              "      <th></th>\n",
              "      <th>index</th>\n",
              "      <th>date</th>\n",
              "      <th>tem</th>\n",
              "      <th>rain</th>\n",
              "      <th>wind_x</th>\n",
              "      <th>wind_y</th>\n",
              "      <th>hum</th>\n",
              "      <th>pre</th>\n",
              "      <th>PM10</th>\n",
              "      <th>PM25</th>\n",
              "      <th>SO2</th>\n",
              "      <th>CO</th>\n",
              "      <th>NO2</th>\n",
              "      <th>O3</th>\n",
              "    </tr>\n",
              "  </thead>\n",
              "  <tbody>\n",
              "    <tr>\n",
              "      <th>0</th>\n",
              "      <td>0</td>\n",
              "      <td>2015-01-01 01:00:00</td>\n",
              "      <td>-7.4</td>\n",
              "      <td>0.0</td>\n",
              "      <td>2.643416</td>\n",
              "      <td>-3.886174</td>\n",
              "      <td>33.0</td>\n",
              "      <td>1011.8</td>\n",
              "      <td>40.5</td>\n",
              "      <td>24.0</td>\n",
              "      <td>0.0060</td>\n",
              "      <td>0.45</td>\n",
              "      <td>0.0115</td>\n",
              "      <td>0.0185</td>\n",
              "    </tr>\n",
              "    <tr>\n",
              "      <th>1</th>\n",
              "      <td>1</td>\n",
              "      <td>2015-01-01 02:00:00</td>\n",
              "      <td>-8.0</td>\n",
              "      <td>0.0</td>\n",
              "      <td>2.530930</td>\n",
              "      <td>-3.720805</td>\n",
              "      <td>35.0</td>\n",
              "      <td>1011.7</td>\n",
              "      <td>56.5</td>\n",
              "      <td>12.0</td>\n",
              "      <td>0.0055</td>\n",
              "      <td>0.45</td>\n",
              "      <td>0.0105</td>\n",
              "      <td>0.0180</td>\n",
              "    </tr>\n",
              "    <tr>\n",
              "      <th>2</th>\n",
              "      <td>2</td>\n",
              "      <td>2015-01-01 03:00:00</td>\n",
              "      <td>-8.4</td>\n",
              "      <td>0.0</td>\n",
              "      <td>2.137230</td>\n",
              "      <td>-3.142013</td>\n",
              "      <td>37.0</td>\n",
              "      <td>1012.1</td>\n",
              "      <td>74.0</td>\n",
              "      <td>19.0</td>\n",
              "      <td>0.0055</td>\n",
              "      <td>0.45</td>\n",
              "      <td>0.0085</td>\n",
              "      <td>0.0180</td>\n",
              "    </tr>\n",
              "    <tr>\n",
              "      <th>3</th>\n",
              "      <td>3</td>\n",
              "      <td>2015-01-01 04:00:00</td>\n",
              "      <td>-8.8</td>\n",
              "      <td>0.0</td>\n",
              "      <td>2.755902</td>\n",
              "      <td>-4.051544</td>\n",
              "      <td>35.0</td>\n",
              "      <td>1012.3</td>\n",
              "      <td>89.5</td>\n",
              "      <td>18.0</td>\n",
              "      <td>0.0065</td>\n",
              "      <td>0.45</td>\n",
              "      <td>0.0065</td>\n",
              "      <td>0.0185</td>\n",
              "    </tr>\n",
              "    <tr>\n",
              "      <th>4</th>\n",
              "      <td>4</td>\n",
              "      <td>2015-01-01 05:00:00</td>\n",
              "      <td>-9.1</td>\n",
              "      <td>0.0</td>\n",
              "      <td>3.205845</td>\n",
              "      <td>-4.713020</td>\n",
              "      <td>35.0</td>\n",
              "      <td>1011.8</td>\n",
              "      <td>105.5</td>\n",
              "      <td>23.0</td>\n",
              "      <td>0.0060</td>\n",
              "      <td>0.50</td>\n",
              "      <td>0.0070</td>\n",
              "      <td>0.0185</td>\n",
              "    </tr>\n",
              "  </tbody>\n",
              "</table>\n",
              "</div>"
            ],
            "text/plain": [
              "   index                date  tem  rain  ...     SO2    CO     NO2      O3\n",
              "0      0 2015-01-01 01:00:00 -7.4   0.0  ...  0.0060  0.45  0.0115  0.0185\n",
              "1      1 2015-01-01 02:00:00 -8.0   0.0  ...  0.0055  0.45  0.0105  0.0180\n",
              "2      2 2015-01-01 03:00:00 -8.4   0.0  ...  0.0055  0.45  0.0085  0.0180\n",
              "3      3 2015-01-01 04:00:00 -8.8   0.0  ...  0.0065  0.45  0.0065  0.0185\n",
              "4      4 2015-01-01 05:00:00 -9.1   0.0  ...  0.0060  0.50  0.0070  0.0185\n",
              "\n",
              "[5 rows x 14 columns]"
            ]
          },
          "metadata": {
            "tags": []
          },
          "execution_count": 12
        }
      ]
    },
    {
      "cell_type": "code",
      "metadata": {
        "id": "ssViPwW2XXlw"
      },
      "source": [
        "df_fin = df_atm2.copy()"
      ],
      "execution_count": 13,
      "outputs": []
    },
    {
      "cell_type": "code",
      "metadata": {
        "colab": {
          "base_uri": "https://localhost:8080/",
          "height": 202
        },
        "id": "6ztn5TegV-pT",
        "outputId": "a51de82c-cfa0-46d8-c522-10e625005505"
      },
      "source": [
        "pm = df_fin['PM10']\n",
        "pm1 = pm[24:]\n",
        "pm10 = pm1.reset_index()\n",
        "\n",
        "df_fin['value_tomm'] = pm10['PM10']\n",
        "df_fin.head()"
      ],
      "execution_count": 14,
      "outputs": [
        {
          "output_type": "execute_result",
          "data": {
            "text/html": [
              "<div>\n",
              "<style scoped>\n",
              "    .dataframe tbody tr th:only-of-type {\n",
              "        vertical-align: middle;\n",
              "    }\n",
              "\n",
              "    .dataframe tbody tr th {\n",
              "        vertical-align: top;\n",
              "    }\n",
              "\n",
              "    .dataframe thead th {\n",
              "        text-align: right;\n",
              "    }\n",
              "</style>\n",
              "<table border=\"1\" class=\"dataframe\">\n",
              "  <thead>\n",
              "    <tr style=\"text-align: right;\">\n",
              "      <th></th>\n",
              "      <th>index</th>\n",
              "      <th>date</th>\n",
              "      <th>tem</th>\n",
              "      <th>rain</th>\n",
              "      <th>wind_x</th>\n",
              "      <th>wind_y</th>\n",
              "      <th>hum</th>\n",
              "      <th>pre</th>\n",
              "      <th>PM10</th>\n",
              "      <th>PM25</th>\n",
              "      <th>SO2</th>\n",
              "      <th>CO</th>\n",
              "      <th>NO2</th>\n",
              "      <th>O3</th>\n",
              "      <th>value_tomm</th>\n",
              "    </tr>\n",
              "  </thead>\n",
              "  <tbody>\n",
              "    <tr>\n",
              "      <th>0</th>\n",
              "      <td>0</td>\n",
              "      <td>2015-01-01 01:00:00</td>\n",
              "      <td>-7.4</td>\n",
              "      <td>0.0</td>\n",
              "      <td>2.643416</td>\n",
              "      <td>-3.886174</td>\n",
              "      <td>33.0</td>\n",
              "      <td>1011.8</td>\n",
              "      <td>40.5</td>\n",
              "      <td>24.0</td>\n",
              "      <td>0.0060</td>\n",
              "      <td>0.45</td>\n",
              "      <td>0.0115</td>\n",
              "      <td>0.0185</td>\n",
              "      <td>21.0</td>\n",
              "    </tr>\n",
              "    <tr>\n",
              "      <th>1</th>\n",
              "      <td>1</td>\n",
              "      <td>2015-01-01 02:00:00</td>\n",
              "      <td>-8.0</td>\n",
              "      <td>0.0</td>\n",
              "      <td>2.530930</td>\n",
              "      <td>-3.720805</td>\n",
              "      <td>35.0</td>\n",
              "      <td>1011.7</td>\n",
              "      <td>56.5</td>\n",
              "      <td>12.0</td>\n",
              "      <td>0.0055</td>\n",
              "      <td>0.45</td>\n",
              "      <td>0.0105</td>\n",
              "      <td>0.0180</td>\n",
              "      <td>23.0</td>\n",
              "    </tr>\n",
              "    <tr>\n",
              "      <th>2</th>\n",
              "      <td>2</td>\n",
              "      <td>2015-01-01 03:00:00</td>\n",
              "      <td>-8.4</td>\n",
              "      <td>0.0</td>\n",
              "      <td>2.137230</td>\n",
              "      <td>-3.142013</td>\n",
              "      <td>37.0</td>\n",
              "      <td>1012.1</td>\n",
              "      <td>74.0</td>\n",
              "      <td>19.0</td>\n",
              "      <td>0.0055</td>\n",
              "      <td>0.45</td>\n",
              "      <td>0.0085</td>\n",
              "      <td>0.0180</td>\n",
              "      <td>25.5</td>\n",
              "    </tr>\n",
              "    <tr>\n",
              "      <th>3</th>\n",
              "      <td>3</td>\n",
              "      <td>2015-01-01 04:00:00</td>\n",
              "      <td>-8.8</td>\n",
              "      <td>0.0</td>\n",
              "      <td>2.755902</td>\n",
              "      <td>-4.051544</td>\n",
              "      <td>35.0</td>\n",
              "      <td>1012.3</td>\n",
              "      <td>89.5</td>\n",
              "      <td>18.0</td>\n",
              "      <td>0.0065</td>\n",
              "      <td>0.45</td>\n",
              "      <td>0.0065</td>\n",
              "      <td>0.0185</td>\n",
              "      <td>18.5</td>\n",
              "    </tr>\n",
              "    <tr>\n",
              "      <th>4</th>\n",
              "      <td>4</td>\n",
              "      <td>2015-01-01 05:00:00</td>\n",
              "      <td>-9.1</td>\n",
              "      <td>0.0</td>\n",
              "      <td>3.205845</td>\n",
              "      <td>-4.713020</td>\n",
              "      <td>35.0</td>\n",
              "      <td>1011.8</td>\n",
              "      <td>105.5</td>\n",
              "      <td>23.0</td>\n",
              "      <td>0.0060</td>\n",
              "      <td>0.50</td>\n",
              "      <td>0.0070</td>\n",
              "      <td>0.0185</td>\n",
              "      <td>22.5</td>\n",
              "    </tr>\n",
              "  </tbody>\n",
              "</table>\n",
              "</div>"
            ],
            "text/plain": [
              "   index                date  tem  rain  ...    CO     NO2      O3  value_tomm\n",
              "0      0 2015-01-01 01:00:00 -7.4   0.0  ...  0.45  0.0115  0.0185        21.0\n",
              "1      1 2015-01-01 02:00:00 -8.0   0.0  ...  0.45  0.0105  0.0180        23.0\n",
              "2      2 2015-01-01 03:00:00 -8.4   0.0  ...  0.45  0.0085  0.0180        25.5\n",
              "3      3 2015-01-01 04:00:00 -8.8   0.0  ...  0.45  0.0065  0.0185        18.5\n",
              "4      4 2015-01-01 05:00:00 -9.1   0.0  ...  0.50  0.0070  0.0185        22.5\n",
              "\n",
              "[5 rows x 15 columns]"
            ]
          },
          "metadata": {
            "tags": []
          },
          "execution_count": 14
        }
      ]
    },
    {
      "cell_type": "code",
      "metadata": {
        "colab": {
          "base_uri": "https://localhost:8080/",
          "height": 415
        },
        "id": "1d3ElTJJ9eTk",
        "outputId": "13b1920c-5c06-4685-f702-6cf90c34ebaf"
      },
      "source": [
        "df_final = df_fin.copy()\n",
        "pm10 = df_final['PM10']<400.0\n",
        "a = df_final['PM10'] > 400\n",
        "a1 = df_final[a]\n",
        "df_final1 = df_final.drop(a1.index, axis=0)\n",
        "df_final1"
      ],
      "execution_count": 15,
      "outputs": [
        {
          "output_type": "execute_result",
          "data": {
            "text/html": [
              "<div>\n",
              "<style scoped>\n",
              "    .dataframe tbody tr th:only-of-type {\n",
              "        vertical-align: middle;\n",
              "    }\n",
              "\n",
              "    .dataframe tbody tr th {\n",
              "        vertical-align: top;\n",
              "    }\n",
              "\n",
              "    .dataframe thead th {\n",
              "        text-align: right;\n",
              "    }\n",
              "</style>\n",
              "<table border=\"1\" class=\"dataframe\">\n",
              "  <thead>\n",
              "    <tr style=\"text-align: right;\">\n",
              "      <th></th>\n",
              "      <th>index</th>\n",
              "      <th>date</th>\n",
              "      <th>tem</th>\n",
              "      <th>rain</th>\n",
              "      <th>wind_x</th>\n",
              "      <th>wind_y</th>\n",
              "      <th>hum</th>\n",
              "      <th>pre</th>\n",
              "      <th>PM10</th>\n",
              "      <th>PM25</th>\n",
              "      <th>SO2</th>\n",
              "      <th>CO</th>\n",
              "      <th>NO2</th>\n",
              "      <th>O3</th>\n",
              "      <th>value_tomm</th>\n",
              "    </tr>\n",
              "  </thead>\n",
              "  <tbody>\n",
              "    <tr>\n",
              "      <th>0</th>\n",
              "      <td>0</td>\n",
              "      <td>2015-01-01 01:00:00</td>\n",
              "      <td>-7.4</td>\n",
              "      <td>0.0</td>\n",
              "      <td>2.643416</td>\n",
              "      <td>-3.886174</td>\n",
              "      <td>33.0</td>\n",
              "      <td>1011.8</td>\n",
              "      <td>40.5</td>\n",
              "      <td>24.0</td>\n",
              "      <td>0.0060</td>\n",
              "      <td>0.45</td>\n",
              "      <td>0.0115</td>\n",
              "      <td>0.0185</td>\n",
              "      <td>21.0</td>\n",
              "    </tr>\n",
              "    <tr>\n",
              "      <th>1</th>\n",
              "      <td>1</td>\n",
              "      <td>2015-01-01 02:00:00</td>\n",
              "      <td>-8.0</td>\n",
              "      <td>0.0</td>\n",
              "      <td>2.530930</td>\n",
              "      <td>-3.720805</td>\n",
              "      <td>35.0</td>\n",
              "      <td>1011.7</td>\n",
              "      <td>56.5</td>\n",
              "      <td>12.0</td>\n",
              "      <td>0.0055</td>\n",
              "      <td>0.45</td>\n",
              "      <td>0.0105</td>\n",
              "      <td>0.0180</td>\n",
              "      <td>23.0</td>\n",
              "    </tr>\n",
              "    <tr>\n",
              "      <th>2</th>\n",
              "      <td>2</td>\n",
              "      <td>2015-01-01 03:00:00</td>\n",
              "      <td>-8.4</td>\n",
              "      <td>0.0</td>\n",
              "      <td>2.137230</td>\n",
              "      <td>-3.142013</td>\n",
              "      <td>37.0</td>\n",
              "      <td>1012.1</td>\n",
              "      <td>74.0</td>\n",
              "      <td>19.0</td>\n",
              "      <td>0.0055</td>\n",
              "      <td>0.45</td>\n",
              "      <td>0.0085</td>\n",
              "      <td>0.0180</td>\n",
              "      <td>25.5</td>\n",
              "    </tr>\n",
              "    <tr>\n",
              "      <th>3</th>\n",
              "      <td>3</td>\n",
              "      <td>2015-01-01 04:00:00</td>\n",
              "      <td>-8.8</td>\n",
              "      <td>0.0</td>\n",
              "      <td>2.755902</td>\n",
              "      <td>-4.051544</td>\n",
              "      <td>35.0</td>\n",
              "      <td>1012.3</td>\n",
              "      <td>89.5</td>\n",
              "      <td>18.0</td>\n",
              "      <td>0.0065</td>\n",
              "      <td>0.45</td>\n",
              "      <td>0.0065</td>\n",
              "      <td>0.0185</td>\n",
              "      <td>18.5</td>\n",
              "    </tr>\n",
              "    <tr>\n",
              "      <th>4</th>\n",
              "      <td>4</td>\n",
              "      <td>2015-01-01 05:00:00</td>\n",
              "      <td>-9.1</td>\n",
              "      <td>0.0</td>\n",
              "      <td>3.205845</td>\n",
              "      <td>-4.713020</td>\n",
              "      <td>35.0</td>\n",
              "      <td>1011.8</td>\n",
              "      <td>105.5</td>\n",
              "      <td>23.0</td>\n",
              "      <td>0.0060</td>\n",
              "      <td>0.50</td>\n",
              "      <td>0.0070</td>\n",
              "      <td>0.0185</td>\n",
              "      <td>22.5</td>\n",
              "    </tr>\n",
              "    <tr>\n",
              "      <th>...</th>\n",
              "      <td>...</td>\n",
              "      <td>...</td>\n",
              "      <td>...</td>\n",
              "      <td>...</td>\n",
              "      <td>...</td>\n",
              "      <td>...</td>\n",
              "      <td>...</td>\n",
              "      <td>...</td>\n",
              "      <td>...</td>\n",
              "      <td>...</td>\n",
              "      <td>...</td>\n",
              "      <td>...</td>\n",
              "      <td>...</td>\n",
              "      <td>...</td>\n",
              "      <td>...</td>\n",
              "    </tr>\n",
              "    <tr>\n",
              "      <th>51138</th>\n",
              "      <td>51138</td>\n",
              "      <td>2020-10-31 19:00:00</td>\n",
              "      <td>15.2</td>\n",
              "      <td>0.0</td>\n",
              "      <td>1.656438</td>\n",
              "      <td>2.969211</td>\n",
              "      <td>62.0</td>\n",
              "      <td>10.6</td>\n",
              "      <td>27.0</td>\n",
              "      <td>15.0</td>\n",
              "      <td>0.0035</td>\n",
              "      <td>0.70</td>\n",
              "      <td>0.0295</td>\n",
              "      <td>0.0275</td>\n",
              "      <td>NaN</td>\n",
              "    </tr>\n",
              "    <tr>\n",
              "      <th>51139</th>\n",
              "      <td>51139</td>\n",
              "      <td>2020-10-31 20:00:00</td>\n",
              "      <td>15.1</td>\n",
              "      <td>0.0</td>\n",
              "      <td>1.364125</td>\n",
              "      <td>2.445232</td>\n",
              "      <td>59.0</td>\n",
              "      <td>10.1</td>\n",
              "      <td>24.5</td>\n",
              "      <td>12.0</td>\n",
              "      <td>0.0035</td>\n",
              "      <td>0.75</td>\n",
              "      <td>0.0315</td>\n",
              "      <td>0.0240</td>\n",
              "      <td>NaN</td>\n",
              "    </tr>\n",
              "    <tr>\n",
              "      <th>51140</th>\n",
              "      <td>51140</td>\n",
              "      <td>2020-10-31 21:00:00</td>\n",
              "      <td>14.9</td>\n",
              "      <td>0.0</td>\n",
              "      <td>1.315407</td>\n",
              "      <td>2.357903</td>\n",
              "      <td>58.0</td>\n",
              "      <td>9.7</td>\n",
              "      <td>25.5</td>\n",
              "      <td>13.0</td>\n",
              "      <td>0.0040</td>\n",
              "      <td>0.70</td>\n",
              "      <td>0.0275</td>\n",
              "      <td>0.0240</td>\n",
              "      <td>NaN</td>\n",
              "    </tr>\n",
              "    <tr>\n",
              "      <th>51141</th>\n",
              "      <td>51141</td>\n",
              "      <td>2020-10-31 22:00:00</td>\n",
              "      <td>14.9</td>\n",
              "      <td>0.0</td>\n",
              "      <td>1.266688</td>\n",
              "      <td>2.270573</td>\n",
              "      <td>57.0</td>\n",
              "      <td>9.6</td>\n",
              "      <td>27.0</td>\n",
              "      <td>14.5</td>\n",
              "      <td>0.0040</td>\n",
              "      <td>0.75</td>\n",
              "      <td>0.0285</td>\n",
              "      <td>0.0225</td>\n",
              "      <td>NaN</td>\n",
              "    </tr>\n",
              "    <tr>\n",
              "      <th>51142</th>\n",
              "      <td>51142</td>\n",
              "      <td>2020-10-31 23:00:00</td>\n",
              "      <td>14.9</td>\n",
              "      <td>0.0</td>\n",
              "      <td>0.974375</td>\n",
              "      <td>1.746595</td>\n",
              "      <td>54.0</td>\n",
              "      <td>9.1</td>\n",
              "      <td>30.5</td>\n",
              "      <td>13.5</td>\n",
              "      <td>0.0035</td>\n",
              "      <td>0.70</td>\n",
              "      <td>0.0290</td>\n",
              "      <td>0.0225</td>\n",
              "      <td>NaN</td>\n",
              "    </tr>\n",
              "  </tbody>\n",
              "</table>\n",
              "<p>51118 rows × 15 columns</p>\n",
              "</div>"
            ],
            "text/plain": [
              "       index                date   tem  rain  ...    CO     NO2      O3  value_tomm\n",
              "0          0 2015-01-01 01:00:00  -7.4   0.0  ...  0.45  0.0115  0.0185        21.0\n",
              "1          1 2015-01-01 02:00:00  -8.0   0.0  ...  0.45  0.0105  0.0180        23.0\n",
              "2          2 2015-01-01 03:00:00  -8.4   0.0  ...  0.45  0.0085  0.0180        25.5\n",
              "3          3 2015-01-01 04:00:00  -8.8   0.0  ...  0.45  0.0065  0.0185        18.5\n",
              "4          4 2015-01-01 05:00:00  -9.1   0.0  ...  0.50  0.0070  0.0185        22.5\n",
              "...      ...                 ...   ...   ...  ...   ...     ...     ...         ...\n",
              "51138  51138 2020-10-31 19:00:00  15.2   0.0  ...  0.70  0.0295  0.0275         NaN\n",
              "51139  51139 2020-10-31 20:00:00  15.1   0.0  ...  0.75  0.0315  0.0240         NaN\n",
              "51140  51140 2020-10-31 21:00:00  14.9   0.0  ...  0.70  0.0275  0.0240         NaN\n",
              "51141  51141 2020-10-31 22:00:00  14.9   0.0  ...  0.75  0.0285  0.0225         NaN\n",
              "51142  51142 2020-10-31 23:00:00  14.9   0.0  ...  0.70  0.0290  0.0225         NaN\n",
              "\n",
              "[51118 rows x 15 columns]"
            ]
          },
          "metadata": {
            "tags": []
          },
          "execution_count": 15
        }
      ]
    },
    {
      "cell_type": "code",
      "metadata": {
        "colab": {
          "base_uri": "https://localhost:8080/",
          "height": 446
        },
        "id": "naTwRxBI983z",
        "outputId": "fc12ca6f-aa10-48d0-b04a-a5376b1b3634"
      },
      "source": [
        "df_final2 = df_final1.set_index('date')\n",
        "df_final2"
      ],
      "execution_count": 16,
      "outputs": [
        {
          "output_type": "execute_result",
          "data": {
            "text/html": [
              "<div>\n",
              "<style scoped>\n",
              "    .dataframe tbody tr th:only-of-type {\n",
              "        vertical-align: middle;\n",
              "    }\n",
              "\n",
              "    .dataframe tbody tr th {\n",
              "        vertical-align: top;\n",
              "    }\n",
              "\n",
              "    .dataframe thead th {\n",
              "        text-align: right;\n",
              "    }\n",
              "</style>\n",
              "<table border=\"1\" class=\"dataframe\">\n",
              "  <thead>\n",
              "    <tr style=\"text-align: right;\">\n",
              "      <th></th>\n",
              "      <th>index</th>\n",
              "      <th>tem</th>\n",
              "      <th>rain</th>\n",
              "      <th>wind_x</th>\n",
              "      <th>wind_y</th>\n",
              "      <th>hum</th>\n",
              "      <th>pre</th>\n",
              "      <th>PM10</th>\n",
              "      <th>PM25</th>\n",
              "      <th>SO2</th>\n",
              "      <th>CO</th>\n",
              "      <th>NO2</th>\n",
              "      <th>O3</th>\n",
              "      <th>value_tomm</th>\n",
              "    </tr>\n",
              "    <tr>\n",
              "      <th>date</th>\n",
              "      <th></th>\n",
              "      <th></th>\n",
              "      <th></th>\n",
              "      <th></th>\n",
              "      <th></th>\n",
              "      <th></th>\n",
              "      <th></th>\n",
              "      <th></th>\n",
              "      <th></th>\n",
              "      <th></th>\n",
              "      <th></th>\n",
              "      <th></th>\n",
              "      <th></th>\n",
              "      <th></th>\n",
              "    </tr>\n",
              "  </thead>\n",
              "  <tbody>\n",
              "    <tr>\n",
              "      <th>2015-01-01 01:00:00</th>\n",
              "      <td>0</td>\n",
              "      <td>-7.4</td>\n",
              "      <td>0.0</td>\n",
              "      <td>2.643416</td>\n",
              "      <td>-3.886174</td>\n",
              "      <td>33.0</td>\n",
              "      <td>1011.8</td>\n",
              "      <td>40.5</td>\n",
              "      <td>24.0</td>\n",
              "      <td>0.0060</td>\n",
              "      <td>0.45</td>\n",
              "      <td>0.0115</td>\n",
              "      <td>0.0185</td>\n",
              "      <td>21.0</td>\n",
              "    </tr>\n",
              "    <tr>\n",
              "      <th>2015-01-01 02:00:00</th>\n",
              "      <td>1</td>\n",
              "      <td>-8.0</td>\n",
              "      <td>0.0</td>\n",
              "      <td>2.530930</td>\n",
              "      <td>-3.720805</td>\n",
              "      <td>35.0</td>\n",
              "      <td>1011.7</td>\n",
              "      <td>56.5</td>\n",
              "      <td>12.0</td>\n",
              "      <td>0.0055</td>\n",
              "      <td>0.45</td>\n",
              "      <td>0.0105</td>\n",
              "      <td>0.0180</td>\n",
              "      <td>23.0</td>\n",
              "    </tr>\n",
              "    <tr>\n",
              "      <th>2015-01-01 03:00:00</th>\n",
              "      <td>2</td>\n",
              "      <td>-8.4</td>\n",
              "      <td>0.0</td>\n",
              "      <td>2.137230</td>\n",
              "      <td>-3.142013</td>\n",
              "      <td>37.0</td>\n",
              "      <td>1012.1</td>\n",
              "      <td>74.0</td>\n",
              "      <td>19.0</td>\n",
              "      <td>0.0055</td>\n",
              "      <td>0.45</td>\n",
              "      <td>0.0085</td>\n",
              "      <td>0.0180</td>\n",
              "      <td>25.5</td>\n",
              "    </tr>\n",
              "    <tr>\n",
              "      <th>2015-01-01 04:00:00</th>\n",
              "      <td>3</td>\n",
              "      <td>-8.8</td>\n",
              "      <td>0.0</td>\n",
              "      <td>2.755902</td>\n",
              "      <td>-4.051544</td>\n",
              "      <td>35.0</td>\n",
              "      <td>1012.3</td>\n",
              "      <td>89.5</td>\n",
              "      <td>18.0</td>\n",
              "      <td>0.0065</td>\n",
              "      <td>0.45</td>\n",
              "      <td>0.0065</td>\n",
              "      <td>0.0185</td>\n",
              "      <td>18.5</td>\n",
              "    </tr>\n",
              "    <tr>\n",
              "      <th>2015-01-01 05:00:00</th>\n",
              "      <td>4</td>\n",
              "      <td>-9.1</td>\n",
              "      <td>0.0</td>\n",
              "      <td>3.205845</td>\n",
              "      <td>-4.713020</td>\n",
              "      <td>35.0</td>\n",
              "      <td>1011.8</td>\n",
              "      <td>105.5</td>\n",
              "      <td>23.0</td>\n",
              "      <td>0.0060</td>\n",
              "      <td>0.50</td>\n",
              "      <td>0.0070</td>\n",
              "      <td>0.0185</td>\n",
              "      <td>22.5</td>\n",
              "    </tr>\n",
              "    <tr>\n",
              "      <th>...</th>\n",
              "      <td>...</td>\n",
              "      <td>...</td>\n",
              "      <td>...</td>\n",
              "      <td>...</td>\n",
              "      <td>...</td>\n",
              "      <td>...</td>\n",
              "      <td>...</td>\n",
              "      <td>...</td>\n",
              "      <td>...</td>\n",
              "      <td>...</td>\n",
              "      <td>...</td>\n",
              "      <td>...</td>\n",
              "      <td>...</td>\n",
              "      <td>...</td>\n",
              "    </tr>\n",
              "    <tr>\n",
              "      <th>2020-10-31 19:00:00</th>\n",
              "      <td>51138</td>\n",
              "      <td>15.2</td>\n",
              "      <td>0.0</td>\n",
              "      <td>1.656438</td>\n",
              "      <td>2.969211</td>\n",
              "      <td>62.0</td>\n",
              "      <td>10.6</td>\n",
              "      <td>27.0</td>\n",
              "      <td>15.0</td>\n",
              "      <td>0.0035</td>\n",
              "      <td>0.70</td>\n",
              "      <td>0.0295</td>\n",
              "      <td>0.0275</td>\n",
              "      <td>NaN</td>\n",
              "    </tr>\n",
              "    <tr>\n",
              "      <th>2020-10-31 20:00:00</th>\n",
              "      <td>51139</td>\n",
              "      <td>15.1</td>\n",
              "      <td>0.0</td>\n",
              "      <td>1.364125</td>\n",
              "      <td>2.445232</td>\n",
              "      <td>59.0</td>\n",
              "      <td>10.1</td>\n",
              "      <td>24.5</td>\n",
              "      <td>12.0</td>\n",
              "      <td>0.0035</td>\n",
              "      <td>0.75</td>\n",
              "      <td>0.0315</td>\n",
              "      <td>0.0240</td>\n",
              "      <td>NaN</td>\n",
              "    </tr>\n",
              "    <tr>\n",
              "      <th>2020-10-31 21:00:00</th>\n",
              "      <td>51140</td>\n",
              "      <td>14.9</td>\n",
              "      <td>0.0</td>\n",
              "      <td>1.315407</td>\n",
              "      <td>2.357903</td>\n",
              "      <td>58.0</td>\n",
              "      <td>9.7</td>\n",
              "      <td>25.5</td>\n",
              "      <td>13.0</td>\n",
              "      <td>0.0040</td>\n",
              "      <td>0.70</td>\n",
              "      <td>0.0275</td>\n",
              "      <td>0.0240</td>\n",
              "      <td>NaN</td>\n",
              "    </tr>\n",
              "    <tr>\n",
              "      <th>2020-10-31 22:00:00</th>\n",
              "      <td>51141</td>\n",
              "      <td>14.9</td>\n",
              "      <td>0.0</td>\n",
              "      <td>1.266688</td>\n",
              "      <td>2.270573</td>\n",
              "      <td>57.0</td>\n",
              "      <td>9.6</td>\n",
              "      <td>27.0</td>\n",
              "      <td>14.5</td>\n",
              "      <td>0.0040</td>\n",
              "      <td>0.75</td>\n",
              "      <td>0.0285</td>\n",
              "      <td>0.0225</td>\n",
              "      <td>NaN</td>\n",
              "    </tr>\n",
              "    <tr>\n",
              "      <th>2020-10-31 23:00:00</th>\n",
              "      <td>51142</td>\n",
              "      <td>14.9</td>\n",
              "      <td>0.0</td>\n",
              "      <td>0.974375</td>\n",
              "      <td>1.746595</td>\n",
              "      <td>54.0</td>\n",
              "      <td>9.1</td>\n",
              "      <td>30.5</td>\n",
              "      <td>13.5</td>\n",
              "      <td>0.0035</td>\n",
              "      <td>0.70</td>\n",
              "      <td>0.0290</td>\n",
              "      <td>0.0225</td>\n",
              "      <td>NaN</td>\n",
              "    </tr>\n",
              "  </tbody>\n",
              "</table>\n",
              "<p>51118 rows × 14 columns</p>\n",
              "</div>"
            ],
            "text/plain": [
              "                     index   tem  rain  ...     NO2      O3  value_tomm\n",
              "date                                    ...                            \n",
              "2015-01-01 01:00:00      0  -7.4   0.0  ...  0.0115  0.0185        21.0\n",
              "2015-01-01 02:00:00      1  -8.0   0.0  ...  0.0105  0.0180        23.0\n",
              "2015-01-01 03:00:00      2  -8.4   0.0  ...  0.0085  0.0180        25.5\n",
              "2015-01-01 04:00:00      3  -8.8   0.0  ...  0.0065  0.0185        18.5\n",
              "2015-01-01 05:00:00      4  -9.1   0.0  ...  0.0070  0.0185        22.5\n",
              "...                    ...   ...   ...  ...     ...     ...         ...\n",
              "2020-10-31 19:00:00  51138  15.2   0.0  ...  0.0295  0.0275         NaN\n",
              "2020-10-31 20:00:00  51139  15.1   0.0  ...  0.0315  0.0240         NaN\n",
              "2020-10-31 21:00:00  51140  14.9   0.0  ...  0.0275  0.0240         NaN\n",
              "2020-10-31 22:00:00  51141  14.9   0.0  ...  0.0285  0.0225         NaN\n",
              "2020-10-31 23:00:00  51142  14.9   0.0  ...  0.0290  0.0225         NaN\n",
              "\n",
              "[51118 rows x 14 columns]"
            ]
          },
          "metadata": {
            "tags": []
          },
          "execution_count": 16
        }
      ]
    },
    {
      "cell_type": "code",
      "metadata": {
        "id": "XU7SyF7c-qw9"
      },
      "source": [
        "df_new = df_final2.dropna(how='any')"
      ],
      "execution_count": 17,
      "outputs": []
    },
    {
      "cell_type": "code",
      "metadata": {
        "id": "P4mzAvd8Y-Nj"
      },
      "source": [
        "train = df_new[:26283] \n",
        "val = df_new[26283:43803]\n",
        "test = df_new[43803:]"
      ],
      "execution_count": 18,
      "outputs": []
    },
    {
      "cell_type": "code",
      "metadata": {
        "id": "vV3OMcVMAb_c"
      },
      "source": [
        "mean = train.mean()\n",
        "std = train.std()\n",
        "\n",
        "train_scaled = (train - mean) / std\n",
        "val_scaled = (val-mean) / std\n",
        "test_scaled = (test-mean) / std\n",
        "\n",
        "train_scaled = train_scaled.reset_index()\n",
        "val_scaled = val_scaled.reset_index()\n",
        "test_scaled = test_scaled.reset_index()"
      ],
      "execution_count": 19,
      "outputs": []
    },
    {
      "cell_type": "code",
      "metadata": {
        "id": "C8fP9AwSYx9O"
      },
      "source": [
        "#def standard_scaler(dataset):\n",
        "#  mean = dataset[:26303].mean(axis=0)\n",
        "#  std = dataset[:26303].mean(axis=0)\n",
        "#\n",
        "#  dataset = (dataset-mean)/std\n",
        "#\n",
        "#  return dataset"
      ],
      "execution_count": 20,
      "outputs": []
    },
    {
      "cell_type": "code",
      "metadata": {
        "colab": {
          "base_uri": "https://localhost:8080/",
          "height": 446
        },
        "id": "D-yvATC9JSfQ",
        "outputId": "26779193-b2ca-414b-be7e-dc8af94b55f6"
      },
      "source": [
        "df_new[:43665]"
      ],
      "execution_count": 21,
      "outputs": [
        {
          "output_type": "execute_result",
          "data": {
            "text/html": [
              "<div>\n",
              "<style scoped>\n",
              "    .dataframe tbody tr th:only-of-type {\n",
              "        vertical-align: middle;\n",
              "    }\n",
              "\n",
              "    .dataframe tbody tr th {\n",
              "        vertical-align: top;\n",
              "    }\n",
              "\n",
              "    .dataframe thead th {\n",
              "        text-align: right;\n",
              "    }\n",
              "</style>\n",
              "<table border=\"1\" class=\"dataframe\">\n",
              "  <thead>\n",
              "    <tr style=\"text-align: right;\">\n",
              "      <th></th>\n",
              "      <th>index</th>\n",
              "      <th>tem</th>\n",
              "      <th>rain</th>\n",
              "      <th>wind_x</th>\n",
              "      <th>wind_y</th>\n",
              "      <th>hum</th>\n",
              "      <th>pre</th>\n",
              "      <th>PM10</th>\n",
              "      <th>PM25</th>\n",
              "      <th>SO2</th>\n",
              "      <th>CO</th>\n",
              "      <th>NO2</th>\n",
              "      <th>O3</th>\n",
              "      <th>value_tomm</th>\n",
              "    </tr>\n",
              "    <tr>\n",
              "      <th>date</th>\n",
              "      <th></th>\n",
              "      <th></th>\n",
              "      <th></th>\n",
              "      <th></th>\n",
              "      <th></th>\n",
              "      <th></th>\n",
              "      <th></th>\n",
              "      <th></th>\n",
              "      <th></th>\n",
              "      <th></th>\n",
              "      <th></th>\n",
              "      <th></th>\n",
              "      <th></th>\n",
              "      <th></th>\n",
              "    </tr>\n",
              "  </thead>\n",
              "  <tbody>\n",
              "    <tr>\n",
              "      <th>2015-01-01 01:00:00</th>\n",
              "      <td>0</td>\n",
              "      <td>-7.4</td>\n",
              "      <td>0.000000</td>\n",
              "      <td>2.643416</td>\n",
              "      <td>-3.886174</td>\n",
              "      <td>33.0</td>\n",
              "      <td>1011.8</td>\n",
              "      <td>40.5</td>\n",
              "      <td>24.0</td>\n",
              "      <td>0.0060</td>\n",
              "      <td>0.45</td>\n",
              "      <td>0.0115</td>\n",
              "      <td>0.0185</td>\n",
              "      <td>21.0</td>\n",
              "    </tr>\n",
              "    <tr>\n",
              "      <th>2015-01-01 02:00:00</th>\n",
              "      <td>1</td>\n",
              "      <td>-8.0</td>\n",
              "      <td>0.000000</td>\n",
              "      <td>2.530930</td>\n",
              "      <td>-3.720805</td>\n",
              "      <td>35.0</td>\n",
              "      <td>1011.7</td>\n",
              "      <td>56.5</td>\n",
              "      <td>12.0</td>\n",
              "      <td>0.0055</td>\n",
              "      <td>0.45</td>\n",
              "      <td>0.0105</td>\n",
              "      <td>0.0180</td>\n",
              "      <td>23.0</td>\n",
              "    </tr>\n",
              "    <tr>\n",
              "      <th>2015-01-01 03:00:00</th>\n",
              "      <td>2</td>\n",
              "      <td>-8.4</td>\n",
              "      <td>0.000000</td>\n",
              "      <td>2.137230</td>\n",
              "      <td>-3.142013</td>\n",
              "      <td>37.0</td>\n",
              "      <td>1012.1</td>\n",
              "      <td>74.0</td>\n",
              "      <td>19.0</td>\n",
              "      <td>0.0055</td>\n",
              "      <td>0.45</td>\n",
              "      <td>0.0085</td>\n",
              "      <td>0.0180</td>\n",
              "      <td>25.5</td>\n",
              "    </tr>\n",
              "    <tr>\n",
              "      <th>2015-01-01 04:00:00</th>\n",
              "      <td>3</td>\n",
              "      <td>-8.8</td>\n",
              "      <td>0.000000</td>\n",
              "      <td>2.755902</td>\n",
              "      <td>-4.051544</td>\n",
              "      <td>35.0</td>\n",
              "      <td>1012.3</td>\n",
              "      <td>89.5</td>\n",
              "      <td>18.0</td>\n",
              "      <td>0.0065</td>\n",
              "      <td>0.45</td>\n",
              "      <td>0.0065</td>\n",
              "      <td>0.0185</td>\n",
              "      <td>18.5</td>\n",
              "    </tr>\n",
              "    <tr>\n",
              "      <th>2015-01-01 05:00:00</th>\n",
              "      <td>4</td>\n",
              "      <td>-9.1</td>\n",
              "      <td>0.000000</td>\n",
              "      <td>3.205845</td>\n",
              "      <td>-4.713020</td>\n",
              "      <td>35.0</td>\n",
              "      <td>1011.8</td>\n",
              "      <td>105.5</td>\n",
              "      <td>23.0</td>\n",
              "      <td>0.0060</td>\n",
              "      <td>0.50</td>\n",
              "      <td>0.0070</td>\n",
              "      <td>0.0185</td>\n",
              "      <td>22.5</td>\n",
              "    </tr>\n",
              "    <tr>\n",
              "      <th>...</th>\n",
              "      <td>...</td>\n",
              "      <td>...</td>\n",
              "      <td>...</td>\n",
              "      <td>...</td>\n",
              "      <td>...</td>\n",
              "      <td>...</td>\n",
              "      <td>...</td>\n",
              "      <td>...</td>\n",
              "      <td>...</td>\n",
              "      <td>...</td>\n",
              "      <td>...</td>\n",
              "      <td>...</td>\n",
              "      <td>...</td>\n",
              "      <td>...</td>\n",
              "    </tr>\n",
              "    <tr>\n",
              "      <th>2019-12-26 06:00:00</th>\n",
              "      <td>43685</td>\n",
              "      <td>3.1</td>\n",
              "      <td>0.095652</td>\n",
              "      <td>0.823315</td>\n",
              "      <td>-1.006058</td>\n",
              "      <td>60.0</td>\n",
              "      <td>4.6</td>\n",
              "      <td>37.5</td>\n",
              "      <td>27.0</td>\n",
              "      <td>0.0030</td>\n",
              "      <td>0.95</td>\n",
              "      <td>0.0475</td>\n",
              "      <td>0.0020</td>\n",
              "      <td>34.5</td>\n",
              "    </tr>\n",
              "    <tr>\n",
              "      <th>2019-12-26 07:00:00</th>\n",
              "      <td>43686</td>\n",
              "      <td>3.1</td>\n",
              "      <td>0.097101</td>\n",
              "      <td>0.675476</td>\n",
              "      <td>0.183662</td>\n",
              "      <td>60.0</td>\n",
              "      <td>4.6</td>\n",
              "      <td>41.0</td>\n",
              "      <td>31.0</td>\n",
              "      <td>0.0030</td>\n",
              "      <td>0.90</td>\n",
              "      <td>0.0460</td>\n",
              "      <td>0.0020</td>\n",
              "      <td>36.5</td>\n",
              "    </tr>\n",
              "    <tr>\n",
              "      <th>2019-12-26 08:00:00</th>\n",
              "      <td>43687</td>\n",
              "      <td>3.2</td>\n",
              "      <td>0.098551</td>\n",
              "      <td>1.181258</td>\n",
              "      <td>0.211255</td>\n",
              "      <td>65.0</td>\n",
              "      <td>5.0</td>\n",
              "      <td>46.5</td>\n",
              "      <td>36.0</td>\n",
              "      <td>0.0030</td>\n",
              "      <td>0.90</td>\n",
              "      <td>0.0480</td>\n",
              "      <td>0.0020</td>\n",
              "      <td>37.5</td>\n",
              "    </tr>\n",
              "    <tr>\n",
              "      <th>2019-12-26 09:00:00</th>\n",
              "      <td>43688</td>\n",
              "      <td>2.6</td>\n",
              "      <td>0.100000</td>\n",
              "      <td>2.460955</td>\n",
              "      <td>0.440115</td>\n",
              "      <td>79.0</td>\n",
              "      <td>5.8</td>\n",
              "      <td>51.5</td>\n",
              "      <td>37.0</td>\n",
              "      <td>0.0030</td>\n",
              "      <td>0.90</td>\n",
              "      <td>0.0480</td>\n",
              "      <td>0.0020</td>\n",
              "      <td>45.5</td>\n",
              "    </tr>\n",
              "    <tr>\n",
              "      <th>2019-12-26 10:00:00</th>\n",
              "      <td>43689</td>\n",
              "      <td>2.8</td>\n",
              "      <td>0.133333</td>\n",
              "      <td>0.361482</td>\n",
              "      <td>1.455792</td>\n",
              "      <td>83.0</td>\n",
              "      <td>6.2</td>\n",
              "      <td>56.0</td>\n",
              "      <td>40.5</td>\n",
              "      <td>0.0030</td>\n",
              "      <td>1.10</td>\n",
              "      <td>0.0470</td>\n",
              "      <td>0.0025</td>\n",
              "      <td>44.0</td>\n",
              "    </tr>\n",
              "  </tbody>\n",
              "</table>\n",
              "<p>43665 rows × 14 columns</p>\n",
              "</div>"
            ],
            "text/plain": [
              "                     index  tem      rain  ...     NO2      O3  value_tomm\n",
              "date                                       ...                            \n",
              "2015-01-01 01:00:00      0 -7.4  0.000000  ...  0.0115  0.0185        21.0\n",
              "2015-01-01 02:00:00      1 -8.0  0.000000  ...  0.0105  0.0180        23.0\n",
              "2015-01-01 03:00:00      2 -8.4  0.000000  ...  0.0085  0.0180        25.5\n",
              "2015-01-01 04:00:00      3 -8.8  0.000000  ...  0.0065  0.0185        18.5\n",
              "2015-01-01 05:00:00      4 -9.1  0.000000  ...  0.0070  0.0185        22.5\n",
              "...                    ...  ...       ...  ...     ...     ...         ...\n",
              "2019-12-26 06:00:00  43685  3.1  0.095652  ...  0.0475  0.0020        34.5\n",
              "2019-12-26 07:00:00  43686  3.1  0.097101  ...  0.0460  0.0020        36.5\n",
              "2019-12-26 08:00:00  43687  3.2  0.098551  ...  0.0480  0.0020        37.5\n",
              "2019-12-26 09:00:00  43688  2.6  0.100000  ...  0.0480  0.0020        45.5\n",
              "2019-12-26 10:00:00  43689  2.8  0.133333  ...  0.0470  0.0025        44.0\n",
              "\n",
              "[43665 rows x 14 columns]"
            ]
          },
          "metadata": {
            "tags": []
          },
          "execution_count": 21
        }
      ]
    },
    {
      "cell_type": "code",
      "metadata": {
        "id": "xOzXITF_BF9H"
      },
      "source": [
        "value_tomm_pm = df_new['value_tomm']\n",
        "train_y = df_new[:26178]\n",
        "val_y = df_new[2618:43665]\n",
        "test_y = df_new[43665:]"
      ],
      "execution_count": 22,
      "outputs": []
    },
    {
      "cell_type": "code",
      "metadata": {
        "id": "wT96qStHAg5g"
      },
      "source": [
        "train_y = train_y.reset_index()\n",
        "val_y = val_y.reset_index()\n",
        "test_y = test_y.reset_index()"
      ],
      "execution_count": 23,
      "outputs": []
    },
    {
      "cell_type": "code",
      "metadata": {
        "id": "PJo3FcT9BHc6",
        "colab": {
          "base_uri": "https://localhost:8080/",
          "height": 395
        },
        "outputId": "440781d1-7b58-45c1-cf83-8b4d7f364b90"
      },
      "source": [
        "train_scaled['value_tomm'] = train_y['value_tomm']\n",
        "val_scaled['value_tomm'] = val_y['value_tomm']\n",
        "test_scaled['value_tomm'] = test_y['value_tomm']\n",
        "train_scaled.head()"
      ],
      "execution_count": 24,
      "outputs": [
        {
          "output_type": "execute_result",
          "data": {
            "text/html": [
              "<div>\n",
              "<style scoped>\n",
              "    .dataframe tbody tr th:only-of-type {\n",
              "        vertical-align: middle;\n",
              "    }\n",
              "\n",
              "    .dataframe tbody tr th {\n",
              "        vertical-align: top;\n",
              "    }\n",
              "\n",
              "    .dataframe thead th {\n",
              "        text-align: right;\n",
              "    }\n",
              "</style>\n",
              "<table border=\"1\" class=\"dataframe\">\n",
              "  <thead>\n",
              "    <tr style=\"text-align: right;\">\n",
              "      <th></th>\n",
              "      <th>date</th>\n",
              "      <th>index</th>\n",
              "      <th>tem</th>\n",
              "      <th>rain</th>\n",
              "      <th>wind_x</th>\n",
              "      <th>wind_y</th>\n",
              "      <th>hum</th>\n",
              "      <th>pre</th>\n",
              "      <th>PM10</th>\n",
              "      <th>PM25</th>\n",
              "      <th>SO2</th>\n",
              "      <th>CO</th>\n",
              "      <th>NO2</th>\n",
              "      <th>O3</th>\n",
              "      <th>value_tomm</th>\n",
              "    </tr>\n",
              "  </thead>\n",
              "  <tbody>\n",
              "    <tr>\n",
              "      <th>0</th>\n",
              "      <td>2015-01-01 01:00:00</td>\n",
              "      <td>-1.733982</td>\n",
              "      <td>-1.868058</td>\n",
              "      <td>-0.278843</td>\n",
              "      <td>0.911571</td>\n",
              "      <td>-2.062693</td>\n",
              "      <td>-1.307842</td>\n",
              "      <td>1.428930</td>\n",
              "      <td>-0.266885</td>\n",
              "      <td>-0.068114</td>\n",
              "      <td>0.666758</td>\n",
              "      <td>-0.666270</td>\n",
              "      <td>-1.612923</td>\n",
              "      <td>-0.067566</td>\n",
              "      <td>21.0</td>\n",
              "    </tr>\n",
              "    <tr>\n",
              "      <th>1</th>\n",
              "      <td>2015-01-01 02:00:00</td>\n",
              "      <td>-1.733851</td>\n",
              "      <td>-1.921871</td>\n",
              "      <td>-0.278843</td>\n",
              "      <td>0.845000</td>\n",
              "      <td>-1.972162</td>\n",
              "      <td>-1.206836</td>\n",
              "      <td>1.428717</td>\n",
              "      <td>0.286811</td>\n",
              "      <td>-0.791922</td>\n",
              "      <td>0.304616</td>\n",
              "      <td>-0.666270</td>\n",
              "      <td>-1.675046</td>\n",
              "      <td>-0.099281</td>\n",
              "      <td>23.0</td>\n",
              "    </tr>\n",
              "    <tr>\n",
              "      <th>2</th>\n",
              "      <td>2015-01-01 03:00:00</td>\n",
              "      <td>-1.733719</td>\n",
              "      <td>-1.957747</td>\n",
              "      <td>-0.278843</td>\n",
              "      <td>0.611999</td>\n",
              "      <td>-1.655302</td>\n",
              "      <td>-1.105829</td>\n",
              "      <td>1.429570</td>\n",
              "      <td>0.892416</td>\n",
              "      <td>-0.369701</td>\n",
              "      <td>0.304616</td>\n",
              "      <td>-0.666270</td>\n",
              "      <td>-1.799293</td>\n",
              "      <td>-0.099281</td>\n",
              "      <td>25.5</td>\n",
              "    </tr>\n",
              "    <tr>\n",
              "      <th>3</th>\n",
              "      <td>2015-01-01 04:00:00</td>\n",
              "      <td>-1.733587</td>\n",
              "      <td>-1.993622</td>\n",
              "      <td>-0.278843</td>\n",
              "      <td>0.978143</td>\n",
              "      <td>-2.153225</td>\n",
              "      <td>-1.206836</td>\n",
              "      <td>1.429997</td>\n",
              "      <td>1.428809</td>\n",
              "      <td>-0.430018</td>\n",
              "      <td>1.028899</td>\n",
              "      <td>-0.666270</td>\n",
              "      <td>-1.923540</td>\n",
              "      <td>-0.067566</td>\n",
              "      <td>18.5</td>\n",
              "    </tr>\n",
              "    <tr>\n",
              "      <th>4</th>\n",
              "      <td>2015-01-01 05:00:00</td>\n",
              "      <td>-1.733455</td>\n",
              "      <td>-2.020528</td>\n",
              "      <td>-0.278843</td>\n",
              "      <td>1.244430</td>\n",
              "      <td>-2.515350</td>\n",
              "      <td>-1.206836</td>\n",
              "      <td>1.428930</td>\n",
              "      <td>1.982505</td>\n",
              "      <td>-0.128432</td>\n",
              "      <td>0.666758</td>\n",
              "      <td>-0.443648</td>\n",
              "      <td>-1.892478</td>\n",
              "      <td>-0.067566</td>\n",
              "      <td>22.5</td>\n",
              "    </tr>\n",
              "  </tbody>\n",
              "</table>\n",
              "</div>"
            ],
            "text/plain": [
              "                 date     index       tem  ...       NO2        O3  value_tomm\n",
              "0 2015-01-01 01:00:00 -1.733982 -1.868058  ... -1.612923 -0.067566        21.0\n",
              "1 2015-01-01 02:00:00 -1.733851 -1.921871  ... -1.675046 -0.099281        23.0\n",
              "2 2015-01-01 03:00:00 -1.733719 -1.957747  ... -1.799293 -0.099281        25.5\n",
              "3 2015-01-01 04:00:00 -1.733587 -1.993622  ... -1.923540 -0.067566        18.5\n",
              "4 2015-01-01 05:00:00 -1.733455 -2.020528  ... -1.892478 -0.067566        22.5\n",
              "\n",
              "[5 rows x 15 columns]"
            ]
          },
          "metadata": {
            "tags": []
          },
          "execution_count": 24
        }
      ]
    },
    {
      "cell_type": "code",
      "metadata": {
        "colab": {
          "base_uri": "https://localhost:8080/",
          "height": 395
        },
        "id": "DHP8vHV5AoW4",
        "outputId": "64cd534d-9cd3-4b80-d517-5b884f5dbac6"
      },
      "source": [
        "train_shuffled = train_scaled.iloc[np.random.permutation(train_scaled.index)].reset_index(drop=True)\n",
        "train_shuffled.head()"
      ],
      "execution_count": 25,
      "outputs": [
        {
          "output_type": "execute_result",
          "data": {
            "text/html": [
              "<div>\n",
              "<style scoped>\n",
              "    .dataframe tbody tr th:only-of-type {\n",
              "        vertical-align: middle;\n",
              "    }\n",
              "\n",
              "    .dataframe tbody tr th {\n",
              "        vertical-align: top;\n",
              "    }\n",
              "\n",
              "    .dataframe thead th {\n",
              "        text-align: right;\n",
              "    }\n",
              "</style>\n",
              "<table border=\"1\" class=\"dataframe\">\n",
              "  <thead>\n",
              "    <tr style=\"text-align: right;\">\n",
              "      <th></th>\n",
              "      <th>date</th>\n",
              "      <th>index</th>\n",
              "      <th>tem</th>\n",
              "      <th>rain</th>\n",
              "      <th>wind_x</th>\n",
              "      <th>wind_y</th>\n",
              "      <th>hum</th>\n",
              "      <th>pre</th>\n",
              "      <th>PM10</th>\n",
              "      <th>PM25</th>\n",
              "      <th>SO2</th>\n",
              "      <th>CO</th>\n",
              "      <th>NO2</th>\n",
              "      <th>O3</th>\n",
              "      <th>value_tomm</th>\n",
              "    </tr>\n",
              "  </thead>\n",
              "  <tbody>\n",
              "    <tr>\n",
              "      <th>0</th>\n",
              "      <td>2017-12-18 05:00:00</td>\n",
              "      <td>1.687387</td>\n",
              "      <td>-1.679713</td>\n",
              "      <td>0.000439</td>\n",
              "      <td>-0.315532</td>\n",
              "      <td>-0.316505</td>\n",
              "      <td>1.116317</td>\n",
              "      <td>-0.722721</td>\n",
              "      <td>-0.301491</td>\n",
              "      <td>-0.309384</td>\n",
              "      <td>0.304616</td>\n",
              "      <td>-0.888892</td>\n",
              "      <td>-0.215144</td>\n",
              "      <td>-1.114186</td>\n",
              "      <td>44.0</td>\n",
              "    </tr>\n",
              "    <tr>\n",
              "      <th>1</th>\n",
              "      <td>2017-02-17 15:00:00</td>\n",
              "      <td>0.727581</td>\n",
              "      <td>-0.926331</td>\n",
              "      <td>0.041864</td>\n",
              "      <td>0.512141</td>\n",
              "      <td>-1.519505</td>\n",
              "      <td>-1.459352</td>\n",
              "      <td>-0.724855</td>\n",
              "      <td>0.823204</td>\n",
              "      <td>-0.233501</td>\n",
              "      <td>-0.419667</td>\n",
              "      <td>-0.666270</td>\n",
              "      <td>-1.302305</td>\n",
              "      <td>0.693613</td>\n",
              "      <td>28.5</td>\n",
              "    </tr>\n",
              "    <tr>\n",
              "      <th>2</th>\n",
              "      <td>2015-07-19 01:00:00</td>\n",
              "      <td>-1.104825</td>\n",
              "      <td>0.867434</td>\n",
              "      <td>-0.278843</td>\n",
              "      <td>0.546424</td>\n",
              "      <td>0.366434</td>\n",
              "      <td>1.166820</td>\n",
              "      <td>1.404181</td>\n",
              "      <td>-0.353400</td>\n",
              "      <td>-0.068114</td>\n",
              "      <td>-0.057525</td>\n",
              "      <td>-0.888892</td>\n",
              "      <td>-1.022749</td>\n",
              "      <td>0.661897</td>\n",
              "      <td>24.0</td>\n",
              "    </tr>\n",
              "    <tr>\n",
              "      <th>3</th>\n",
              "      <td>2017-08-15 03:00:00</td>\n",
              "      <td>1.291925</td>\n",
              "      <td>0.831559</td>\n",
              "      <td>2.387034</td>\n",
              "      <td>0.321650</td>\n",
              "      <td>-1.036739</td>\n",
              "      <td>1.469840</td>\n",
              "      <td>-0.677917</td>\n",
              "      <td>-1.408883</td>\n",
              "      <td>-1.334778</td>\n",
              "      <td>-0.781809</td>\n",
              "      <td>-1.556759</td>\n",
              "      <td>-1.768231</td>\n",
              "      <td>-0.575018</td>\n",
              "      <td>5.5</td>\n",
              "    </tr>\n",
              "    <tr>\n",
              "      <th>4</th>\n",
              "      <td>2015-09-05 03:00:00</td>\n",
              "      <td>-0.952806</td>\n",
              "      <td>0.885372</td>\n",
              "      <td>-0.087538</td>\n",
              "      <td>-0.495979</td>\n",
              "      <td>0.649243</td>\n",
              "      <td>1.065813</td>\n",
              "      <td>1.405248</td>\n",
              "      <td>-0.491824</td>\n",
              "      <td>-0.430018</td>\n",
              "      <td>-0.781809</td>\n",
              "      <td>0.446841</td>\n",
              "      <td>-0.463638</td>\n",
              "      <td>0.598466</td>\n",
              "      <td>19.0</td>\n",
              "    </tr>\n",
              "  </tbody>\n",
              "</table>\n",
              "</div>"
            ],
            "text/plain": [
              "                 date     index       tem  ...       NO2        O3  value_tomm\n",
              "0 2017-12-18 05:00:00  1.687387 -1.679713  ... -0.215144 -1.114186        44.0\n",
              "1 2017-02-17 15:00:00  0.727581 -0.926331  ... -1.302305  0.693613        28.5\n",
              "2 2015-07-19 01:00:00 -1.104825  0.867434  ... -1.022749  0.661897        24.0\n",
              "3 2017-08-15 03:00:00  1.291925  0.831559  ... -1.768231 -0.575018         5.5\n",
              "4 2015-09-05 03:00:00 -0.952806  0.885372  ... -0.463638  0.598466        19.0\n",
              "\n",
              "[5 rows x 15 columns]"
            ]
          },
          "metadata": {
            "tags": []
          },
          "execution_count": 25
        }
      ]
    },
    {
      "cell_type": "code",
      "metadata": {
        "id": "BVDOQsPcKDB8"
      },
      "source": [
        "train_scaled = train_scaled.set_index('date').dropna(how='any')\n",
        "val_scaled = val_scaled.set_index('date').dropna(how='any')\n",
        "test_scaled = test_scaled.set_index('date').dropna(how='any')"
      ],
      "execution_count": 26,
      "outputs": []
    },
    {
      "cell_type": "code",
      "metadata": {
        "id": "jFwY-9KD-YQ_"
      },
      "source": [
        "def make_dataset(dataframe, shuffle=True, batch_size=32):\n",
        "  dataframe = dataframe.copy()\n",
        "  labels = dataframe.pop('value_tomm')\n",
        "  ds = tf.data.Dataset.from_tensor_slices((dict(dataframe), labels))\n",
        "\n",
        "  if shuffle:\n",
        "    ds = ds.shuffle(buffer_size=len(dataframe))\n",
        "  ds = ds.batch(batch_size)\n",
        "  return ds"
      ],
      "execution_count": 27,
      "outputs": []
    },
    {
      "cell_type": "code",
      "metadata": {
        "id": "VFq6_4dV-YOo"
      },
      "source": [
        "batch_size=256\n",
        "train_ds = make_dataset(train_scaled, batch_size=batch_size)\n",
        "val_ds = make_dataset(val_scaled, shuffle=False, batch_size = batch_size)\n",
        "test_ds = make_dataset(test_scaled, shuffle=False, batch_size=batch_size)"
      ],
      "execution_count": 28,
      "outputs": []
    },
    {
      "cell_type": "code",
      "metadata": {
        "id": "2t-wEKWr-YMA"
      },
      "source": [
        "import tensorflow as tf\n",
        "from tensorflow import feature_column\n",
        "from tensorflow.keras import layers\n",
        "\n",
        "feature_columns = []\n",
        "for header in ['SO2'\t,'CO'\t,'O3',\t'NO2',\t'PM10',\t'PM25',\t'tem',\t'rain',\t'hum',\t'pre',\t'wind_x',\t'wind_y']:\n",
        "  feature_columns.append(feature_column.numeric_column(header))"
      ],
      "execution_count": 29,
      "outputs": []
    },
    {
      "cell_type": "code",
      "metadata": {
        "id": "Lm606vGRACKO"
      },
      "source": [
        "feature_layer = tf.keras.layers.DenseFeatures(feature_columns)"
      ],
      "execution_count": 30,
      "outputs": []
    },
    {
      "cell_type": "code",
      "metadata": {
        "id": "EC8wFbStACHu"
      },
      "source": [
        "from keras.models import Sequential\n",
        "from keras.layers import Dense, Dropout\n",
        "from tensorflow.keras import layers\n",
        "from tensorflow.keras import initializers\n",
        "from tensorflow import keras\n",
        "\n",
        "initializer = tf.keras.initializers.he_normal(seed=None)\n",
        "\n",
        "model = tf.keras.Sequential([\n",
        "  feature_layer,\n",
        "  layers.Dense(units=64, activation='relu'),\n",
        "  layers.Dropout(0.2),\n",
        "  layers.Dense(units=32, activation='relu'),\n",
        "  layers.Dropout(0.2),\n",
        "  layers.Dense(units=1, activation='relu')\n",
        "])\n",
        "model.compile(optimizer='adam',\n",
        "              loss='mse',\n",
        "              metrics=['mae'])"
      ],
      "execution_count": 31,
      "outputs": []
    },
    {
      "cell_type": "code",
      "metadata": {
        "colab": {
          "base_uri": "https://localhost:8080/"
        },
        "id": "N_ZAbegzACFM",
        "outputId": "464a700c-555f-4655-8288-b0d5851048bc"
      },
      "source": [
        "checkpoint_cb = keras.callbacks.ModelCheckpoint('best-deepneural-model.h5')\n",
        "early_stopping_cb = keras.callbacks.EarlyStopping(patience=5, restore_best_weights=True)\n",
        "\n",
        "history = model.fit(train_ds,\n",
        "          validation_data=val_ds,\n",
        "          epochs=50,\n",
        "          callbacks = [checkpoint_cb, early_stopping_cb])"
      ],
      "execution_count": 32,
      "outputs": [
        {
          "output_type": "stream",
          "text": [
            "Epoch 1/50\n",
            "WARNING:tensorflow:Layers in a Sequential model should only have a single input tensor, but we receive a <class 'dict'> input: {'index': <tf.Tensor 'ExpandDims_7:0' shape=(None, 1) dtype=float64>, 'tem': <tf.Tensor 'ExpandDims_10:0' shape=(None, 1) dtype=float64>, 'rain': <tf.Tensor 'ExpandDims_9:0' shape=(None, 1) dtype=float64>, 'wind_x': <tf.Tensor 'ExpandDims_11:0' shape=(None, 1) dtype=float64>, 'wind_y': <tf.Tensor 'ExpandDims_12:0' shape=(None, 1) dtype=float64>, 'hum': <tf.Tensor 'ExpandDims_6:0' shape=(None, 1) dtype=float64>, 'pre': <tf.Tensor 'ExpandDims_8:0' shape=(None, 1) dtype=float64>, 'PM10': <tf.Tensor 'ExpandDims_3:0' shape=(None, 1) dtype=float64>, 'PM25': <tf.Tensor 'ExpandDims_4:0' shape=(None, 1) dtype=float64>, 'SO2': <tf.Tensor 'ExpandDims_5:0' shape=(None, 1) dtype=float64>, 'CO': <tf.Tensor 'ExpandDims:0' shape=(None, 1) dtype=float64>, 'NO2': <tf.Tensor 'ExpandDims_1:0' shape=(None, 1) dtype=float64>, 'O3': <tf.Tensor 'ExpandDims_2:0' shape=(None, 1) dtype=float64>}\n",
            "Consider rewriting this model with the Functional API.\n",
            "WARNING:tensorflow:Layers in a Sequential model should only have a single input tensor, but we receive a <class 'dict'> input: {'index': <tf.Tensor 'ExpandDims_7:0' shape=(None, 1) dtype=float64>, 'tem': <tf.Tensor 'ExpandDims_10:0' shape=(None, 1) dtype=float64>, 'rain': <tf.Tensor 'ExpandDims_9:0' shape=(None, 1) dtype=float64>, 'wind_x': <tf.Tensor 'ExpandDims_11:0' shape=(None, 1) dtype=float64>, 'wind_y': <tf.Tensor 'ExpandDims_12:0' shape=(None, 1) dtype=float64>, 'hum': <tf.Tensor 'ExpandDims_6:0' shape=(None, 1) dtype=float64>, 'pre': <tf.Tensor 'ExpandDims_8:0' shape=(None, 1) dtype=float64>, 'PM10': <tf.Tensor 'ExpandDims_3:0' shape=(None, 1) dtype=float64>, 'PM25': <tf.Tensor 'ExpandDims_4:0' shape=(None, 1) dtype=float64>, 'SO2': <tf.Tensor 'ExpandDims_5:0' shape=(None, 1) dtype=float64>, 'CO': <tf.Tensor 'ExpandDims:0' shape=(None, 1) dtype=float64>, 'NO2': <tf.Tensor 'ExpandDims_1:0' shape=(None, 1) dtype=float64>, 'O3': <tf.Tensor 'ExpandDims_2:0' shape=(None, 1) dtype=float64>}\n",
            "Consider rewriting this model with the Functional API.\n",
            "100/103 [============================>.] - ETA: 0s - loss: 3258.7964 - mae: 46.1155WARNING:tensorflow:Layers in a Sequential model should only have a single input tensor, but we receive a <class 'dict'> input: {'index': <tf.Tensor 'ExpandDims_7:0' shape=(None, 1) dtype=float64>, 'tem': <tf.Tensor 'ExpandDims_10:0' shape=(None, 1) dtype=float64>, 'rain': <tf.Tensor 'ExpandDims_9:0' shape=(None, 1) dtype=float64>, 'wind_x': <tf.Tensor 'ExpandDims_11:0' shape=(None, 1) dtype=float64>, 'wind_y': <tf.Tensor 'ExpandDims_12:0' shape=(None, 1) dtype=float64>, 'hum': <tf.Tensor 'ExpandDims_6:0' shape=(None, 1) dtype=float64>, 'pre': <tf.Tensor 'ExpandDims_8:0' shape=(None, 1) dtype=float64>, 'PM10': <tf.Tensor 'ExpandDims_3:0' shape=(None, 1) dtype=float64>, 'PM25': <tf.Tensor 'ExpandDims_4:0' shape=(None, 1) dtype=float64>, 'SO2': <tf.Tensor 'ExpandDims_5:0' shape=(None, 1) dtype=float64>, 'CO': <tf.Tensor 'ExpandDims:0' shape=(None, 1) dtype=float64>, 'NO2': <tf.Tensor 'ExpandDims_1:0' shape=(None, 1) dtype=float64>, 'O3': <tf.Tensor 'ExpandDims_2:0' shape=(None, 1) dtype=float64>}\n",
            "Consider rewriting this model with the Functional API.\n",
            "103/103 [==============================] - 2s 11ms/step - loss: 3249.4615 - mae: 45.9694 - val_loss: 1731.7684 - val_mae: 31.9185\n",
            "Epoch 2/50\n",
            "103/103 [==============================] - 1s 6ms/step - loss: 1717.0537 - mae: 25.5768 - val_loss: 1034.3298 - val_mae: 22.9745\n",
            "Epoch 3/50\n",
            "103/103 [==============================] - 1s 6ms/step - loss: 1307.6107 - mae: 20.8997 - val_loss: 966.7599 - val_mae: 22.4239\n",
            "Epoch 4/50\n",
            "103/103 [==============================] - 1s 6ms/step - loss: 1147.8633 - mae: 20.1358 - val_loss: 963.9777 - val_mae: 22.4647\n",
            "Epoch 5/50\n",
            "103/103 [==============================] - 1s 6ms/step - loss: 1274.7488 - mae: 19.8852 - val_loss: 956.4147 - val_mae: 22.4183\n",
            "Epoch 6/50\n",
            "103/103 [==============================] - 1s 6ms/step - loss: 1076.2926 - mae: 19.2769 - val_loss: 948.5985 - val_mae: 22.3531\n",
            "Epoch 7/50\n",
            "103/103 [==============================] - 1s 6ms/step - loss: 1046.4422 - mae: 19.3132 - val_loss: 949.3098 - val_mae: 22.3919\n",
            "Epoch 8/50\n",
            "103/103 [==============================] - 1s 6ms/step - loss: 1070.8635 - mae: 19.3636 - val_loss: 963.8229 - val_mae: 22.5971\n",
            "Epoch 9/50\n",
            "103/103 [==============================] - 1s 6ms/step - loss: 1088.6260 - mae: 19.0584 - val_loss: 953.4773 - val_mae: 22.4459\n",
            "Epoch 10/50\n",
            "103/103 [==============================] - 1s 6ms/step - loss: 1132.9960 - mae: 19.3855 - val_loss: 956.6369 - val_mae: 22.5196\n",
            "Epoch 11/50\n",
            "103/103 [==============================] - 1s 6ms/step - loss: 1064.4226 - mae: 19.2705 - val_loss: 965.6080 - val_mae: 22.6689\n"
          ],
          "name": "stdout"
        }
      ]
    },
    {
      "cell_type": "code",
      "metadata": {
        "colab": {
          "base_uri": "https://localhost:8080/",
          "height": 279
        },
        "id": "KWydWSRbA7In",
        "outputId": "a01262c9-b117-423c-ce6e-cccdc64fafa0"
      },
      "source": [
        "import matplotlib.pyplot as plt\n",
        "\n",
        "plt.plot(history.history['loss'])\n",
        "plt.plot(history.history['val_loss'])\n",
        "plt.xlabel('epoch')\n",
        "plt.ylabel('loss')\n",
        "plt.show()"
      ],
      "execution_count": 33,
      "outputs": [
        {
          "output_type": "display_data",
          "data": {
            "image/png": "[encoded data removed]",
            "text/plain": [
              "<Figure size 432x288 with 1 Axes>"
            ]
          },
          "metadata": {
            "tags": [],
            "needs_background": "light"
          }
        }
      ]
    },
    {
      "cell_type": "code",
      "metadata": {
        "id": "lRXG5mYeA8W9",
        "colab": {
          "base_uri": "https://localhost:8080/"
        },
        "outputId": "c8343786-1436-446a-a438-26b825d1b90b"
      },
      "source": [
        "pred = model.predict(test_ds)"
      ],
      "execution_count": 34,
      "outputs": [
        {
          "output_type": "stream",
          "text": [
            "WARNING:tensorflow:Layers in a Sequential model should only have a single input tensor, but we receive a <class 'dict'> input: {'index': <tf.Tensor 'ExpandDims_7:0' shape=(None, 1) dtype=float64>, 'tem': <tf.Tensor 'ExpandDims_10:0' shape=(None, 1) dtype=float64>, 'rain': <tf.Tensor 'ExpandDims_9:0' shape=(None, 1) dtype=float64>, 'wind_x': <tf.Tensor 'ExpandDims_11:0' shape=(None, 1) dtype=float64>, 'wind_y': <tf.Tensor 'ExpandDims_12:0' shape=(None, 1) dtype=float64>, 'hum': <tf.Tensor 'ExpandDims_6:0' shape=(None, 1) dtype=float64>, 'pre': <tf.Tensor 'ExpandDims_8:0' shape=(None, 1) dtype=float64>, 'PM10': <tf.Tensor 'ExpandDims_3:0' shape=(None, 1) dtype=float64>, 'PM25': <tf.Tensor 'ExpandDims_4:0' shape=(None, 1) dtype=float64>, 'SO2': <tf.Tensor 'ExpandDims_5:0' shape=(None, 1) dtype=float64>, 'CO': <tf.Tensor 'ExpandDims:0' shape=(None, 1) dtype=float64>, 'NO2': <tf.Tensor 'ExpandDims_1:0' shape=(None, 1) dtype=float64>, 'O3': <tf.Tensor 'ExpandDims_2:0' shape=(None, 1) dtype=float64>}\n",
            "Consider rewriting this model with the Functional API.\n"
          ],
          "name": "stdout"
        }
      ]
    },
    {
      "cell_type": "code",
      "metadata": {
        "colab": {
          "base_uri": "https://localhost:8080/",
          "height": 269
        },
        "id": "KWgMcqDjA9zy",
        "outputId": "4ca0333b-0c42-4a32-b841-7c66cb0da5a6"
      },
      "source": [
        "plt.figure(figsize=(12,9))\n",
        "plt.plot(test_label, label='actual')\n",
        "plt.plot(pred, label='prediction')\n",
        "plt.legend()\n",
        "plt.show()"
      ],
      "execution_count": 35,
      "outputs": [
        {
          "output_type": "error",
          "ename": "NameError",
          "evalue": "ignored",
          "traceback": [
            "\u001b[0;31m---------------------------------------------------------------------------\u001b[0m",
            "\u001b[0;31mNameError\u001b[0m                                 Traceback (most recent call last)",
            "\u001b[0;32m<ipython-input-35-acad0df0c751>\u001b[0m in \u001b[0;36m<module>\u001b[0;34m()\u001b[0m\n\u001b[1;32m      1\u001b[0m \u001b[0mplt\u001b[0m\u001b[0;34m.\u001b[0m\u001b[0mfigure\u001b[0m\u001b[0;34m(\u001b[0m\u001b[0mfigsize\u001b[0m\u001b[0;34m=\u001b[0m\u001b[0;34m(\u001b[0m\u001b[0;36m12\u001b[0m\u001b[0;34m,\u001b[0m\u001b[0;36m9\u001b[0m\u001b[0;34m)\u001b[0m\u001b[0;34m)\u001b[0m\u001b[0;34m\u001b[0m\u001b[0;34m\u001b[0m\u001b[0m\n\u001b[0;32m----> 2\u001b[0;31m \u001b[0mplt\u001b[0m\u001b[0;34m.\u001b[0m\u001b[0mplot\u001b[0m\u001b[0;34m(\u001b[0m\u001b[0mtest_label\u001b[0m\u001b[0;34m,\u001b[0m \u001b[0mlabel\u001b[0m\u001b[0;34m=\u001b[0m\u001b[0;34m'actual'\u001b[0m\u001b[0;34m)\u001b[0m\u001b[0;34m\u001b[0m\u001b[0;34m\u001b[0m\u001b[0m\n\u001b[0m\u001b[1;32m      3\u001b[0m \u001b[0mplt\u001b[0m\u001b[0;34m.\u001b[0m\u001b[0mplot\u001b[0m\u001b[0;34m(\u001b[0m\u001b[0mpred\u001b[0m\u001b[0;34m,\u001b[0m \u001b[0mlabel\u001b[0m\u001b[0;34m=\u001b[0m\u001b[0;34m'prediction'\u001b[0m\u001b[0;34m)\u001b[0m\u001b[0;34m\u001b[0m\u001b[0;34m\u001b[0m\u001b[0m\n\u001b[1;32m      4\u001b[0m \u001b[0mplt\u001b[0m\u001b[0;34m.\u001b[0m\u001b[0mlegend\u001b[0m\u001b[0;34m(\u001b[0m\u001b[0;34m)\u001b[0m\u001b[0;34m\u001b[0m\u001b[0;34m\u001b[0m\u001b[0m\n\u001b[1;32m      5\u001b[0m \u001b[0mplt\u001b[0m\u001b[0;34m.\u001b[0m\u001b[0mshow\u001b[0m\u001b[0;34m(\u001b[0m\u001b[0;34m)\u001b[0m\u001b[0;34m\u001b[0m\u001b[0;34m\u001b[0m\u001b[0m\n",
            "\u001b[0;31mNameError\u001b[0m: name 'test_label' is not defined"
          ]
        },
        {
          "output_type": "display_data",
          "data": {
            "text/plain": [
              "<Figure size 864x648 with 0 Axes>"
            ]
          },
          "metadata": {
            "tags": []
          }
        }
      ]
    },
    {
      "cell_type": "code",
      "metadata": {
        "id": "KK61Jq8_Avgf"
      },
      "source": [
        "feature_col = ['PM10','PM25','SO2','CO','O3','NO2','tem','rain','hum','pre','wind_x','wind_y']\n",
        "label_col = ['value_tomm']"
      ],
      "execution_count": 36,
      "outputs": []
    },
    {
      "cell_type": "code",
      "metadata": {
        "id": "ZWxFkAO1K9oL"
      },
      "source": [
        "train_shuffled = train_shuffled.dropna(how='any')\n",
        "val_scaled = val_scaled.dropna(how='any')\n",
        "test_scaled = test_scaled.dropna(how='any')"
      ],
      "execution_count": 37,
      "outputs": []
    },
    {
      "cell_type": "code",
      "metadata": {
        "colab": {
          "base_uri": "https://localhost:8080/"
        },
        "id": "JG99-GKlAxCi",
        "outputId": "1ee5a653-aa78-4fa7-be06-60e52856a475"
      },
      "source": [
        "train_feature = train_shuffled[feature_col]\n",
        "train_label = train_shuffled[label_col]\n",
        "valid_feature = val_scaled[feature_col]\n",
        "valid_label = val_scaled[label_col]\n",
        "test_feature = test_scaled[feature_col]\n",
        "test_label = test_scaled[label_col]\n",
        "print(train_feature.shape, train_label.shape)\n",
        "print(valid_feature.shape, valid_label.shape)\n",
        "print(test_feature.shape, test_label.shape)"
      ],
      "execution_count": 38,
      "outputs": [
        {
          "output_type": "stream",
          "text": [
            "(26178, 12) (26178, 1)\n",
            "(17520, 12) (17520, 1)\n",
            "(7291, 12) (7291, 1)\n"
          ],
          "name": "stdout"
        }
      ]
    },
    {
      "cell_type": "code",
      "metadata": {
        "colab": {
          "base_uri": "https://localhost:8080/"
        },
        "id": "2I4JjaPFAxAu",
        "outputId": "300a4f06-b0fe-4134-dda2-3b7b4ecaa7e9"
      },
      "source": [
        "from tensorflow.keras import layers\n",
        "from tensorflow import keras\n",
        "\n",
        "model = tf.keras.Sequential()\n",
        "model.add(layers.Dense(64, activation='relu', input_shape=(train_feature.shape[1],),))\n",
        "model.add(layers.Dense(32, activation='relu'))\n",
        "model.add(layers.Dense(1, activation='relu'))\n",
        "model.compile(optimizer='adam', loss='mse',metrics=['mae'])\n",
        "model"
      ],
      "execution_count": 39,
      "outputs": [
        {
          "output_type": "execute_result",
          "data": {
            "text/plain": [
              "<tensorflow.python.keras.engine.sequential.Sequential at 0x7f04e1ec2a10>"
            ]
          },
          "metadata": {
            "tags": []
          },
          "execution_count": 39
        }
      ]
    },
    {
      "cell_type": "code",
      "metadata": {
        "colab": {
          "base_uri": "https://localhost:8080/"
        },
        "id": "VQR6OkYwchLB",
        "outputId": "8ecb13ae-b2e2-4342-a333-663f2c34934f"
      },
      "source": [
        "checkpoint_cb = keras.callbacks.ModelCheckpoint('best-deepneural-model.h5')\n",
        "early_stopping_cb = keras.callbacks.EarlyStopping(patience=3, restore_best_weights=True, monitor='val_loss')\n",
        "#patience = 성능이 증가하지 않는 epoch 몇번까지 허용하는지\n",
        "history = model.fit(train_feature, train_label,\n",
        "          validation_data=(valid_feature,valid_label),\n",
        "          epochs=50,\n",
        "          callbacks = [checkpoint_cb, early_stopping_cb])"
      ],
      "execution_count": 40,
      "outputs": [
        {
          "output_type": "stream",
          "text": [
            "Epoch 1/50\n",
            "819/819 [==============================] - 2s 2ms/step - loss: 1951.9195 - mae: 29.9950 - val_loss: 935.0396 - val_mae: 22.2303\n",
            "Epoch 2/50\n",
            "819/819 [==============================] - 2s 2ms/step - loss: 1090.0783 - mae: 18.7700 - val_loss: 977.4740 - val_mae: 23.0002\n",
            "Epoch 3/50\n",
            "819/819 [==============================] - 2s 2ms/step - loss: 1025.0023 - mae: 18.3804 - val_loss: 968.0778 - val_mae: 22.9044\n",
            "Epoch 4/50\n",
            "819/819 [==============================] - 2s 2ms/step - loss: 929.8328 - mae: 18.0935 - val_loss: 978.2209 - val_mae: 23.1822\n"
          ],
          "name": "stdout"
        }
      ]
    },
    {
      "cell_type": "code",
      "metadata": {
        "colab": {
          "base_uri": "https://localhost:8080/",
          "height": 279
        },
        "id": "Wg3LQlGoAw88",
        "outputId": "03104ae1-12f4-4607-b737-69f65a24f8a7"
      },
      "source": [
        "import matplotlib.pyplot as plt\n",
        "\n",
        "plt.plot(history.history['loss'])\n",
        "plt.plot(history.history['val_loss'])\n",
        "plt.xlabel('epoch')\n",
        "plt.ylabel('loss')\n",
        "plt.show()"
      ],
      "execution_count": 41,
      "outputs": [
        {
          "output_type": "display_data",
          "data": {
            "image/png": "[encoded data removed]",
            "text/plain": [
              "<Figure size 432x288 with 1 Axes>"
            ]
          },
          "metadata": {
            "tags": [],
            "needs_background": "light"
          }
        }
      ]
    },
    {
      "cell_type": "code",
      "metadata": {
        "colab": {
          "base_uri": "https://localhost:8080/"
        },
        "id": "g2VG4vGYAw61",
        "outputId": "8ecacbec-2f2c-4719-addc-61796c448421"
      },
      "source": [
        "pred = model.predict(test_feature)\n",
        "print('Loss', model.evaluate(test_feature, test_label))"
      ],
      "execution_count": 42,
      "outputs": [
        {
          "output_type": "stream",
          "text": [
            "228/228 [==============================] - 0s 847us/step - loss: 616.0460 - mae: 20.4131\n",
            "Loss [616.0460205078125, 20.413114547729492]\n"
          ],
          "name": "stdout"
        }
      ]
    },
    {
      "cell_type": "code",
      "metadata": {
        "colab": {
          "base_uri": "https://localhost:8080/",
          "height": 387
        },
        "id": "ro1Com_nAw4x",
        "outputId": "40c4a740-8a1c-4b54-af62-85c1f59ca2fa"
      },
      "source": [
        "plt.plot(test_label, label='actual')\n",
        "plt.plot(pred, label='prediction')\n",
        "plt.legend()\n",
        "plt.show()"
      ],
      "execution_count": 43,
      "outputs": [
        {
          "output_type": "error",
          "ename": "ValueError",
          "evalue": "ignored",
          "traceback": [
            "\u001b[0;31m---------------------------------------------------------------------------\u001b[0m",
            "\u001b[0;31mValueError\u001b[0m                                Traceback (most recent call last)",
            "\u001b[0;32m<ipython-input-43-bfe55607b312>\u001b[0m in \u001b[0;36m<module>\u001b[0;34m()\u001b[0m\n\u001b[1;32m      2\u001b[0m \u001b[0mplt\u001b[0m\u001b[0;34m.\u001b[0m\u001b[0mplot\u001b[0m\u001b[0;34m(\u001b[0m\u001b[0mpred\u001b[0m\u001b[0;34m,\u001b[0m \u001b[0mlabel\u001b[0m\u001b[0;34m=\u001b[0m\u001b[0;34m'prediction'\u001b[0m\u001b[0;34m)\u001b[0m\u001b[0;34m\u001b[0m\u001b[0;34m\u001b[0m\u001b[0m\n\u001b[1;32m      3\u001b[0m \u001b[0mplt\u001b[0m\u001b[0;34m.\u001b[0m\u001b[0mlegend\u001b[0m\u001b[0;34m(\u001b[0m\u001b[0;34m)\u001b[0m\u001b[0;34m\u001b[0m\u001b[0;34m\u001b[0m\u001b[0m\n\u001b[0;32m----> 4\u001b[0;31m \u001b[0mplt\u001b[0m\u001b[0;34m.\u001b[0m\u001b[0mshow\u001b[0m\u001b[0;34m(\u001b[0m\u001b[0;34m)\u001b[0m\u001b[0;34m\u001b[0m\u001b[0;34m\u001b[0m\u001b[0m\n\u001b[0m",
            "\u001b[0;32m/usr/local/lib/python3.7/dist-packages/matplotlib/pyplot.py\u001b[0m in \u001b[0;36mshow\u001b[0;34m(*args, **kw)\u001b[0m\n\u001b[1;32m    270\u001b[0m     \"\"\"\n\u001b[1;32m    271\u001b[0m     \u001b[0;32mglobal\u001b[0m \u001b[0m_show\u001b[0m\u001b[0;34m\u001b[0m\u001b[0;34m\u001b[0m\u001b[0m\n\u001b[0;32m--> 272\u001b[0;31m     \u001b[0;32mreturn\u001b[0m \u001b[0m_show\u001b[0m\u001b[0;34m(\u001b[0m\u001b[0;34m*\u001b[0m\u001b[0margs\u001b[0m\u001b[0;34m,\u001b[0m \u001b[0;34m**\u001b[0m\u001b[0mkw\u001b[0m\u001b[0;34m)\u001b[0m\u001b[0;34m\u001b[0m\u001b[0;34m\u001b[0m\u001b[0m\n\u001b[0m\u001b[1;32m    273\u001b[0m \u001b[0;34m\u001b[0m\u001b[0m\n\u001b[1;32m    274\u001b[0m \u001b[0;34m\u001b[0m\u001b[0m\n",
            "\u001b[0;32m/usr/local/lib/python3.7/dist-packages/ipykernel/pylab/backend_inline.py\u001b[0m in \u001b[0;36mshow\u001b[0;34m(close, block)\u001b[0m\n\u001b[1;32m     37\u001b[0m             display(\n\u001b[1;32m     38\u001b[0m                 \u001b[0mfigure_manager\u001b[0m\u001b[0;34m.\u001b[0m\u001b[0mcanvas\u001b[0m\u001b[0;34m.\u001b[0m\u001b[0mfigure\u001b[0m\u001b[0;34m,\u001b[0m\u001b[0;34m\u001b[0m\u001b[0;34m\u001b[0m\u001b[0m\n\u001b[0;32m---> 39\u001b[0;31m                 \u001b[0mmetadata\u001b[0m\u001b[0;34m=\u001b[0m\u001b[0m_fetch_figure_metadata\u001b[0m\u001b[0;34m(\u001b[0m\u001b[0mfigure_manager\u001b[0m\u001b[0;34m.\u001b[0m\u001b[0mcanvas\u001b[0m\u001b[0;34m.\u001b[0m\u001b[0mfigure\u001b[0m\u001b[0;34m)\u001b[0m\u001b[0;34m\u001b[0m\u001b[0;34m\u001b[0m\u001b[0m\n\u001b[0m\u001b[1;32m     40\u001b[0m             )\n\u001b[1;32m     41\u001b[0m     \u001b[0;32mfinally\u001b[0m\u001b[0;34m:\u001b[0m\u001b[0;34m\u001b[0m\u001b[0;34m\u001b[0m\u001b[0m\n",
            "\u001b[0;32m/usr/local/lib/python3.7/dist-packages/ipykernel/pylab/backend_inline.py\u001b[0m in \u001b[0;36m_fetch_figure_metadata\u001b[0;34m(fig)\u001b[0m\n\u001b[1;32m    175\u001b[0m         \u001b[0;31m# the background is transparent\u001b[0m\u001b[0;34m\u001b[0m\u001b[0;34m\u001b[0m\u001b[0;34m\u001b[0m\u001b[0m\n\u001b[1;32m    176\u001b[0m         ticksLight = _is_light([label.get_color()\n\u001b[0;32m--> 177\u001b[0;31m                                 \u001b[0;32mfor\u001b[0m \u001b[0maxes\u001b[0m \u001b[0;32min\u001b[0m \u001b[0mfig\u001b[0m\u001b[0;34m.\u001b[0m\u001b[0maxes\u001b[0m\u001b[0;34m\u001b[0m\u001b[0;34m\u001b[0m\u001b[0m\n\u001b[0m\u001b[1;32m    178\u001b[0m                                 \u001b[0;32mfor\u001b[0m \u001b[0maxis\u001b[0m \u001b[0;32min\u001b[0m \u001b[0;34m(\u001b[0m\u001b[0maxes\u001b[0m\u001b[0;34m.\u001b[0m\u001b[0mxaxis\u001b[0m\u001b[0;34m,\u001b[0m \u001b[0maxes\u001b[0m\u001b[0;34m.\u001b[0m\u001b[0myaxis\u001b[0m\u001b[0;34m)\u001b[0m\u001b[0;34m\u001b[0m\u001b[0;34m\u001b[0m\u001b[0m\n\u001b[1;32m    179\u001b[0m                                 for label in axis.get_ticklabels()])\n",
            "\u001b[0;32m/usr/local/lib/python3.7/dist-packages/ipykernel/pylab/backend_inline.py\u001b[0m in \u001b[0;36m<listcomp>\u001b[0;34m(.0)\u001b[0m\n\u001b[1;32m    177\u001b[0m                                 \u001b[0;32mfor\u001b[0m \u001b[0maxes\u001b[0m \u001b[0;32min\u001b[0m \u001b[0mfig\u001b[0m\u001b[0;34m.\u001b[0m\u001b[0maxes\u001b[0m\u001b[0;34m\u001b[0m\u001b[0;34m\u001b[0m\u001b[0m\n\u001b[1;32m    178\u001b[0m                                 \u001b[0;32mfor\u001b[0m \u001b[0maxis\u001b[0m \u001b[0;32min\u001b[0m \u001b[0;34m(\u001b[0m\u001b[0maxes\u001b[0m\u001b[0;34m.\u001b[0m\u001b[0mxaxis\u001b[0m\u001b[0;34m,\u001b[0m \u001b[0maxes\u001b[0m\u001b[0;34m.\u001b[0m\u001b[0myaxis\u001b[0m\u001b[0;34m)\u001b[0m\u001b[0;34m\u001b[0m\u001b[0;34m\u001b[0m\u001b[0m\n\u001b[0;32m--> 179\u001b[0;31m                                 for label in axis.get_ticklabels()])\n\u001b[0m\u001b[1;32m    180\u001b[0m         \u001b[0;32mif\u001b[0m \u001b[0mticksLight\u001b[0m\u001b[0;34m.\u001b[0m\u001b[0msize\u001b[0m \u001b[0;32mand\u001b[0m \u001b[0;34m(\u001b[0m\u001b[0mticksLight\u001b[0m \u001b[0;34m==\u001b[0m \u001b[0mticksLight\u001b[0m\u001b[0;34m[\u001b[0m\u001b[0;36m0\u001b[0m\u001b[0;34m]\u001b[0m\u001b[0;34m)\u001b[0m\u001b[0;34m.\u001b[0m\u001b[0mall\u001b[0m\u001b[0;34m(\u001b[0m\u001b[0;34m)\u001b[0m\u001b[0;34m:\u001b[0m\u001b[0;34m\u001b[0m\u001b[0;34m\u001b[0m\u001b[0m\n\u001b[1;32m    181\u001b[0m             \u001b[0;31m# there are one or more tick labels, all with the same lightness\u001b[0m\u001b[0;34m\u001b[0m\u001b[0;34m\u001b[0m\u001b[0;34m\u001b[0m\u001b[0m\n",
            "\u001b[0;32m/usr/local/lib/python3.7/dist-packages/matplotlib/axis.py\u001b[0m in \u001b[0;36mget_ticklabels\u001b[0;34m(self, minor, which)\u001b[0m\n\u001b[1;32m   1318\u001b[0m         \u001b[0;32mif\u001b[0m \u001b[0mminor\u001b[0m\u001b[0;34m:\u001b[0m\u001b[0;34m\u001b[0m\u001b[0;34m\u001b[0m\u001b[0m\n\u001b[1;32m   1319\u001b[0m             \u001b[0;32mreturn\u001b[0m \u001b[0mself\u001b[0m\u001b[0;34m.\u001b[0m\u001b[0mget_minorticklabels\u001b[0m\u001b[0;34m(\u001b[0m\u001b[0;34m)\u001b[0m\u001b[0;34m\u001b[0m\u001b[0;34m\u001b[0m\u001b[0m\n\u001b[0;32m-> 1320\u001b[0;31m         \u001b[0;32mreturn\u001b[0m \u001b[0mself\u001b[0m\u001b[0;34m.\u001b[0m\u001b[0mget_majorticklabels\u001b[0m\u001b[0;34m(\u001b[0m\u001b[0;34m)\u001b[0m\u001b[0;34m\u001b[0m\u001b[0;34m\u001b[0m\u001b[0m\n\u001b[0m\u001b[1;32m   1321\u001b[0m \u001b[0;34m\u001b[0m\u001b[0m\n\u001b[1;32m   1322\u001b[0m     \u001b[0;32mdef\u001b[0m \u001b[0mget_majorticklines\u001b[0m\u001b[0;34m(\u001b[0m\u001b[0mself\u001b[0m\u001b[0;34m)\u001b[0m\u001b[0;34m:\u001b[0m\u001b[0;34m\u001b[0m\u001b[0;34m\u001b[0m\u001b[0m\n",
            "\u001b[0;32m/usr/local/lib/python3.7/dist-packages/matplotlib/axis.py\u001b[0m in \u001b[0;36mget_majorticklabels\u001b[0;34m(self)\u001b[0m\n\u001b[1;32m   1274\u001b[0m     \u001b[0;32mdef\u001b[0m \u001b[0mget_majorticklabels\u001b[0m\u001b[0;34m(\u001b[0m\u001b[0mself\u001b[0m\u001b[0;34m)\u001b[0m\u001b[0;34m:\u001b[0m\u001b[0;34m\u001b[0m\u001b[0;34m\u001b[0m\u001b[0m\n\u001b[1;32m   1275\u001b[0m         \u001b[0;34m'Return a list of Text instances for the major ticklabels.'\u001b[0m\u001b[0;34m\u001b[0m\u001b[0;34m\u001b[0m\u001b[0m\n\u001b[0;32m-> 1276\u001b[0;31m         \u001b[0mticks\u001b[0m \u001b[0;34m=\u001b[0m \u001b[0mself\u001b[0m\u001b[0;34m.\u001b[0m\u001b[0mget_major_ticks\u001b[0m\u001b[0;34m(\u001b[0m\u001b[0;34m)\u001b[0m\u001b[0;34m\u001b[0m\u001b[0;34m\u001b[0m\u001b[0m\n\u001b[0m\u001b[1;32m   1277\u001b[0m         \u001b[0mlabels1\u001b[0m \u001b[0;34m=\u001b[0m \u001b[0;34m[\u001b[0m\u001b[0mtick\u001b[0m\u001b[0;34m.\u001b[0m\u001b[0mlabel1\u001b[0m \u001b[0;32mfor\u001b[0m \u001b[0mtick\u001b[0m \u001b[0;32min\u001b[0m \u001b[0mticks\u001b[0m \u001b[0;32mif\u001b[0m \u001b[0mtick\u001b[0m\u001b[0;34m.\u001b[0m\u001b[0mlabel1\u001b[0m\u001b[0;34m.\u001b[0m\u001b[0mget_visible\u001b[0m\u001b[0;34m(\u001b[0m\u001b[0;34m)\u001b[0m\u001b[0;34m]\u001b[0m\u001b[0;34m\u001b[0m\u001b[0;34m\u001b[0m\u001b[0m\n\u001b[1;32m   1278\u001b[0m         \u001b[0mlabels2\u001b[0m \u001b[0;34m=\u001b[0m \u001b[0;34m[\u001b[0m\u001b[0mtick\u001b[0m\u001b[0;34m.\u001b[0m\u001b[0mlabel2\u001b[0m \u001b[0;32mfor\u001b[0m \u001b[0mtick\u001b[0m \u001b[0;32min\u001b[0m \u001b[0mticks\u001b[0m \u001b[0;32mif\u001b[0m \u001b[0mtick\u001b[0m\u001b[0;34m.\u001b[0m\u001b[0mlabel2\u001b[0m\u001b[0;34m.\u001b[0m\u001b[0mget_visible\u001b[0m\u001b[0;34m(\u001b[0m\u001b[0;34m)\u001b[0m\u001b[0;34m]\u001b[0m\u001b[0;34m\u001b[0m\u001b[0;34m\u001b[0m\u001b[0m\n",
            "\u001b[0;32m/usr/local/lib/python3.7/dist-packages/matplotlib/axis.py\u001b[0m in \u001b[0;36mget_major_ticks\u001b[0;34m(self, numticks)\u001b[0m\n\u001b[1;32m   1429\u001b[0m         \u001b[0;34m'Get the tick instances; grow as necessary.'\u001b[0m\u001b[0;34m\u001b[0m\u001b[0;34m\u001b[0m\u001b[0m\n\u001b[1;32m   1430\u001b[0m         \u001b[0;32mif\u001b[0m \u001b[0mnumticks\u001b[0m \u001b[0;32mis\u001b[0m \u001b[0;32mNone\u001b[0m\u001b[0;34m:\u001b[0m\u001b[0;34m\u001b[0m\u001b[0;34m\u001b[0m\u001b[0m\n\u001b[0;32m-> 1431\u001b[0;31m             \u001b[0mnumticks\u001b[0m \u001b[0;34m=\u001b[0m \u001b[0mlen\u001b[0m\u001b[0;34m(\u001b[0m\u001b[0mself\u001b[0m\u001b[0;34m.\u001b[0m\u001b[0mget_majorticklocs\u001b[0m\u001b[0;34m(\u001b[0m\u001b[0;34m)\u001b[0m\u001b[0;34m)\u001b[0m\u001b[0;34m\u001b[0m\u001b[0;34m\u001b[0m\u001b[0m\n\u001b[0m\u001b[1;32m   1432\u001b[0m \u001b[0;34m\u001b[0m\u001b[0m\n\u001b[1;32m   1433\u001b[0m         \u001b[0;32mwhile\u001b[0m \u001b[0mlen\u001b[0m\u001b[0;34m(\u001b[0m\u001b[0mself\u001b[0m\u001b[0;34m.\u001b[0m\u001b[0mmajorTicks\u001b[0m\u001b[0;34m)\u001b[0m \u001b[0;34m<\u001b[0m \u001b[0mnumticks\u001b[0m\u001b[0;34m:\u001b[0m\u001b[0;34m\u001b[0m\u001b[0;34m\u001b[0m\u001b[0m\n",
            "\u001b[0;32m/usr/local/lib/python3.7/dist-packages/matplotlib/axis.py\u001b[0m in \u001b[0;36mget_majorticklocs\u001b[0;34m(self)\u001b[0m\n\u001b[1;32m   1346\u001b[0m     \u001b[0;32mdef\u001b[0m \u001b[0mget_majorticklocs\u001b[0m\u001b[0;34m(\u001b[0m\u001b[0mself\u001b[0m\u001b[0;34m)\u001b[0m\u001b[0;34m:\u001b[0m\u001b[0;34m\u001b[0m\u001b[0;34m\u001b[0m\u001b[0m\n\u001b[1;32m   1347\u001b[0m         \u001b[0;34m\"\"\"Get the array of major tick locations in data coordinates.\"\"\"\u001b[0m\u001b[0;34m\u001b[0m\u001b[0;34m\u001b[0m\u001b[0m\n\u001b[0;32m-> 1348\u001b[0;31m         \u001b[0;32mreturn\u001b[0m \u001b[0mself\u001b[0m\u001b[0;34m.\u001b[0m\u001b[0mmajor\u001b[0m\u001b[0;34m.\u001b[0m\u001b[0mlocator\u001b[0m\u001b[0;34m(\u001b[0m\u001b[0;34m)\u001b[0m\u001b[0;34m\u001b[0m\u001b[0;34m\u001b[0m\u001b[0m\n\u001b[0m\u001b[1;32m   1349\u001b[0m \u001b[0;34m\u001b[0m\u001b[0m\n\u001b[1;32m   1350\u001b[0m     \u001b[0;32mdef\u001b[0m \u001b[0mget_minorticklocs\u001b[0m\u001b[0;34m(\u001b[0m\u001b[0mself\u001b[0m\u001b[0;34m)\u001b[0m\u001b[0;34m:\u001b[0m\u001b[0;34m\u001b[0m\u001b[0;34m\u001b[0m\u001b[0m\n",
            "\u001b[0;32m/usr/local/lib/python3.7/dist-packages/matplotlib/dates.py\u001b[0m in \u001b[0;36m__call__\u001b[0;34m(self)\u001b[0m\n\u001b[1;32m   1336\u001b[0m     \u001b[0;32mdef\u001b[0m \u001b[0m__call__\u001b[0m\u001b[0;34m(\u001b[0m\u001b[0mself\u001b[0m\u001b[0;34m)\u001b[0m\u001b[0;34m:\u001b[0m\u001b[0;34m\u001b[0m\u001b[0;34m\u001b[0m\u001b[0m\n\u001b[1;32m   1337\u001b[0m         \u001b[0;34m'Return the locations of the ticks'\u001b[0m\u001b[0;34m\u001b[0m\u001b[0;34m\u001b[0m\u001b[0m\n\u001b[0;32m-> 1338\u001b[0;31m         \u001b[0mself\u001b[0m\u001b[0;34m.\u001b[0m\u001b[0mrefresh\u001b[0m\u001b[0;34m(\u001b[0m\u001b[0;34m)\u001b[0m\u001b[0;34m\u001b[0m\u001b[0;34m\u001b[0m\u001b[0m\n\u001b[0m\u001b[1;32m   1339\u001b[0m         \u001b[0;32mreturn\u001b[0m \u001b[0mself\u001b[0m\u001b[0;34m.\u001b[0m\u001b[0m_locator\u001b[0m\u001b[0;34m(\u001b[0m\u001b[0;34m)\u001b[0m\u001b[0;34m\u001b[0m\u001b[0;34m\u001b[0m\u001b[0m\n\u001b[1;32m   1340\u001b[0m \u001b[0;34m\u001b[0m\u001b[0m\n",
            "\u001b[0;32m/usr/local/lib/python3.7/dist-packages/matplotlib/dates.py\u001b[0m in \u001b[0;36mrefresh\u001b[0;34m(self)\u001b[0m\n\u001b[1;32m   1362\u001b[0m     \u001b[0;32mdef\u001b[0m \u001b[0mrefresh\u001b[0m\u001b[0;34m(\u001b[0m\u001b[0mself\u001b[0m\u001b[0;34m)\u001b[0m\u001b[0;34m:\u001b[0m\u001b[0;34m\u001b[0m\u001b[0;34m\u001b[0m\u001b[0m\n\u001b[1;32m   1363\u001b[0m         \u001b[0;31m# docstring inherited\u001b[0m\u001b[0;34m\u001b[0m\u001b[0;34m\u001b[0m\u001b[0;34m\u001b[0m\u001b[0m\n\u001b[0;32m-> 1364\u001b[0;31m         \u001b[0mdmin\u001b[0m\u001b[0;34m,\u001b[0m \u001b[0mdmax\u001b[0m \u001b[0;34m=\u001b[0m \u001b[0mself\u001b[0m\u001b[0;34m.\u001b[0m\u001b[0mviewlim_to_dt\u001b[0m\u001b[0;34m(\u001b[0m\u001b[0;34m)\u001b[0m\u001b[0;34m\u001b[0m\u001b[0;34m\u001b[0m\u001b[0m\n\u001b[0m\u001b[1;32m   1365\u001b[0m         \u001b[0mself\u001b[0m\u001b[0;34m.\u001b[0m\u001b[0m_locator\u001b[0m \u001b[0;34m=\u001b[0m \u001b[0mself\u001b[0m\u001b[0;34m.\u001b[0m\u001b[0mget_locator\u001b[0m\u001b[0;34m(\u001b[0m\u001b[0mdmin\u001b[0m\u001b[0;34m,\u001b[0m \u001b[0mdmax\u001b[0m\u001b[0;34m)\u001b[0m\u001b[0;34m\u001b[0m\u001b[0;34m\u001b[0m\u001b[0m\n\u001b[1;32m   1366\u001b[0m \u001b[0;34m\u001b[0m\u001b[0m\n",
            "\u001b[0;32m/usr/local/lib/python3.7/dist-packages/matplotlib/dates.py\u001b[0m in \u001b[0;36mviewlim_to_dt\u001b[0;34m(self)\u001b[0m\n\u001b[1;32m   1096\u001b[0m                              \u001b[0;34m'often happens if you pass a non-datetime '\u001b[0m\u001b[0;34m\u001b[0m\u001b[0;34m\u001b[0m\u001b[0m\n\u001b[1;32m   1097\u001b[0m                              \u001b[0;34m'value to an axis that has datetime units'\u001b[0m\u001b[0;34m\u001b[0m\u001b[0;34m\u001b[0m\u001b[0m\n\u001b[0;32m-> 1098\u001b[0;31m                              .format(vmin))\n\u001b[0m\u001b[1;32m   1099\u001b[0m         \u001b[0;32mreturn\u001b[0m \u001b[0mnum2date\u001b[0m\u001b[0;34m(\u001b[0m\u001b[0mvmin\u001b[0m\u001b[0;34m,\u001b[0m \u001b[0mself\u001b[0m\u001b[0;34m.\u001b[0m\u001b[0mtz\u001b[0m\u001b[0;34m)\u001b[0m\u001b[0;34m,\u001b[0m \u001b[0mnum2date\u001b[0m\u001b[0;34m(\u001b[0m\u001b[0mvmax\u001b[0m\u001b[0;34m,\u001b[0m \u001b[0mself\u001b[0m\u001b[0;34m.\u001b[0m\u001b[0mtz\u001b[0m\u001b[0;34m)\u001b[0m\u001b[0;34m\u001b[0m\u001b[0;34m\u001b[0m\u001b[0m\n\u001b[1;32m   1100\u001b[0m \u001b[0;34m\u001b[0m\u001b[0m\n",
            "\u001b[0;31mValueError\u001b[0m: view limit minimum -36886.44791666667 is less than 1 and is an invalid Matplotlib date value. This often happens if you pass a non-datetime value to an axis that has datetime units"
          ]
        }
      ]
    },
    {
      "cell_type": "code",
      "metadata": {
        "id": "oZwn2go9ocal"
      },
      "source": [
        "train = df_new[:26303]\n",
        "val = df_new[26303:43823]\n",
        "test = df_new[43823:]"
      ],
      "execution_count": 44,
      "outputs": []
    },
    {
      "cell_type": "code",
      "metadata": {
        "id": "Ecb6nzdsoaKH"
      },
      "source": [
        "mean = train.mean()\n",
        "std = train.std()\n",
        "\n",
        "train_scaled = (train - mean) / std\n",
        "val_scaled = (val-mean) / std\n",
        "test_scaled = (test-mean) / std\n",
        "\n",
        "train_scaled = train_scaled.reset_index()\n",
        "val_scaled = val_scaled.reset_index()\n",
        "test_scaled = test_scaled.reset_index()"
      ],
      "execution_count": 45,
      "outputs": []
    },
    {
      "cell_type": "code",
      "metadata": {
        "id": "4kwZL5nM4guW"
      },
      "source": [
        "train = train.reset_index()\n",
        "val = val.reset_index()\n",
        "test = test.reset_index()\n",
        "\n",
        "train_scaled['value_tomm'] = train['value_tomm']\n",
        "val_scaled['value_tomm'] = val['value_tomm']\n",
        "test_scaled['value_tomm'] = test['value_tomm']"
      ],
      "execution_count": 46,
      "outputs": []
    },
    {
      "cell_type": "code",
      "metadata": {
        "id": "C21i1vQ2eecT",
        "colab": {
          "base_uri": "https://localhost:8080/",
          "height": 395
        },
        "outputId": "3bd65699-6fd6-4a6e-f4ba-9dd0d4c82dab"
      },
      "source": [
        "train_shuffled = train_scaled.iloc[np.random.permutation(train_scaled.index)].reset_index(drop=True)\n",
        "train_shuffled.head()"
      ],
      "execution_count": 47,
      "outputs": [
        {
          "output_type": "execute_result",
          "data": {
            "text/html": [
              "<div>\n",
              "<style scoped>\n",
              "    .dataframe tbody tr th:only-of-type {\n",
              "        vertical-align: middle;\n",
              "    }\n",
              "\n",
              "    .dataframe tbody tr th {\n",
              "        vertical-align: top;\n",
              "    }\n",
              "\n",
              "    .dataframe thead th {\n",
              "        text-align: right;\n",
              "    }\n",
              "</style>\n",
              "<table border=\"1\" class=\"dataframe\">\n",
              "  <thead>\n",
              "    <tr style=\"text-align: right;\">\n",
              "      <th></th>\n",
              "      <th>date</th>\n",
              "      <th>index</th>\n",
              "      <th>tem</th>\n",
              "      <th>rain</th>\n",
              "      <th>wind_x</th>\n",
              "      <th>wind_y</th>\n",
              "      <th>hum</th>\n",
              "      <th>pre</th>\n",
              "      <th>PM10</th>\n",
              "      <th>PM25</th>\n",
              "      <th>SO2</th>\n",
              "      <th>CO</th>\n",
              "      <th>NO2</th>\n",
              "      <th>O3</th>\n",
              "      <th>value_tomm</th>\n",
              "    </tr>\n",
              "  </thead>\n",
              "  <tbody>\n",
              "    <tr>\n",
              "      <th>0</th>\n",
              "      <td>2016-10-08 21:00:00</td>\n",
              "      <td>0.309488</td>\n",
              "      <td>0.114988</td>\n",
              "      <td>0.075307</td>\n",
              "      <td>0.379171</td>\n",
              "      <td>-1.338818</td>\n",
              "      <td>-0.145478</td>\n",
              "      <td>-0.709497</td>\n",
              "      <td>-0.353436</td>\n",
              "      <td>-0.430086</td>\n",
              "      <td>-1.144617</td>\n",
              "      <td>-0.666547</td>\n",
              "      <td>-0.991818</td>\n",
              "      <td>0.599074</td>\n",
              "      <td>23.5</td>\n",
              "    </tr>\n",
              "    <tr>\n",
              "      <th>1</th>\n",
              "      <td>2017-10-02 05:00:00</td>\n",
              "      <td>1.441531</td>\n",
              "      <td>0.294319</td>\n",
              "      <td>-0.278729</td>\n",
              "      <td>-0.416116</td>\n",
              "      <td>0.064783</td>\n",
              "      <td>1.520895</td>\n",
              "      <td>-0.693492</td>\n",
              "      <td>-1.357355</td>\n",
              "      <td>-1.274817</td>\n",
              "      <td>-1.144617</td>\n",
              "      <td>-0.443900</td>\n",
              "      <td>-1.613109</td>\n",
              "      <td>0.345316</td>\n",
              "      <td>41.0</td>\n",
              "    </tr>\n",
              "    <tr>\n",
              "      <th>2</th>\n",
              "      <td>2017-01-20 23:00:00</td>\n",
              "      <td>0.638307</td>\n",
              "      <td>-1.866621</td>\n",
              "      <td>-0.088242</td>\n",
              "      <td>0.684453</td>\n",
              "      <td>0.650920</td>\n",
              "      <td>0.510972</td>\n",
              "      <td>-0.724221</td>\n",
              "      <td>0.061978</td>\n",
              "      <td>0.655997</td>\n",
              "      <td>-0.420311</td>\n",
              "      <td>0.446685</td>\n",
              "      <td>-0.370527</td>\n",
              "      <td>-0.574558</td>\n",
              "      <td>43.5</td>\n",
              "    </tr>\n",
              "    <tr>\n",
              "      <th>3</th>\n",
              "      <td>2015-05-16 09:00:00</td>\n",
              "      <td>-1.306438</td>\n",
              "      <td>0.348118</td>\n",
              "      <td>-0.278729</td>\n",
              "      <td>0.512495</td>\n",
              "      <td>0.257586</td>\n",
              "      <td>-1.306889</td>\n",
              "      <td>1.407547</td>\n",
              "      <td>-0.024566</td>\n",
              "      <td>-0.611100</td>\n",
              "      <td>-0.058158</td>\n",
              "      <td>-0.221254</td>\n",
              "      <td>0.685668</td>\n",
              "      <td>-0.289080</td>\n",
              "      <td>68.0</td>\n",
              "    </tr>\n",
              "    <tr>\n",
              "      <th>4</th>\n",
              "      <td>2017-09-28 14:00:00</td>\n",
              "      <td>1.430079</td>\n",
              "      <td>1.029576</td>\n",
              "      <td>-0.278729</td>\n",
              "      <td>-0.153616</td>\n",
              "      <td>1.924873</td>\n",
              "      <td>-1.458377</td>\n",
              "      <td>-0.709283</td>\n",
              "      <td>-1.011176</td>\n",
              "      <td>-1.154141</td>\n",
              "      <td>-0.058158</td>\n",
              "      <td>-0.666547</td>\n",
              "      <td>-0.960753</td>\n",
              "      <td>0.947992</td>\n",
              "      <td>22.0</td>\n",
              "    </tr>\n",
              "  </tbody>\n",
              "</table>\n",
              "</div>"
            ],
            "text/plain": [
              "                 date     index       tem  ...       NO2        O3  value_tomm\n",
              "0 2016-10-08 21:00:00  0.309488  0.114988  ... -0.991818  0.599074        23.5\n",
              "1 2017-10-02 05:00:00  1.441531  0.294319  ... -1.613109  0.345316        41.0\n",
              "2 2017-01-20 23:00:00  0.638307 -1.866621  ... -0.370527 -0.574558        43.5\n",
              "3 2015-05-16 09:00:00 -1.306438  0.348118  ...  0.685668 -0.289080        68.0\n",
              "4 2017-09-28 14:00:00  1.430079  1.029576  ... -0.960753  0.947992        22.0\n",
              "\n",
              "[5 rows x 15 columns]"
            ]
          },
          "metadata": {
            "tags": []
          },
          "execution_count": 47
        }
      ]
    },
    {
      "cell_type": "code",
      "metadata": {
        "id": "ARX2lEQQon_i"
      },
      "source": [
        "train_shuffled = train_shuffled.set_index('date')\n",
        "val_scaled = val_scaled.set_index('date')\n",
        "test_scaled = test_scaled.set_index('date')"
      ],
      "execution_count": 48,
      "outputs": []
    },
    {
      "cell_type": "code",
      "metadata": {
        "id": "KzQvLYtxrysr"
      },
      "source": [
        "feature_cols = ['PM10', 'PM25','SO2','CO','NO2','tem','rain','hum','pre','wind_x','wind_y']\n",
        "label_cols = ['value_tomm']"
      ],
      "execution_count": 49,
      "outputs": []
    },
    {
      "cell_type": "code",
      "metadata": {
        "id": "V5S_ui2Ur-Ij"
      },
      "source": [
        "def lstm_dataset(data, label, window_size=24):\n",
        "  feature_list = []\n",
        "  label_list = []\n",
        "\n",
        "  for i in range(len(data) - window_size):\n",
        "    feature_list.append(np.array(data.iloc[i:i+window_size]))\n",
        "    label_list.append(np.array(label.iloc[i+window_size]))\n",
        "  return np.array(feature_list), np.array(label_list)\n",
        "  # window_size = timestep(몇 시간의 데이터를 이용하여 예측을 할 것인가)"
      ],
      "execution_count": 50,
      "outputs": []
    },
    {
      "cell_type": "code",
      "metadata": {
        "id": "v1PKCusSYqCl"
      },
      "source": [
        "train_feature = train_scaled[feature_cols]\n",
        "train_label = train_scaled[label_cols]\n",
        "\n",
        "train_feature, train_label = lstm_dataset(train_feature, train_label, window_size= 24)"
      ],
      "execution_count": 51,
      "outputs": []
    },
    {
      "cell_type": "code",
      "metadata": {
        "id": "3Kl3bUpAcQNF",
        "colab": {
          "base_uri": "https://localhost:8080/"
        },
        "outputId": "c0cc8241-cb8e-43d2-d850-9f67ccad97ad"
      },
      "source": [
        "train_feature.shape"
      ],
      "execution_count": 52,
      "outputs": [
        {
          "output_type": "execute_result",
          "data": {
            "text/plain": [
              "(26279, 24, 11)"
            ]
          },
          "metadata": {
            "tags": []
          },
          "execution_count": 52
        }
      ]
    },
    {
      "cell_type": "code",
      "metadata": {
        "id": "q_X-f-U9cPPR",
        "colab": {
          "base_uri": "https://localhost:8080/"
        },
        "outputId": "7953f23d-fd26-437e-ebf1-281f264154a9"
      },
      "source": [
        "valid_feature = val_scaled[feature_cols]\n",
        "valid_label = val_scaled[label_cols]\n",
        "\n",
        "test_feature = test_scaled[feature_cols]\n",
        "test_label = test_scaled[label_cols]\n",
        "\n",
        "print(test_feature.shape, test_label.shape)"
      ],
      "execution_count": 53,
      "outputs": [
        {
          "output_type": "stream",
          "text": [
            "(7271, 11) (7271, 1)\n"
          ],
          "name": "stdout"
        }
      ]
    },
    {
      "cell_type": "code",
      "metadata": {
        "id": "rT3QOOKqcnMV"
      },
      "source": [
        "valid_feature, valid_label = lstm_dataset(valid_feature, valid_label, window_size=24)\n",
        "test_feature, test_label = lstm_dataset(test_feature, test_label, window_size=24)"
      ],
      "execution_count": 54,
      "outputs": []
    },
    {
      "cell_type": "code",
      "metadata": {
        "id": "6HG9TUiA7zh7",
        "colab": {
          "base_uri": "https://localhost:8080/"
        },
        "outputId": "533638b4-d7d9-4832-8c59-77e1fbe6daa7"
      },
      "source": [
        "train_feature.shape"
      ],
      "execution_count": 55,
      "outputs": [
        {
          "output_type": "execute_result",
          "data": {
            "text/plain": [
              "(26279, 24, 11)"
            ]
          },
          "metadata": {
            "tags": []
          },
          "execution_count": 55
        }
      ]
    },
    {
      "cell_type": "code",
      "metadata": {
        "id": "BePPjVEoYqAK"
      },
      "source": [
        "from keras.layers import Dropout\n",
        "from keras.layers import LSTM\n",
        "from keras.layers import Dense\n",
        "from keras.models import Sequential\n",
        "from tensorflow.keras import layers\n",
        "\n",
        "model = tf.keras.models.Sequential()\n",
        "model.add(LSTM(64,\n",
        "               input_shape=(train_feature.shape[1], train_feature.shape[2]),\n",
        "               activation='relu',\n",
        "               return_sequences=True))\n",
        "model.add(LSTM(32, activation='relu'))\n",
        "model.add(layers.Flatten(input_shape=(16,16)))\n",
        "model.add(layers.Flatten(input_shape=(2,2)))\n",
        "model.add(Dense(1))"
      ],
      "execution_count": 56,
      "outputs": []
    },
    {
      "cell_type": "code",
      "metadata": {
        "id": "JZIRardsYp9c",
        "colab": {
          "base_uri": "https://localhost:8080/"
        },
        "outputId": "43c67601-fd37-44a6-ab9f-c1ba548b338c"
      },
      "source": [
        "import os\n",
        "import keras\n",
        "from keras.callbacks import EarlyStopping, ModelCheckpoint\n",
        "\n",
        "model.compile(loss='mean_squared_error', optimizer='adam',metrics=['mae'])\n",
        "checkpoint_cb = keras.callbacks.ModelCheckpoint('tmp_checkpoint.h5')\n",
        "early_stop = EarlyStopping(monitor='val_loss',patience=5)\n",
        "\n",
        "history = model.fit(train_feature, train_label,\n",
        "                    epochs=50,\n",
        "                    batch_size=256,\n",
        "                    validation_data=(valid_feature, valid_label),\n",
        "                    callbacks=[early_stop, checkpoint_cb])"
      ],
      "execution_count": 57,
      "outputs": [
        {
          "output_type": "stream",
          "text": [
            "Epoch 1/50\n",
            "103/103 [==============================] - 11s 88ms/step - loss: 2639.4103 - mae: 37.7137 - val_loss: 749.8607 - val_mae: 19.8880\n",
            "Epoch 2/50\n",
            "103/103 [==============================] - 8s 81ms/step - loss: 1067.3950 - mae: 19.4053 - val_loss: 796.5875 - val_mae: 22.0654\n",
            "Epoch 3/50\n",
            "103/103 [==============================] - 8s 82ms/step - loss: 1006.8992 - mae: 18.9555 - val_loss: 695.0369 - val_mae: 19.3638\n",
            "Epoch 4/50\n",
            "103/103 [==============================] - 8s 82ms/step - loss: 912.3509 - mae: 18.9167 - val_loss: 695.1761 - val_mae: 19.3178\n",
            "Epoch 5/50\n",
            "103/103 [==============================] - 8s 81ms/step - loss: 980.8625 - mae: 18.6187 - val_loss: 676.2173 - val_mae: 18.5613\n",
            "Epoch 6/50\n",
            "103/103 [==============================] - 9s 83ms/step - loss: 787.8904 - mae: 18.1213 - val_loss: 686.4661 - val_mae: 18.3428\n",
            "Epoch 7/50\n",
            "103/103 [==============================] - 8s 81ms/step - loss: 820.0039 - mae: 18.1370 - val_loss: 686.1935 - val_mae: 18.4271\n",
            "Epoch 8/50\n",
            "103/103 [==============================] - 8s 81ms/step - loss: 724.5015 - mae: 17.9120 - val_loss: 701.7130 - val_mae: 18.6232\n",
            "Epoch 9/50\n",
            "103/103 [==============================] - 8s 82ms/step - loss: 729.7708 - mae: 17.6403 - val_loss: 702.0703 - val_mae: 19.3458\n",
            "Epoch 10/50\n",
            "103/103 [==============================] - 8s 81ms/step - loss: 640.9680 - mae: 17.3187 - val_loss: 697.2673 - val_mae: 18.9354\n"
          ],
          "name": "stdout"
        }
      ]
    },
    {
      "cell_type": "code",
      "metadata": {
        "id": "nn8DdEJ0Yp5s",
        "colab": {
          "base_uri": "https://localhost:8080/"
        },
        "outputId": "3f99aa0e-3fcf-4260-9754-5282dc2f0d2e"
      },
      "source": [
        "pred = model.predict(test_feature)\n",
        "print('Loss', model.evaluate(test_feature, test_label))"
      ],
      "execution_count": 58,
      "outputs": [
        {
          "output_type": "stream",
          "text": [
            "227/227 [==============================] - 1s 6ms/step - loss: 594.1752 - mae: 18.7259\n",
            "Loss [594.1751708984375, 18.72589683532715]\n"
          ],
          "name": "stdout"
        }
      ]
    },
    {
      "cell_type": "code",
      "metadata": {
        "id": "gg5H9eFFYp3f",
        "colab": {
          "base_uri": "https://localhost:8080/",
          "height": 265
        },
        "outputId": "e5070e44-b6b5-4b79-e82e-fabaed196492"
      },
      "source": [
        "plt.plot(test_label, label='actual')\n",
        "plt.plot(pred, label='prediction')\n",
        "plt.legend()\n",
        "plt.show()"
      ],
      "execution_count": 59,
      "outputs": [
        {
          "output_type": "display_data",
          "data": {
            "image/png": "[encoded data removed]",
            "text/plain": [
              "<Figure size 432x288 with 1 Axes>"
            ]
          },
          "metadata": {
            "tags": [],
            "needs_background": "light"
          }
        }
      ]
    },
    {
      "cell_type": "code",
      "metadata": {
        "id": "BuSxUfLxV-wF"
      },
      "source": [
        "def make_dataset(dataframe, shuffle=True, batch_size=32):\n",
        "  dataframe = dataframe.copy()\n",
        "  labels = dataframe.pop('value_tomm')\n",
        "  ds = tf.data.Dataset.from_tensor_slices((dict(dataframe), labels))\n",
        "\n",
        "  if shuffle:\n",
        "    ds = ds.shuffle(buffer_size=len(dataframe))\n",
        "  ds = ds.batch(batch_size)\n",
        "  return ds"
      ],
      "execution_count": 60,
      "outputs": []
    },
    {
      "cell_type": "code",
      "metadata": {
        "id": "YBrXXJqi76ir"
      },
      "source": [
        "batch_size=512\n",
        "train_ds = make_dataset(train_shuffled, batch_size=batch_size)\n",
        "val_ds = make_dataset(val_scaled, shuffle=False, batch_size = batch_size)\n",
        "test_ds = make_dataset(test_scaled, shuffle=False, batch_size=batch_size)"
      ],
      "execution_count": 61,
      "outputs": []
    },
    {
      "cell_type": "code",
      "metadata": {
        "id": "SS163HnB76eE"
      },
      "source": [
        "import tensorflow as tf\n",
        "from tensorflow import feature_column\n",
        "from tensorflow.keras import layers"
      ],
      "execution_count": 62,
      "outputs": []
    },
    {
      "cell_type": "code",
      "metadata": {
        "id": "1ZvIiNNk76bv"
      },
      "source": [
        "feature_columns = []\n",
        "for header in ['SO2'\t,'CO'\t,'O3',\t'NO2',\t'PM10',\t'PM25',\t'tem',\t'rain',\t'hum',\t'pre',\t'wind_x',\t'wind_y']:\n",
        "  feature_columns.append(feature_column.numeric_column(header))"
      ],
      "execution_count": 63,
      "outputs": []
    },
    {
      "cell_type": "code",
      "metadata": {
        "id": "ypu-bzvJ76ZF"
      },
      "source": [
        "feature_layer = tf.keras.layers.DenseFeatures(feature_columns)"
      ],
      "execution_count": 64,
      "outputs": []
    },
    {
      "cell_type": "code",
      "metadata": {
        "id": "mvkzPRLa8LUT"
      },
      "source": [
        "from keras.models import Sequential\n",
        "from keras.layers import Dense, Dropout\n",
        "from tensorflow.keras import layers\n",
        "from tensorflow.keras import initializers\n",
        "initializer = tf.keras.initializers.he_normal(seed=None)\n",
        "\n",
        "model = tf.keras.Sequential([\n",
        "  feature_layer,\n",
        "  layers.Dense(units=64, kernel_initializer='he_normal',\n",
        "    bias_initializer='zeros', activation='relu'),\n",
        "  layers.Dropout(0.2),\n",
        "  layers.Dense(units=32, activation='relu'),\n",
        "  layers.Dropout(0.2),\n",
        "  layers.Dense(units=1, activation='relu')\n",
        "])\n",
        "model.compile(optimizer='adam',\n",
        "              loss='mse',\n",
        "              metrics=['mae'])"
      ],
      "execution_count": 65,
      "outputs": []
    },
    {
      "cell_type": "code",
      "metadata": {
        "colab": {
          "base_uri": "https://localhost:8080/"
        },
        "id": "cLrNRDO98LRi",
        "outputId": "0b17d1ef-00da-4586-f9ad-cad460bfba99"
      },
      "source": [
        "checkpoint_cb = keras.callbacks.ModelCheckpoint('best-deepneural-model.h5')\n",
        "early_stopping_cb = keras.callbacks.EarlyStopping(patience=3, restore_best_weights=True)\n",
        "\n",
        "history = model.fit(train_ds,\n",
        "          validation_data=val_ds,\n",
        "          epochs=50,\n",
        "          callbacks = [checkpoint_cb, early_stopping_cb])"
      ],
      "execution_count": 66,
      "outputs": [
        {
          "output_type": "stream",
          "text": [
            "Epoch 1/50\n",
            "WARNING:tensorflow:Layers in a Sequential model should only have a single input tensor, but we receive a <class 'dict'> input: {'index': <tf.Tensor 'ExpandDims_7:0' shape=(None, 1) dtype=float64>, 'tem': <tf.Tensor 'ExpandDims_10:0' shape=(None, 1) dtype=float64>, 'rain': <tf.Tensor 'ExpandDims_9:0' shape=(None, 1) dtype=float64>, 'wind_x': <tf.Tensor 'ExpandDims_11:0' shape=(None, 1) dtype=float64>, 'wind_y': <tf.Tensor 'ExpandDims_12:0' shape=(None, 1) dtype=float64>, 'hum': <tf.Tensor 'ExpandDims_6:0' shape=(None, 1) dtype=float64>, 'pre': <tf.Tensor 'ExpandDims_8:0' shape=(None, 1) dtype=float64>, 'PM10': <tf.Tensor 'ExpandDims_3:0' shape=(None, 1) dtype=float64>, 'PM25': <tf.Tensor 'ExpandDims_4:0' shape=(None, 1) dtype=float64>, 'SO2': <tf.Tensor 'ExpandDims_5:0' shape=(None, 1) dtype=float64>, 'CO': <tf.Tensor 'ExpandDims:0' shape=(None, 1) dtype=float64>, 'NO2': <tf.Tensor 'ExpandDims_1:0' shape=(None, 1) dtype=float64>, 'O3': <tf.Tensor 'ExpandDims_2:0' shape=(None, 1) dtype=float64>}\n",
            "Consider rewriting this model with the Functional API.\n",
            "WARNING:tensorflow:Layers in a Sequential model should only have a single input tensor, but we receive a <class 'dict'> input: {'index': <tf.Tensor 'ExpandDims_7:0' shape=(None, 1) dtype=float64>, 'tem': <tf.Tensor 'ExpandDims_10:0' shape=(None, 1) dtype=float64>, 'rain': <tf.Tensor 'ExpandDims_9:0' shape=(None, 1) dtype=float64>, 'wind_x': <tf.Tensor 'ExpandDims_11:0' shape=(None, 1) dtype=float64>, 'wind_y': <tf.Tensor 'ExpandDims_12:0' shape=(None, 1) dtype=float64>, 'hum': <tf.Tensor 'ExpandDims_6:0' shape=(None, 1) dtype=float64>, 'pre': <tf.Tensor 'ExpandDims_8:0' shape=(None, 1) dtype=float64>, 'PM10': <tf.Tensor 'ExpandDims_3:0' shape=(None, 1) dtype=float64>, 'PM25': <tf.Tensor 'ExpandDims_4:0' shape=(None, 1) dtype=float64>, 'SO2': <tf.Tensor 'ExpandDims_5:0' shape=(None, 1) dtype=float64>, 'CO': <tf.Tensor 'ExpandDims:0' shape=(None, 1) dtype=float64>, 'NO2': <tf.Tensor 'ExpandDims_1:0' shape=(None, 1) dtype=float64>, 'O3': <tf.Tensor 'ExpandDims_2:0' shape=(None, 1) dtype=float64>}\n",
            "Consider rewriting this model with the Functional API.\n",
            "49/52 [===========================>..] - ETA: 0s - loss: 3586.5046 - mae: 47.4318WARNING:tensorflow:Layers in a Sequential model should only have a single input tensor, but we receive a <class 'dict'> input: {'index': <tf.Tensor 'ExpandDims_7:0' shape=(None, 1) dtype=float64>, 'tem': <tf.Tensor 'ExpandDims_10:0' shape=(None, 1) dtype=float64>, 'rain': <tf.Tensor 'ExpandDims_9:0' shape=(None, 1) dtype=float64>, 'wind_x': <tf.Tensor 'ExpandDims_11:0' shape=(None, 1) dtype=float64>, 'wind_y': <tf.Tensor 'ExpandDims_12:0' shape=(None, 1) dtype=float64>, 'hum': <tf.Tensor 'ExpandDims_6:0' shape=(None, 1) dtype=float64>, 'pre': <tf.Tensor 'ExpandDims_8:0' shape=(None, 1) dtype=float64>, 'PM10': <tf.Tensor 'ExpandDims_3:0' shape=(None, 1) dtype=float64>, 'PM25': <tf.Tensor 'ExpandDims_4:0' shape=(None, 1) dtype=float64>, 'SO2': <tf.Tensor 'ExpandDims_5:0' shape=(None, 1) dtype=float64>, 'CO': <tf.Tensor 'ExpandDims:0' shape=(None, 1) dtype=float64>, 'NO2': <tf.Tensor 'ExpandDims_1:0' shape=(None, 1) dtype=float64>, 'O3': <tf.Tensor 'ExpandDims_2:0' shape=(None, 1) dtype=float64>}\n",
            "Consider rewriting this model with the Functional API.\n",
            "52/52 [==============================] - 1s 14ms/step - loss: 3566.3079 - mae: 47.2843 - val_loss: 2006.3809 - val_mae: 34.3361\n",
            "Epoch 2/50\n",
            "52/52 [==============================] - 1s 11ms/step - loss: 2483.1140 - mae: 36.8523 - val_loss: 1083.6149 - val_mae: 22.9138\n",
            "Epoch 3/50\n",
            "52/52 [==============================] - 1s 11ms/step - loss: 1561.1566 - mae: 24.8063 - val_loss: 785.7968 - val_mae: 20.0365\n",
            "Epoch 4/50\n",
            "52/52 [==============================] - 1s 10ms/step - loss: 1319.7502 - mae: 21.6447 - val_loss: 756.8498 - val_mae: 20.0653\n",
            "Epoch 5/50\n",
            "52/52 [==============================] - 1s 11ms/step - loss: 1224.2242 - mae: 21.1284 - val_loss: 736.5964 - val_mae: 19.8899\n",
            "Epoch 6/50\n",
            "52/52 [==============================] - 1s 11ms/step - loss: 1212.8983 - mae: 20.7734 - val_loss: 723.9618 - val_mae: 19.6671\n",
            "Epoch 7/50\n",
            "52/52 [==============================] - 1s 10ms/step - loss: 1249.7196 - mae: 20.5828 - val_loss: 715.9437 - val_mae: 19.5330\n",
            "Epoch 8/50\n",
            "52/52 [==============================] - 1s 11ms/step - loss: 1210.7826 - mae: 20.4245 - val_loss: 705.3017 - val_mae: 19.2768\n",
            "Epoch 9/50\n",
            "52/52 [==============================] - 1s 10ms/step - loss: 1207.4722 - mae: 20.2207 - val_loss: 702.0375 - val_mae: 19.2534\n",
            "Epoch 10/50\n",
            "52/52 [==============================] - 1s 10ms/step - loss: 1129.3781 - mae: 20.1304 - val_loss: 695.1929 - val_mae: 19.1060\n",
            "Epoch 11/50\n",
            "52/52 [==============================] - 1s 10ms/step - loss: 1171.5697 - mae: 20.2499 - val_loss: 690.1398 - val_mae: 18.8705\n",
            "Epoch 12/50\n",
            "52/52 [==============================] - 1s 10ms/step - loss: 1207.3117 - mae: 19.9741 - val_loss: 686.8555 - val_mae: 18.9078\n",
            "Epoch 13/50\n",
            "52/52 [==============================] - 1s 11ms/step - loss: 1207.0466 - mae: 19.9147 - val_loss: 682.5718 - val_mae: 18.7532\n",
            "Epoch 14/50\n",
            "52/52 [==============================] - 1s 10ms/step - loss: 1098.2932 - mae: 19.7260 - val_loss: 679.8063 - val_mae: 18.8133\n",
            "Epoch 15/50\n",
            "52/52 [==============================] - 1s 10ms/step - loss: 1149.8994 - mae: 19.6916 - val_loss: 674.6162 - val_mae: 18.5717\n",
            "Epoch 16/50\n",
            "52/52 [==============================] - 1s 10ms/step - loss: 1065.6510 - mae: 19.5452 - val_loss: 674.1974 - val_mae: 18.6867\n",
            "Epoch 17/50\n",
            "52/52 [==============================] - 1s 10ms/step - loss: 1189.2570 - mae: 19.6228 - val_loss: 667.7659 - val_mae: 18.4654\n",
            "Epoch 18/50\n",
            "52/52 [==============================] - 1s 10ms/step - loss: 1130.0286 - mae: 19.5678 - val_loss: 665.5126 - val_mae: 18.3715\n",
            "Epoch 19/50\n",
            "52/52 [==============================] - 1s 10ms/step - loss: 1186.7297 - mae: 19.5780 - val_loss: 661.6243 - val_mae: 18.3560\n",
            "Epoch 20/50\n",
            "52/52 [==============================] - 1s 10ms/step - loss: 1009.9130 - mae: 19.4564 - val_loss: 664.0923 - val_mae: 18.5494\n",
            "Epoch 21/50\n",
            "52/52 [==============================] - 1s 11ms/step - loss: 1140.7904 - mae: 19.6393 - val_loss: 657.3030 - val_mae: 18.3597\n",
            "Epoch 22/50\n",
            "52/52 [==============================] - 1s 10ms/step - loss: 1074.0632 - mae: 19.0934 - val_loss: 660.6262 - val_mae: 18.5248\n",
            "Epoch 23/50\n",
            "52/52 [==============================] - 1s 10ms/step - loss: 1285.1304 - mae: 19.6721 - val_loss: 658.0986 - val_mae: 18.3392\n",
            "Epoch 24/50\n",
            "52/52 [==============================] - 1s 10ms/step - loss: 1085.4393 - mae: 19.4276 - val_loss: 658.3004 - val_mae: 18.5051\n"
          ],
          "name": "stdout"
        }
      ]
    },
    {
      "cell_type": "code",
      "metadata": {
        "colab": {
          "base_uri": "https://localhost:8080/",
          "height": 279
        },
        "id": "nTI39Is_8LOL",
        "outputId": "d7b98a11-9581-4dcc-b5e8-d6bfb1f41eeb"
      },
      "source": [
        "import matplotlib.pyplot as plt\n",
        "\n",
        "plt.plot(history.history['loss'])\n",
        "plt.xlabel('epoch')\n",
        "plt.ylabel('loss')\n",
        "plt.show()"
      ],
      "execution_count": 67,
      "outputs": [
        {
          "output_type": "display_data",
          "data": {
            "image/png": "[encoded data removed]",
            "text/plain": [
              "<Figure size 432x288 with 1 Axes>"
            ]
          },
          "metadata": {
            "tags": [],
            "needs_background": "light"
          }
        }
      ]
    },
    {
      "cell_type": "code",
      "metadata": {
        "colab": {
          "base_uri": "https://localhost:8080/"
        },
        "id": "zeUwLdDj8U8W",
        "outputId": "947680b5-4068-48d7-d6a7-ccc90cef6dd3"
      },
      "source": [
        "pred = model.predict(test_ds)"
      ],
      "execution_count": 68,
      "outputs": [
        {
          "output_type": "stream",
          "text": [
            "WARNING:tensorflow:Layers in a Sequential model should only have a single input tensor, but we receive a <class 'dict'> input: {'index': <tf.Tensor 'ExpandDims_7:0' shape=(None, 1) dtype=float64>, 'tem': <tf.Tensor 'ExpandDims_10:0' shape=(None, 1) dtype=float64>, 'rain': <tf.Tensor 'ExpandDims_9:0' shape=(None, 1) dtype=float64>, 'wind_x': <tf.Tensor 'ExpandDims_11:0' shape=(None, 1) dtype=float64>, 'wind_y': <tf.Tensor 'ExpandDims_12:0' shape=(None, 1) dtype=float64>, 'hum': <tf.Tensor 'ExpandDims_6:0' shape=(None, 1) dtype=float64>, 'pre': <tf.Tensor 'ExpandDims_8:0' shape=(None, 1) dtype=float64>, 'PM10': <tf.Tensor 'ExpandDims_3:0' shape=(None, 1) dtype=float64>, 'PM25': <tf.Tensor 'ExpandDims_4:0' shape=(None, 1) dtype=float64>, 'SO2': <tf.Tensor 'ExpandDims_5:0' shape=(None, 1) dtype=float64>, 'CO': <tf.Tensor 'ExpandDims:0' shape=(None, 1) dtype=float64>, 'NO2': <tf.Tensor 'ExpandDims_1:0' shape=(None, 1) dtype=float64>, 'O3': <tf.Tensor 'ExpandDims_2:0' shape=(None, 1) dtype=float64>}\n",
            "Consider rewriting this model with the Functional API.\n"
          ],
          "name": "stdout"
        }
      ]
    },
    {
      "cell_type": "code",
      "metadata": {
        "colab": {
          "base_uri": "https://localhost:8080/",
          "height": 374
        },
        "id": "9JLKbxZv8U1K",
        "outputId": "31cb6182-1c39-41f8-defb-811cb28a7967"
      },
      "source": [
        "plt.figure(figsize=(8,6))\n",
        "plt.plot(test_label, label='actual')\n",
        "plt.plot(pred, label='prediction')\n",
        "plt.legend()\n",
        "plt.show()"
      ],
      "execution_count": 69,
      "outputs": [
        {
          "output_type": "display_data",
          "data": {
            "image/png": "[encoded data removed]",
            "text/plain": [
              "<Figure size 576x432 with 1 Axes>"
            ]
          },
          "metadata": {
            "tags": [],
            "needs_background": "light"
          }
        }
      ]
    },
    {
      "cell_type": "markdown",
      "metadata": {
        "id": "NSYaDE_lQD02"
      },
      "source": [
        "#중구"
      ]
    },
    {
      "cell_type": "code",
      "metadata": {
        "colab": {
          "base_uri": "https://localhost:8080/",
          "height": 415
        },
        "id": "YqmzSRIxODR7",
        "outputId": "e2adca85-7390-4b77-8c8e-96c021f91394"
      },
      "source": [
        "col_names = ['seoul', 'code','loc','date','SO2','CO','O3','NO2','PM10','PM25','adr']\n",
        "\n",
        "df = pd.read_excel('/content/drive/My Drive/Data/data_sum.xlsx', names = col_names)\n",
        "df"
      ],
      "execution_count": 70,
      "outputs": [
        {
          "output_type": "execute_result",
          "data": {
            "text/html": [
              "<div>\n",
              "<style scoped>\n",
              "    .dataframe tbody tr th:only-of-type {\n",
              "        vertical-align: middle;\n",
              "    }\n",
              "\n",
              "    .dataframe tbody tr th {\n",
              "        vertical-align: top;\n",
              "    }\n",
              "\n",
              "    .dataframe thead th {\n",
              "        text-align: right;\n",
              "    }\n",
              "</style>\n",
              "<table border=\"1\" class=\"dataframe\">\n",
              "  <thead>\n",
              "    <tr style=\"text-align: right;\">\n",
              "      <th></th>\n",
              "      <th>seoul</th>\n",
              "      <th>code</th>\n",
              "      <th>loc</th>\n",
              "      <th>date</th>\n",
              "      <th>SO2</th>\n",
              "      <th>CO</th>\n",
              "      <th>O3</th>\n",
              "      <th>NO2</th>\n",
              "      <th>PM10</th>\n",
              "      <th>PM25</th>\n",
              "      <th>adr</th>\n",
              "    </tr>\n",
              "  </thead>\n",
              "  <tbody>\n",
              "    <tr>\n",
              "      <th>0</th>\n",
              "      <td>서울</td>\n",
              "      <td>111121</td>\n",
              "      <td>중구</td>\n",
              "      <td>2015010102</td>\n",
              "      <td>0.006</td>\n",
              "      <td>0.6</td>\n",
              "      <td>0.022</td>\n",
              "      <td>0.010</td>\n",
              "      <td>57.0</td>\n",
              "      <td>10.0</td>\n",
              "      <td>서울 중구 덕수궁길 15</td>\n",
              "    </tr>\n",
              "    <tr>\n",
              "      <th>1</th>\n",
              "      <td>서울</td>\n",
              "      <td>111121</td>\n",
              "      <td>중구</td>\n",
              "      <td>2015010103</td>\n",
              "      <td>0.006</td>\n",
              "      <td>0.6</td>\n",
              "      <td>0.021</td>\n",
              "      <td>0.010</td>\n",
              "      <td>76.0</td>\n",
              "      <td>10.0</td>\n",
              "      <td>서울 중구 덕수궁길 15</td>\n",
              "    </tr>\n",
              "    <tr>\n",
              "      <th>2</th>\n",
              "      <td>서울</td>\n",
              "      <td>111121</td>\n",
              "      <td>중구</td>\n",
              "      <td>2015010104</td>\n",
              "      <td>0.006</td>\n",
              "      <td>0.6</td>\n",
              "      <td>0.022</td>\n",
              "      <td>0.009</td>\n",
              "      <td>86.0</td>\n",
              "      <td>11.0</td>\n",
              "      <td>서울 중구 덕수궁길 15</td>\n",
              "    </tr>\n",
              "    <tr>\n",
              "      <th>3</th>\n",
              "      <td>서울</td>\n",
              "      <td>111121</td>\n",
              "      <td>중구</td>\n",
              "      <td>2015010105</td>\n",
              "      <td>0.006</td>\n",
              "      <td>0.5</td>\n",
              "      <td>0.021</td>\n",
              "      <td>0.009</td>\n",
              "      <td>106.0</td>\n",
              "      <td>12.0</td>\n",
              "      <td>서울 중구 덕수궁길 15</td>\n",
              "    </tr>\n",
              "    <tr>\n",
              "      <th>4</th>\n",
              "      <td>서울</td>\n",
              "      <td>111121</td>\n",
              "      <td>중구</td>\n",
              "      <td>2015010106</td>\n",
              "      <td>0.006</td>\n",
              "      <td>0.6</td>\n",
              "      <td>0.020</td>\n",
              "      <td>0.009</td>\n",
              "      <td>128.0</td>\n",
              "      <td>18.0</td>\n",
              "      <td>서울 중구 덕수궁길 15</td>\n",
              "    </tr>\n",
              "    <tr>\n",
              "      <th>...</th>\n",
              "      <td>...</td>\n",
              "      <td>...</td>\n",
              "      <td>...</td>\n",
              "      <td>...</td>\n",
              "      <td>...</td>\n",
              "      <td>...</td>\n",
              "      <td>...</td>\n",
              "      <td>...</td>\n",
              "      <td>...</td>\n",
              "      <td>...</td>\n",
              "      <td>...</td>\n",
              "    </tr>\n",
              "    <tr>\n",
              "      <th>1025850</th>\n",
              "      <td>서울 노원구</td>\n",
              "      <td>111312</td>\n",
              "      <td>화랑로</td>\n",
              "      <td>2017123120</td>\n",
              "      <td>0.004</td>\n",
              "      <td>0.5</td>\n",
              "      <td>0.014</td>\n",
              "      <td>0.030</td>\n",
              "      <td>27.0</td>\n",
              "      <td>NaN</td>\n",
              "      <td>서울 노원구 화랑로 429</td>\n",
              "    </tr>\n",
              "    <tr>\n",
              "      <th>1025851</th>\n",
              "      <td>서울 노원구</td>\n",
              "      <td>111312</td>\n",
              "      <td>화랑로</td>\n",
              "      <td>2017123121</td>\n",
              "      <td>0.004</td>\n",
              "      <td>0.5</td>\n",
              "      <td>0.015</td>\n",
              "      <td>0.029</td>\n",
              "      <td>26.0</td>\n",
              "      <td>NaN</td>\n",
              "      <td>서울 노원구 화랑로 429</td>\n",
              "    </tr>\n",
              "    <tr>\n",
              "      <th>1025852</th>\n",
              "      <td>서울 노원구</td>\n",
              "      <td>111312</td>\n",
              "      <td>화랑로</td>\n",
              "      <td>2017123122</td>\n",
              "      <td>0.005</td>\n",
              "      <td>0.5</td>\n",
              "      <td>0.014</td>\n",
              "      <td>0.027</td>\n",
              "      <td>35.0</td>\n",
              "      <td>NaN</td>\n",
              "      <td>서울 노원구 화랑로 429</td>\n",
              "    </tr>\n",
              "    <tr>\n",
              "      <th>1025853</th>\n",
              "      <td>서울 노원구</td>\n",
              "      <td>111312</td>\n",
              "      <td>화랑로</td>\n",
              "      <td>2017123123</td>\n",
              "      <td>0.005</td>\n",
              "      <td>0.4</td>\n",
              "      <td>0.017</td>\n",
              "      <td>0.024</td>\n",
              "      <td>36.0</td>\n",
              "      <td>NaN</td>\n",
              "      <td>서울 노원구 화랑로 429</td>\n",
              "    </tr>\n",
              "    <tr>\n",
              "      <th>1025854</th>\n",
              "      <td>서울 노원구</td>\n",
              "      <td>111312</td>\n",
              "      <td>화랑로</td>\n",
              "      <td>2017123124</td>\n",
              "      <td>0.004</td>\n",
              "      <td>0.4</td>\n",
              "      <td>0.018</td>\n",
              "      <td>0.022</td>\n",
              "      <td>31.0</td>\n",
              "      <td>NaN</td>\n",
              "      <td>서울 노원구 화랑로 429</td>\n",
              "    </tr>\n",
              "  </tbody>\n",
              "</table>\n",
              "<p>1025855 rows × 11 columns</p>\n",
              "</div>"
            ],
            "text/plain": [
              "           seoul    code  loc        date  ...    NO2   PM10  PM25             adr\n",
              "0             서울  111121   중구  2015010102  ...  0.010   57.0  10.0   서울 중구 덕수궁길 15\n",
              "1             서울  111121   중구  2015010103  ...  0.010   76.0  10.0   서울 중구 덕수궁길 15\n",
              "2             서울  111121   중구  2015010104  ...  0.009   86.0  11.0   서울 중구 덕수궁길 15\n",
              "3             서울  111121   중구  2015010105  ...  0.009  106.0  12.0   서울 중구 덕수궁길 15\n",
              "4             서울  111121   중구  2015010106  ...  0.009  128.0  18.0   서울 중구 덕수궁길 15\n",
              "...          ...     ...  ...         ...  ...    ...    ...   ...             ...\n",
              "1025850  서울 노원구   111312  화랑로  2017123120  ...  0.030   27.0   NaN  서울 노원구 화랑로 429\n",
              "1025851  서울 노원구   111312  화랑로  2017123121  ...  0.029   26.0   NaN  서울 노원구 화랑로 429\n",
              "1025852  서울 노원구   111312  화랑로  2017123122  ...  0.027   35.0   NaN  서울 노원구 화랑로 429\n",
              "1025853  서울 노원구   111312  화랑로  2017123123  ...  0.024   36.0   NaN  서울 노원구 화랑로 429\n",
              "1025854  서울 노원구   111312  화랑로  2017123124  ...  0.022   31.0   NaN  서울 노원구 화랑로 429\n",
              "\n",
              "[1025855 rows x 11 columns]"
            ]
          },
          "metadata": {
            "tags": []
          },
          "execution_count": 70
        }
      ]
    },
    {
      "cell_type": "code",
      "metadata": {
        "colab": {
          "base_uri": "https://localhost:8080/",
          "height": 415
        },
        "id": "YB_7_HNjOXOh",
        "outputId": "129d7e30-7fdd-4493-88b0-a02d01b41925"
      },
      "source": [
        "df1 = pd.read_excel('/content/drive/My Drive/Data/data_sum1.xlsx', names = col_names)\n",
        "df1"
      ],
      "execution_count": 71,
      "outputs": [
        {
          "output_type": "execute_result",
          "data": {
            "text/html": [
              "<div>\n",
              "<style scoped>\n",
              "    .dataframe tbody tr th:only-of-type {\n",
              "        vertical-align: middle;\n",
              "    }\n",
              "\n",
              "    .dataframe tbody tr th {\n",
              "        vertical-align: top;\n",
              "    }\n",
              "\n",
              "    .dataframe thead th {\n",
              "        text-align: right;\n",
              "    }\n",
              "</style>\n",
              "<table border=\"1\" class=\"dataframe\">\n",
              "  <thead>\n",
              "    <tr style=\"text-align: right;\">\n",
              "      <th></th>\n",
              "      <th>seoul</th>\n",
              "      <th>code</th>\n",
              "      <th>loc</th>\n",
              "      <th>date</th>\n",
              "      <th>SO2</th>\n",
              "      <th>CO</th>\n",
              "      <th>O3</th>\n",
              "      <th>NO2</th>\n",
              "      <th>PM10</th>\n",
              "      <th>PM25</th>\n",
              "      <th>adr</th>\n",
              "    </tr>\n",
              "  </thead>\n",
              "  <tbody>\n",
              "    <tr>\n",
              "      <th>0</th>\n",
              "      <td>서울</td>\n",
              "      <td>111121</td>\n",
              "      <td>중구</td>\n",
              "      <td>2015010102</td>\n",
              "      <td>0.006</td>\n",
              "      <td>0.6</td>\n",
              "      <td>0.022</td>\n",
              "      <td>0.010</td>\n",
              "      <td>57.0</td>\n",
              "      <td>10.0</td>\n",
              "      <td>서울 중구 덕수궁길 15</td>\n",
              "    </tr>\n",
              "    <tr>\n",
              "      <th>1</th>\n",
              "      <td>서울</td>\n",
              "      <td>111121</td>\n",
              "      <td>중구</td>\n",
              "      <td>2015010103</td>\n",
              "      <td>0.006</td>\n",
              "      <td>0.6</td>\n",
              "      <td>0.021</td>\n",
              "      <td>0.010</td>\n",
              "      <td>76.0</td>\n",
              "      <td>10.0</td>\n",
              "      <td>서울 중구 덕수궁길 15</td>\n",
              "    </tr>\n",
              "    <tr>\n",
              "      <th>2</th>\n",
              "      <td>서울</td>\n",
              "      <td>111121</td>\n",
              "      <td>중구</td>\n",
              "      <td>2015010104</td>\n",
              "      <td>0.006</td>\n",
              "      <td>0.6</td>\n",
              "      <td>0.022</td>\n",
              "      <td>0.009</td>\n",
              "      <td>86.0</td>\n",
              "      <td>11.0</td>\n",
              "      <td>서울 중구 덕수궁길 15</td>\n",
              "    </tr>\n",
              "    <tr>\n",
              "      <th>3</th>\n",
              "      <td>서울</td>\n",
              "      <td>111121</td>\n",
              "      <td>중구</td>\n",
              "      <td>2015010105</td>\n",
              "      <td>0.006</td>\n",
              "      <td>0.5</td>\n",
              "      <td>0.021</td>\n",
              "      <td>0.009</td>\n",
              "      <td>106.0</td>\n",
              "      <td>12.0</td>\n",
              "      <td>서울 중구 덕수궁길 15</td>\n",
              "    </tr>\n",
              "    <tr>\n",
              "      <th>4</th>\n",
              "      <td>서울</td>\n",
              "      <td>111121</td>\n",
              "      <td>중구</td>\n",
              "      <td>2015010106</td>\n",
              "      <td>0.006</td>\n",
              "      <td>0.6</td>\n",
              "      <td>0.020</td>\n",
              "      <td>0.009</td>\n",
              "      <td>128.0</td>\n",
              "      <td>18.0</td>\n",
              "      <td>서울 중구 덕수궁길 15</td>\n",
              "    </tr>\n",
              "    <tr>\n",
              "      <th>...</th>\n",
              "      <td>...</td>\n",
              "      <td>...</td>\n",
              "      <td>...</td>\n",
              "      <td>...</td>\n",
              "      <td>...</td>\n",
              "      <td>...</td>\n",
              "      <td>...</td>\n",
              "      <td>...</td>\n",
              "      <td>...</td>\n",
              "      <td>...</td>\n",
              "      <td>...</td>\n",
              "    </tr>\n",
              "    <tr>\n",
              "      <th>1025850</th>\n",
              "      <td>서울 노원구</td>\n",
              "      <td>111312</td>\n",
              "      <td>화랑로</td>\n",
              "      <td>2017123120</td>\n",
              "      <td>0.004</td>\n",
              "      <td>0.5</td>\n",
              "      <td>0.014</td>\n",
              "      <td>0.030</td>\n",
              "      <td>27.0</td>\n",
              "      <td>NaN</td>\n",
              "      <td>서울 노원구 화랑로 429</td>\n",
              "    </tr>\n",
              "    <tr>\n",
              "      <th>1025851</th>\n",
              "      <td>서울 노원구</td>\n",
              "      <td>111312</td>\n",
              "      <td>화랑로</td>\n",
              "      <td>2017123121</td>\n",
              "      <td>0.004</td>\n",
              "      <td>0.5</td>\n",
              "      <td>0.015</td>\n",
              "      <td>0.029</td>\n",
              "      <td>26.0</td>\n",
              "      <td>NaN</td>\n",
              "      <td>서울 노원구 화랑로 429</td>\n",
              "    </tr>\n",
              "    <tr>\n",
              "      <th>1025852</th>\n",
              "      <td>서울 노원구</td>\n",
              "      <td>111312</td>\n",
              "      <td>화랑로</td>\n",
              "      <td>2017123122</td>\n",
              "      <td>0.005</td>\n",
              "      <td>0.5</td>\n",
              "      <td>0.014</td>\n",
              "      <td>0.027</td>\n",
              "      <td>35.0</td>\n",
              "      <td>NaN</td>\n",
              "      <td>서울 노원구 화랑로 429</td>\n",
              "    </tr>\n",
              "    <tr>\n",
              "      <th>1025853</th>\n",
              "      <td>서울 노원구</td>\n",
              "      <td>111312</td>\n",
              "      <td>화랑로</td>\n",
              "      <td>2017123123</td>\n",
              "      <td>0.005</td>\n",
              "      <td>0.4</td>\n",
              "      <td>0.017</td>\n",
              "      <td>0.024</td>\n",
              "      <td>36.0</td>\n",
              "      <td>NaN</td>\n",
              "      <td>서울 노원구 화랑로 429</td>\n",
              "    </tr>\n",
              "    <tr>\n",
              "      <th>1025854</th>\n",
              "      <td>서울 노원구</td>\n",
              "      <td>111312</td>\n",
              "      <td>화랑로</td>\n",
              "      <td>2017123124</td>\n",
              "      <td>0.004</td>\n",
              "      <td>0.4</td>\n",
              "      <td>0.018</td>\n",
              "      <td>0.022</td>\n",
              "      <td>31.0</td>\n",
              "      <td>NaN</td>\n",
              "      <td>서울 노원구 화랑로 429</td>\n",
              "    </tr>\n",
              "  </tbody>\n",
              "</table>\n",
              "<p>1025855 rows × 11 columns</p>\n",
              "</div>"
            ],
            "text/plain": [
              "           seoul    code  loc        date  ...    NO2   PM10  PM25             adr\n",
              "0             서울  111121   중구  2015010102  ...  0.010   57.0  10.0   서울 중구 덕수궁길 15\n",
              "1             서울  111121   중구  2015010103  ...  0.010   76.0  10.0   서울 중구 덕수궁길 15\n",
              "2             서울  111121   중구  2015010104  ...  0.009   86.0  11.0   서울 중구 덕수궁길 15\n",
              "3             서울  111121   중구  2015010105  ...  0.009  106.0  12.0   서울 중구 덕수궁길 15\n",
              "4             서울  111121   중구  2015010106  ...  0.009  128.0  18.0   서울 중구 덕수궁길 15\n",
              "...          ...     ...  ...         ...  ...    ...    ...   ...             ...\n",
              "1025850  서울 노원구   111312  화랑로  2017123120  ...  0.030   27.0   NaN  서울 노원구 화랑로 429\n",
              "1025851  서울 노원구   111312  화랑로  2017123121  ...  0.029   26.0   NaN  서울 노원구 화랑로 429\n",
              "1025852  서울 노원구   111312  화랑로  2017123122  ...  0.027   35.0   NaN  서울 노원구 화랑로 429\n",
              "1025853  서울 노원구   111312  화랑로  2017123123  ...  0.024   36.0   NaN  서울 노원구 화랑로 429\n",
              "1025854  서울 노원구   111312  화랑로  2017123124  ...  0.022   31.0   NaN  서울 노원구 화랑로 429\n",
              "\n",
              "[1025855 rows x 11 columns]"
            ]
          },
          "metadata": {
            "tags": []
          },
          "execution_count": 71
        }
      ]
    },
    {
      "cell_type": "code",
      "metadata": {
        "colab": {
          "base_uri": "https://localhost:8080/"
        },
        "id": "tVDqGtPST_U6",
        "outputId": "8bfe6855-ea55-41b4-8bd0-4c83424a98ad"
      },
      "source": [
        "seo = df1['seoul'] == '서울'\n",
        "seo"
      ],
      "execution_count": 72,
      "outputs": [
        {
          "output_type": "execute_result",
          "data": {
            "text/plain": [
              "0           True\n",
              "1           True\n",
              "2           True\n",
              "3           True\n",
              "4           True\n",
              "           ...  \n",
              "1025850    False\n",
              "1025851    False\n",
              "1025852    False\n",
              "1025853    False\n",
              "1025854    False\n",
              "Name: seoul, Length: 1025855, dtype: bool"
            ]
          },
          "metadata": {
            "tags": []
          },
          "execution_count": 72
        }
      ]
    },
    {
      "cell_type": "code",
      "metadata": {
        "id": "Hj7aglaPUUec"
      },
      "source": [
        "df_seo = df1[seo]"
      ],
      "execution_count": 73,
      "outputs": []
    },
    {
      "cell_type": "code",
      "metadata": {
        "colab": {
          "base_uri": "https://localhost:8080/",
          "height": 415
        },
        "id": "kGL3X63RbiW-",
        "outputId": "485e211b-5bd0-4b23-cc31-bce3029d442e"
      },
      "source": [
        "df_seo1 = df_seo.drop(['seoul','code'], axis=1)\n",
        "df_seo1"
      ],
      "execution_count": 74,
      "outputs": [
        {
          "output_type": "execute_result",
          "data": {
            "text/html": [
              "<div>\n",
              "<style scoped>\n",
              "    .dataframe tbody tr th:only-of-type {\n",
              "        vertical-align: middle;\n",
              "    }\n",
              "\n",
              "    .dataframe tbody tr th {\n",
              "        vertical-align: top;\n",
              "    }\n",
              "\n",
              "    .dataframe thead th {\n",
              "        text-align: right;\n",
              "    }\n",
              "</style>\n",
              "<table border=\"1\" class=\"dataframe\">\n",
              "  <thead>\n",
              "    <tr style=\"text-align: right;\">\n",
              "      <th></th>\n",
              "      <th>loc</th>\n",
              "      <th>date</th>\n",
              "      <th>SO2</th>\n",
              "      <th>CO</th>\n",
              "      <th>O3</th>\n",
              "      <th>NO2</th>\n",
              "      <th>PM10</th>\n",
              "      <th>PM25</th>\n",
              "      <th>adr</th>\n",
              "    </tr>\n",
              "  </thead>\n",
              "  <tbody>\n",
              "    <tr>\n",
              "      <th>0</th>\n",
              "      <td>중구</td>\n",
              "      <td>2015010102</td>\n",
              "      <td>0.006</td>\n",
              "      <td>0.6</td>\n",
              "      <td>0.022</td>\n",
              "      <td>0.010</td>\n",
              "      <td>57.0</td>\n",
              "      <td>10.0</td>\n",
              "      <td>서울 중구 덕수궁길 15</td>\n",
              "    </tr>\n",
              "    <tr>\n",
              "      <th>1</th>\n",
              "      <td>중구</td>\n",
              "      <td>2015010103</td>\n",
              "      <td>0.006</td>\n",
              "      <td>0.6</td>\n",
              "      <td>0.021</td>\n",
              "      <td>0.010</td>\n",
              "      <td>76.0</td>\n",
              "      <td>10.0</td>\n",
              "      <td>서울 중구 덕수궁길 15</td>\n",
              "    </tr>\n",
              "    <tr>\n",
              "      <th>2</th>\n",
              "      <td>중구</td>\n",
              "      <td>2015010104</td>\n",
              "      <td>0.006</td>\n",
              "      <td>0.6</td>\n",
              "      <td>0.022</td>\n",
              "      <td>0.009</td>\n",
              "      <td>86.0</td>\n",
              "      <td>11.0</td>\n",
              "      <td>서울 중구 덕수궁길 15</td>\n",
              "    </tr>\n",
              "    <tr>\n",
              "      <th>3</th>\n",
              "      <td>중구</td>\n",
              "      <td>2015010105</td>\n",
              "      <td>0.006</td>\n",
              "      <td>0.5</td>\n",
              "      <td>0.021</td>\n",
              "      <td>0.009</td>\n",
              "      <td>106.0</td>\n",
              "      <td>12.0</td>\n",
              "      <td>서울 중구 덕수궁길 15</td>\n",
              "    </tr>\n",
              "    <tr>\n",
              "      <th>4</th>\n",
              "      <td>중구</td>\n",
              "      <td>2015010106</td>\n",
              "      <td>0.006</td>\n",
              "      <td>0.6</td>\n",
              "      <td>0.020</td>\n",
              "      <td>0.009</td>\n",
              "      <td>128.0</td>\n",
              "      <td>18.0</td>\n",
              "      <td>서울 중구 덕수궁길 15</td>\n",
              "    </tr>\n",
              "    <tr>\n",
              "      <th>...</th>\n",
              "      <td>...</td>\n",
              "      <td>...</td>\n",
              "      <td>...</td>\n",
              "      <td>...</td>\n",
              "      <td>...</td>\n",
              "      <td>...</td>\n",
              "      <td>...</td>\n",
              "      <td>...</td>\n",
              "      <td>...</td>\n",
              "    </tr>\n",
              "    <tr>\n",
              "      <th>684210</th>\n",
              "      <td>화랑로</td>\n",
              "      <td>2016123120</td>\n",
              "      <td>0.005</td>\n",
              "      <td>1.0</td>\n",
              "      <td>0.004</td>\n",
              "      <td>NaN</td>\n",
              "      <td>70.0</td>\n",
              "      <td>NaN</td>\n",
              "      <td>서울 노원구 화랑로 429</td>\n",
              "    </tr>\n",
              "    <tr>\n",
              "      <th>684211</th>\n",
              "      <td>화랑로</td>\n",
              "      <td>2016123121</td>\n",
              "      <td>0.005</td>\n",
              "      <td>1.3</td>\n",
              "      <td>0.004</td>\n",
              "      <td>NaN</td>\n",
              "      <td>84.0</td>\n",
              "      <td>NaN</td>\n",
              "      <td>서울 노원구 화랑로 429</td>\n",
              "    </tr>\n",
              "    <tr>\n",
              "      <th>684212</th>\n",
              "      <td>화랑로</td>\n",
              "      <td>2016123122</td>\n",
              "      <td>0.005</td>\n",
              "      <td>1.3</td>\n",
              "      <td>0.004</td>\n",
              "      <td>NaN</td>\n",
              "      <td>84.0</td>\n",
              "      <td>NaN</td>\n",
              "      <td>서울 노원구 화랑로 429</td>\n",
              "    </tr>\n",
              "    <tr>\n",
              "      <th>684213</th>\n",
              "      <td>화랑로</td>\n",
              "      <td>2016123123</td>\n",
              "      <td>0.005</td>\n",
              "      <td>1.2</td>\n",
              "      <td>0.004</td>\n",
              "      <td>NaN</td>\n",
              "      <td>72.0</td>\n",
              "      <td>NaN</td>\n",
              "      <td>서울 노원구 화랑로 429</td>\n",
              "    </tr>\n",
              "    <tr>\n",
              "      <th>684214</th>\n",
              "      <td>화랑로</td>\n",
              "      <td>2016123124</td>\n",
              "      <td>0.005</td>\n",
              "      <td>1.3</td>\n",
              "      <td>0.004</td>\n",
              "      <td>NaN</td>\n",
              "      <td>73.0</td>\n",
              "      <td>NaN</td>\n",
              "      <td>서울 노원구 화랑로 429</td>\n",
              "    </tr>\n",
              "  </tbody>\n",
              "</table>\n",
              "<p>684215 rows × 9 columns</p>\n",
              "</div>"
            ],
            "text/plain": [
              "        loc        date    SO2   CO     O3    NO2   PM10  PM25             adr\n",
              "0        중구  2015010102  0.006  0.6  0.022  0.010   57.0  10.0   서울 중구 덕수궁길 15\n",
              "1        중구  2015010103  0.006  0.6  0.021  0.010   76.0  10.0   서울 중구 덕수궁길 15\n",
              "2        중구  2015010104  0.006  0.6  0.022  0.009   86.0  11.0   서울 중구 덕수궁길 15\n",
              "3        중구  2015010105  0.006  0.5  0.021  0.009  106.0  12.0   서울 중구 덕수궁길 15\n",
              "4        중구  2015010106  0.006  0.6  0.020  0.009  128.0  18.0   서울 중구 덕수궁길 15\n",
              "...     ...         ...    ...  ...    ...    ...    ...   ...             ...\n",
              "684210  화랑로  2016123120  0.005  1.0  0.004    NaN   70.0   NaN  서울 노원구 화랑로 429\n",
              "684211  화랑로  2016123121  0.005  1.3  0.004    NaN   84.0   NaN  서울 노원구 화랑로 429\n",
              "684212  화랑로  2016123122  0.005  1.3  0.004    NaN   84.0   NaN  서울 노원구 화랑로 429\n",
              "684213  화랑로  2016123123  0.005  1.2  0.004    NaN   72.0   NaN  서울 노원구 화랑로 429\n",
              "684214  화랑로  2016123124  0.005  1.3  0.004    NaN   73.0   NaN  서울 노원구 화랑로 429\n",
              "\n",
              "[684215 rows x 9 columns]"
            ]
          },
          "metadata": {
            "tags": []
          },
          "execution_count": 74
        }
      ]
    },
    {
      "cell_type": "code",
      "metadata": {
        "colab": {
          "base_uri": "https://localhost:8080/",
          "height": 415
        },
        "id": "cOnoPpTQiLO0",
        "outputId": "a8e186e9-8b94-47eb-e682-fe2f9fd34119"
      },
      "source": [
        "df_seo2 = df_seo1.replace('화랑로','노원구')\n",
        "df_seo3 = df_seo2.replace('한강대로','용산구')\n",
        "df_seo4 = df_seo3.replace('강남대로','서초구')\n",
        "df_seo5 = df_seo4.replace('강변북로','성동구')\n",
        "df_seo6 = df_seo5.replace('공항대로','강서구')\n",
        "df_seo7 = df_seo6.replace('도산대로','강남구')\n",
        "df_seo8 = df_seo7.replace('동작대로 중앙차로','동작구')\n",
        "df_seo9 = df_seo8.replace('신촌로','마포구')\n",
        "df_seo10 = df_seo9.replace('정릉로','성북구')\n",
        "df_seo11 = df_seo10.replace('종로','종로구')\n",
        "df_seo12 = df_seo11.replace('천호대로','강동구')\n",
        "df_seo13 = df_seo12.replace('청계천로','중구')\n",
        "df_seo14 = df_seo13.replace('홍릉로','동대문구')\n",
        "df_seo15 = df_seo14.drop('adr', axis=1)\n",
        "df_seo15"
      ],
      "execution_count": 75,
      "outputs": [
        {
          "output_type": "execute_result",
          "data": {
            "text/html": [
              "<div>\n",
              "<style scoped>\n",
              "    .dataframe tbody tr th:only-of-type {\n",
              "        vertical-align: middle;\n",
              "    }\n",
              "\n",
              "    .dataframe tbody tr th {\n",
              "        vertical-align: top;\n",
              "    }\n",
              "\n",
              "    .dataframe thead th {\n",
              "        text-align: right;\n",
              "    }\n",
              "</style>\n",
              "<table border=\"1\" class=\"dataframe\">\n",
              "  <thead>\n",
              "    <tr style=\"text-align: right;\">\n",
              "      <th></th>\n",
              "      <th>loc</th>\n",
              "      <th>date</th>\n",
              "      <th>SO2</th>\n",
              "      <th>CO</th>\n",
              "      <th>O3</th>\n",
              "      <th>NO2</th>\n",
              "      <th>PM10</th>\n",
              "      <th>PM25</th>\n",
              "    </tr>\n",
              "  </thead>\n",
              "  <tbody>\n",
              "    <tr>\n",
              "      <th>0</th>\n",
              "      <td>중구</td>\n",
              "      <td>2015010102</td>\n",
              "      <td>0.006</td>\n",
              "      <td>0.6</td>\n",
              "      <td>0.022</td>\n",
              "      <td>0.010</td>\n",
              "      <td>57.0</td>\n",
              "      <td>10.0</td>\n",
              "    </tr>\n",
              "    <tr>\n",
              "      <th>1</th>\n",
              "      <td>중구</td>\n",
              "      <td>2015010103</td>\n",
              "      <td>0.006</td>\n",
              "      <td>0.6</td>\n",
              "      <td>0.021</td>\n",
              "      <td>0.010</td>\n",
              "      <td>76.0</td>\n",
              "      <td>10.0</td>\n",
              "    </tr>\n",
              "    <tr>\n",
              "      <th>2</th>\n",
              "      <td>중구</td>\n",
              "      <td>2015010104</td>\n",
              "      <td>0.006</td>\n",
              "      <td>0.6</td>\n",
              "      <td>0.022</td>\n",
              "      <td>0.009</td>\n",
              "      <td>86.0</td>\n",
              "      <td>11.0</td>\n",
              "    </tr>\n",
              "    <tr>\n",
              "      <th>3</th>\n",
              "      <td>중구</td>\n",
              "      <td>2015010105</td>\n",
              "      <td>0.006</td>\n",
              "      <td>0.5</td>\n",
              "      <td>0.021</td>\n",
              "      <td>0.009</td>\n",
              "      <td>106.0</td>\n",
              "      <td>12.0</td>\n",
              "    </tr>\n",
              "    <tr>\n",
              "      <th>4</th>\n",
              "      <td>중구</td>\n",
              "      <td>2015010106</td>\n",
              "      <td>0.006</td>\n",
              "      <td>0.6</td>\n",
              "      <td>0.020</td>\n",
              "      <td>0.009</td>\n",
              "      <td>128.0</td>\n",
              "      <td>18.0</td>\n",
              "    </tr>\n",
              "    <tr>\n",
              "      <th>...</th>\n",
              "      <td>...</td>\n",
              "      <td>...</td>\n",
              "      <td>...</td>\n",
              "      <td>...</td>\n",
              "      <td>...</td>\n",
              "      <td>...</td>\n",
              "      <td>...</td>\n",
              "      <td>...</td>\n",
              "    </tr>\n",
              "    <tr>\n",
              "      <th>684210</th>\n",
              "      <td>노원구</td>\n",
              "      <td>2016123120</td>\n",
              "      <td>0.005</td>\n",
              "      <td>1.0</td>\n",
              "      <td>0.004</td>\n",
              "      <td>NaN</td>\n",
              "      <td>70.0</td>\n",
              "      <td>NaN</td>\n",
              "    </tr>\n",
              "    <tr>\n",
              "      <th>684211</th>\n",
              "      <td>노원구</td>\n",
              "      <td>2016123121</td>\n",
              "      <td>0.005</td>\n",
              "      <td>1.3</td>\n",
              "      <td>0.004</td>\n",
              "      <td>NaN</td>\n",
              "      <td>84.0</td>\n",
              "      <td>NaN</td>\n",
              "    </tr>\n",
              "    <tr>\n",
              "      <th>684212</th>\n",
              "      <td>노원구</td>\n",
              "      <td>2016123122</td>\n",
              "      <td>0.005</td>\n",
              "      <td>1.3</td>\n",
              "      <td>0.004</td>\n",
              "      <td>NaN</td>\n",
              "      <td>84.0</td>\n",
              "      <td>NaN</td>\n",
              "    </tr>\n",
              "    <tr>\n",
              "      <th>684213</th>\n",
              "      <td>노원구</td>\n",
              "      <td>2016123123</td>\n",
              "      <td>0.005</td>\n",
              "      <td>1.2</td>\n",
              "      <td>0.004</td>\n",
              "      <td>NaN</td>\n",
              "      <td>72.0</td>\n",
              "      <td>NaN</td>\n",
              "    </tr>\n",
              "    <tr>\n",
              "      <th>684214</th>\n",
              "      <td>노원구</td>\n",
              "      <td>2016123124</td>\n",
              "      <td>0.005</td>\n",
              "      <td>1.3</td>\n",
              "      <td>0.004</td>\n",
              "      <td>NaN</td>\n",
              "      <td>73.0</td>\n",
              "      <td>NaN</td>\n",
              "    </tr>\n",
              "  </tbody>\n",
              "</table>\n",
              "<p>684215 rows × 8 columns</p>\n",
              "</div>"
            ],
            "text/plain": [
              "        loc        date    SO2   CO     O3    NO2   PM10  PM25\n",
              "0        중구  2015010102  0.006  0.6  0.022  0.010   57.0  10.0\n",
              "1        중구  2015010103  0.006  0.6  0.021  0.010   76.0  10.0\n",
              "2        중구  2015010104  0.006  0.6  0.022  0.009   86.0  11.0\n",
              "3        중구  2015010105  0.006  0.5  0.021  0.009  106.0  12.0\n",
              "4        중구  2015010106  0.006  0.6  0.020  0.009  128.0  18.0\n",
              "...     ...         ...    ...  ...    ...    ...    ...   ...\n",
              "684210  노원구  2016123120  0.005  1.0  0.004    NaN   70.0   NaN\n",
              "684211  노원구  2016123121  0.005  1.3  0.004    NaN   84.0   NaN\n",
              "684212  노원구  2016123122  0.005  1.3  0.004    NaN   84.0   NaN\n",
              "684213  노원구  2016123123  0.005  1.2  0.004    NaN   72.0   NaN\n",
              "684214  노원구  2016123124  0.005  1.3  0.004    NaN   73.0   NaN\n",
              "\n",
              "[684215 rows x 8 columns]"
            ]
          },
          "metadata": {
            "tags": []
          },
          "execution_count": 75
        }
      ]
    },
    {
      "cell_type": "code",
      "metadata": {
        "colab": {
          "base_uri": "https://localhost:8080/",
          "height": 415
        },
        "id": "h00EEJ_riLQr",
        "outputId": "2c7debf1-d4b4-4f1d-de66-cc8f00791175"
      },
      "source": [
        "seoul = df1['seoul'] != '서울'\n",
        "df_seoul = df1[seoul]\n",
        "df_seoul1 = df_seoul.drop(['seoul','code','adr'], axis=1)\n",
        "df_seoul2 = df_seoul1.reset_index()\n",
        "df_seoul3 = df_seoul2.drop('index', axis=1)\n",
        "df_seoul3"
      ],
      "execution_count": 76,
      "outputs": [
        {
          "output_type": "execute_result",
          "data": {
            "text/html": [
              "<div>\n",
              "<style scoped>\n",
              "    .dataframe tbody tr th:only-of-type {\n",
              "        vertical-align: middle;\n",
              "    }\n",
              "\n",
              "    .dataframe tbody tr th {\n",
              "        vertical-align: top;\n",
              "    }\n",
              "\n",
              "    .dataframe thead th {\n",
              "        text-align: right;\n",
              "    }\n",
              "</style>\n",
              "<table border=\"1\" class=\"dataframe\">\n",
              "  <thead>\n",
              "    <tr style=\"text-align: right;\">\n",
              "      <th></th>\n",
              "      <th>loc</th>\n",
              "      <th>date</th>\n",
              "      <th>SO2</th>\n",
              "      <th>CO</th>\n",
              "      <th>O3</th>\n",
              "      <th>NO2</th>\n",
              "      <th>PM10</th>\n",
              "      <th>PM25</th>\n",
              "    </tr>\n",
              "  </thead>\n",
              "  <tbody>\n",
              "    <tr>\n",
              "      <th>0</th>\n",
              "      <td>중구</td>\n",
              "      <td>2017010101</td>\n",
              "      <td>0.006</td>\n",
              "      <td>1.3</td>\n",
              "      <td>0.002</td>\n",
              "      <td>0.068</td>\n",
              "      <td>77.0</td>\n",
              "      <td>63.0</td>\n",
              "    </tr>\n",
              "    <tr>\n",
              "      <th>1</th>\n",
              "      <td>중구</td>\n",
              "      <td>2017010102</td>\n",
              "      <td>0.006</td>\n",
              "      <td>1.4</td>\n",
              "      <td>0.002</td>\n",
              "      <td>0.066</td>\n",
              "      <td>76.0</td>\n",
              "      <td>63.0</td>\n",
              "    </tr>\n",
              "    <tr>\n",
              "      <th>2</th>\n",
              "      <td>중구</td>\n",
              "      <td>2017010103</td>\n",
              "      <td>0.005</td>\n",
              "      <td>1.2</td>\n",
              "      <td>0.002</td>\n",
              "      <td>0.063</td>\n",
              "      <td>73.0</td>\n",
              "      <td>57.0</td>\n",
              "    </tr>\n",
              "    <tr>\n",
              "      <th>3</th>\n",
              "      <td>중구</td>\n",
              "      <td>2017010104</td>\n",
              "      <td>0.005</td>\n",
              "      <td>1.1</td>\n",
              "      <td>0.002</td>\n",
              "      <td>0.053</td>\n",
              "      <td>67.0</td>\n",
              "      <td>55.0</td>\n",
              "    </tr>\n",
              "    <tr>\n",
              "      <th>4</th>\n",
              "      <td>중구</td>\n",
              "      <td>2017010105</td>\n",
              "      <td>0.004</td>\n",
              "      <td>1.1</td>\n",
              "      <td>0.002</td>\n",
              "      <td>0.051</td>\n",
              "      <td>66.0</td>\n",
              "      <td>54.0</td>\n",
              "    </tr>\n",
              "    <tr>\n",
              "      <th>...</th>\n",
              "      <td>...</td>\n",
              "      <td>...</td>\n",
              "      <td>...</td>\n",
              "      <td>...</td>\n",
              "      <td>...</td>\n",
              "      <td>...</td>\n",
              "      <td>...</td>\n",
              "      <td>...</td>\n",
              "    </tr>\n",
              "    <tr>\n",
              "      <th>341635</th>\n",
              "      <td>화랑로</td>\n",
              "      <td>2017123120</td>\n",
              "      <td>0.004</td>\n",
              "      <td>0.5</td>\n",
              "      <td>0.014</td>\n",
              "      <td>0.030</td>\n",
              "      <td>27.0</td>\n",
              "      <td>NaN</td>\n",
              "    </tr>\n",
              "    <tr>\n",
              "      <th>341636</th>\n",
              "      <td>화랑로</td>\n",
              "      <td>2017123121</td>\n",
              "      <td>0.004</td>\n",
              "      <td>0.5</td>\n",
              "      <td>0.015</td>\n",
              "      <td>0.029</td>\n",
              "      <td>26.0</td>\n",
              "      <td>NaN</td>\n",
              "    </tr>\n",
              "    <tr>\n",
              "      <th>341637</th>\n",
              "      <td>화랑로</td>\n",
              "      <td>2017123122</td>\n",
              "      <td>0.005</td>\n",
              "      <td>0.5</td>\n",
              "      <td>0.014</td>\n",
              "      <td>0.027</td>\n",
              "      <td>35.0</td>\n",
              "      <td>NaN</td>\n",
              "    </tr>\n",
              "    <tr>\n",
              "      <th>341638</th>\n",
              "      <td>화랑로</td>\n",
              "      <td>2017123123</td>\n",
              "      <td>0.005</td>\n",
              "      <td>0.4</td>\n",
              "      <td>0.017</td>\n",
              "      <td>0.024</td>\n",
              "      <td>36.0</td>\n",
              "      <td>NaN</td>\n",
              "    </tr>\n",
              "    <tr>\n",
              "      <th>341639</th>\n",
              "      <td>화랑로</td>\n",
              "      <td>2017123124</td>\n",
              "      <td>0.004</td>\n",
              "      <td>0.4</td>\n",
              "      <td>0.018</td>\n",
              "      <td>0.022</td>\n",
              "      <td>31.0</td>\n",
              "      <td>NaN</td>\n",
              "    </tr>\n",
              "  </tbody>\n",
              "</table>\n",
              "<p>341640 rows × 8 columns</p>\n",
              "</div>"
            ],
            "text/plain": [
              "        loc        date    SO2   CO     O3    NO2  PM10  PM25\n",
              "0        중구  2017010101  0.006  1.3  0.002  0.068  77.0  63.0\n",
              "1        중구  2017010102  0.006  1.4  0.002  0.066  76.0  63.0\n",
              "2        중구  2017010103  0.005  1.2  0.002  0.063  73.0  57.0\n",
              "3        중구  2017010104  0.005  1.1  0.002  0.053  67.0  55.0\n",
              "4        중구  2017010105  0.004  1.1  0.002  0.051  66.0  54.0\n",
              "...     ...         ...    ...  ...    ...    ...   ...   ...\n",
              "341635  화랑로  2017123120  0.004  0.5  0.014  0.030  27.0   NaN\n",
              "341636  화랑로  2017123121  0.004  0.5  0.015  0.029  26.0   NaN\n",
              "341637  화랑로  2017123122  0.005  0.5  0.014  0.027  35.0   NaN\n",
              "341638  화랑로  2017123123  0.005  0.4  0.017  0.024  36.0   NaN\n",
              "341639  화랑로  2017123124  0.004  0.4  0.018  0.022  31.0   NaN\n",
              "\n",
              "[341640 rows x 8 columns]"
            ]
          },
          "metadata": {
            "tags": []
          },
          "execution_count": 76
        }
      ]
    },
    {
      "cell_type": "code",
      "metadata": {
        "colab": {
          "base_uri": "https://localhost:8080/",
          "height": 415
        },
        "id": "0-dNNUAtiLSb",
        "outputId": "172beccb-3b16-465c-cfa7-7e7371eebaf5"
      },
      "source": [
        "df_sum_1 = pd.concat([df_seo15, df_seoul3])\n",
        "df_sum_1"
      ],
      "execution_count": 77,
      "outputs": [
        {
          "output_type": "execute_result",
          "data": {
            "text/html": [
              "<div>\n",
              "<style scoped>\n",
              "    .dataframe tbody tr th:only-of-type {\n",
              "        vertical-align: middle;\n",
              "    }\n",
              "\n",
              "    .dataframe tbody tr th {\n",
              "        vertical-align: top;\n",
              "    }\n",
              "\n",
              "    .dataframe thead th {\n",
              "        text-align: right;\n",
              "    }\n",
              "</style>\n",
              "<table border=\"1\" class=\"dataframe\">\n",
              "  <thead>\n",
              "    <tr style=\"text-align: right;\">\n",
              "      <th></th>\n",
              "      <th>loc</th>\n",
              "      <th>date</th>\n",
              "      <th>SO2</th>\n",
              "      <th>CO</th>\n",
              "      <th>O3</th>\n",
              "      <th>NO2</th>\n",
              "      <th>PM10</th>\n",
              "      <th>PM25</th>\n",
              "    </tr>\n",
              "  </thead>\n",
              "  <tbody>\n",
              "    <tr>\n",
              "      <th>0</th>\n",
              "      <td>중구</td>\n",
              "      <td>2015010102</td>\n",
              "      <td>0.006</td>\n",
              "      <td>0.6</td>\n",
              "      <td>0.022</td>\n",
              "      <td>0.010</td>\n",
              "      <td>57.0</td>\n",
              "      <td>10.0</td>\n",
              "    </tr>\n",
              "    <tr>\n",
              "      <th>1</th>\n",
              "      <td>중구</td>\n",
              "      <td>2015010103</td>\n",
              "      <td>0.006</td>\n",
              "      <td>0.6</td>\n",
              "      <td>0.021</td>\n",
              "      <td>0.010</td>\n",
              "      <td>76.0</td>\n",
              "      <td>10.0</td>\n",
              "    </tr>\n",
              "    <tr>\n",
              "      <th>2</th>\n",
              "      <td>중구</td>\n",
              "      <td>2015010104</td>\n",
              "      <td>0.006</td>\n",
              "      <td>0.6</td>\n",
              "      <td>0.022</td>\n",
              "      <td>0.009</td>\n",
              "      <td>86.0</td>\n",
              "      <td>11.0</td>\n",
              "    </tr>\n",
              "    <tr>\n",
              "      <th>3</th>\n",
              "      <td>중구</td>\n",
              "      <td>2015010105</td>\n",
              "      <td>0.006</td>\n",
              "      <td>0.5</td>\n",
              "      <td>0.021</td>\n",
              "      <td>0.009</td>\n",
              "      <td>106.0</td>\n",
              "      <td>12.0</td>\n",
              "    </tr>\n",
              "    <tr>\n",
              "      <th>4</th>\n",
              "      <td>중구</td>\n",
              "      <td>2015010106</td>\n",
              "      <td>0.006</td>\n",
              "      <td>0.6</td>\n",
              "      <td>0.020</td>\n",
              "      <td>0.009</td>\n",
              "      <td>128.0</td>\n",
              "      <td>18.0</td>\n",
              "    </tr>\n",
              "    <tr>\n",
              "      <th>...</th>\n",
              "      <td>...</td>\n",
              "      <td>...</td>\n",
              "      <td>...</td>\n",
              "      <td>...</td>\n",
              "      <td>...</td>\n",
              "      <td>...</td>\n",
              "      <td>...</td>\n",
              "      <td>...</td>\n",
              "    </tr>\n",
              "    <tr>\n",
              "      <th>341635</th>\n",
              "      <td>화랑로</td>\n",
              "      <td>2017123120</td>\n",
              "      <td>0.004</td>\n",
              "      <td>0.5</td>\n",
              "      <td>0.014</td>\n",
              "      <td>0.030</td>\n",
              "      <td>27.0</td>\n",
              "      <td>NaN</td>\n",
              "    </tr>\n",
              "    <tr>\n",
              "      <th>341636</th>\n",
              "      <td>화랑로</td>\n",
              "      <td>2017123121</td>\n",
              "      <td>0.004</td>\n",
              "      <td>0.5</td>\n",
              "      <td>0.015</td>\n",
              "      <td>0.029</td>\n",
              "      <td>26.0</td>\n",
              "      <td>NaN</td>\n",
              "    </tr>\n",
              "    <tr>\n",
              "      <th>341637</th>\n",
              "      <td>화랑로</td>\n",
              "      <td>2017123122</td>\n",
              "      <td>0.005</td>\n",
              "      <td>0.5</td>\n",
              "      <td>0.014</td>\n",
              "      <td>0.027</td>\n",
              "      <td>35.0</td>\n",
              "      <td>NaN</td>\n",
              "    </tr>\n",
              "    <tr>\n",
              "      <th>341638</th>\n",
              "      <td>화랑로</td>\n",
              "      <td>2017123123</td>\n",
              "      <td>0.005</td>\n",
              "      <td>0.4</td>\n",
              "      <td>0.017</td>\n",
              "      <td>0.024</td>\n",
              "      <td>36.0</td>\n",
              "      <td>NaN</td>\n",
              "    </tr>\n",
              "    <tr>\n",
              "      <th>341639</th>\n",
              "      <td>화랑로</td>\n",
              "      <td>2017123124</td>\n",
              "      <td>0.004</td>\n",
              "      <td>0.4</td>\n",
              "      <td>0.018</td>\n",
              "      <td>0.022</td>\n",
              "      <td>31.0</td>\n",
              "      <td>NaN</td>\n",
              "    </tr>\n",
              "  </tbody>\n",
              "</table>\n",
              "<p>1025855 rows × 8 columns</p>\n",
              "</div>"
            ],
            "text/plain": [
              "        loc        date    SO2   CO     O3    NO2   PM10  PM25\n",
              "0        중구  2015010102  0.006  0.6  0.022  0.010   57.0  10.0\n",
              "1        중구  2015010103  0.006  0.6  0.021  0.010   76.0  10.0\n",
              "2        중구  2015010104  0.006  0.6  0.022  0.009   86.0  11.0\n",
              "3        중구  2015010105  0.006  0.5  0.021  0.009  106.0  12.0\n",
              "4        중구  2015010106  0.006  0.6  0.020  0.009  128.0  18.0\n",
              "...     ...         ...    ...  ...    ...    ...    ...   ...\n",
              "341635  화랑로  2017123120  0.004  0.5  0.014  0.030   27.0   NaN\n",
              "341636  화랑로  2017123121  0.004  0.5  0.015  0.029   26.0   NaN\n",
              "341637  화랑로  2017123122  0.005  0.5  0.014  0.027   35.0   NaN\n",
              "341638  화랑로  2017123123  0.005  0.4  0.017  0.024   36.0   NaN\n",
              "341639  화랑로  2017123124  0.004  0.4  0.018  0.022   31.0   NaN\n",
              "\n",
              "[1025855 rows x 8 columns]"
            ]
          },
          "metadata": {
            "tags": []
          },
          "execution_count": 77
        }
      ]
    },
    {
      "cell_type": "code",
      "metadata": {
        "colab": {
          "base_uri": "https://localhost:8080/",
          "height": 415
        },
        "id": "ITciAshoSxuX",
        "outputId": "ad8cf752-8d89-41d3-c60c-feba06aa6591"
      },
      "source": [
        "df_a = pd.read_excel('/content/drive/My Drive/Data/data_sum2.xlsx', names = col_names)\n",
        "df_a"
      ],
      "execution_count": 78,
      "outputs": [
        {
          "output_type": "execute_result",
          "data": {
            "text/html": [
              "<div>\n",
              "<style scoped>\n",
              "    .dataframe tbody tr th:only-of-type {\n",
              "        vertical-align: middle;\n",
              "    }\n",
              "\n",
              "    .dataframe tbody tr th {\n",
              "        vertical-align: top;\n",
              "    }\n",
              "\n",
              "    .dataframe thead th {\n",
              "        text-align: right;\n",
              "    }\n",
              "</style>\n",
              "<table border=\"1\" class=\"dataframe\">\n",
              "  <thead>\n",
              "    <tr style=\"text-align: right;\">\n",
              "      <th></th>\n",
              "      <th>seoul</th>\n",
              "      <th>code</th>\n",
              "      <th>loc</th>\n",
              "      <th>date</th>\n",
              "      <th>SO2</th>\n",
              "      <th>CO</th>\n",
              "      <th>O3</th>\n",
              "      <th>NO2</th>\n",
              "      <th>PM10</th>\n",
              "      <th>PM25</th>\n",
              "      <th>adr</th>\n",
              "    </tr>\n",
              "  </thead>\n",
              "  <tbody>\n",
              "    <tr>\n",
              "      <th>0</th>\n",
              "      <td>서울 중구</td>\n",
              "      <td>111121</td>\n",
              "      <td>중구</td>\n",
              "      <td>2018010102</td>\n",
              "      <td>0.004</td>\n",
              "      <td>0.4</td>\n",
              "      <td>0.024</td>\n",
              "      <td>0.016</td>\n",
              "      <td>27.0</td>\n",
              "      <td>14.0</td>\n",
              "      <td>서울 중구 덕수궁길 15</td>\n",
              "    </tr>\n",
              "    <tr>\n",
              "      <th>1</th>\n",
              "      <td>서울 중구</td>\n",
              "      <td>111121</td>\n",
              "      <td>중구</td>\n",
              "      <td>2018010103</td>\n",
              "      <td>0.004</td>\n",
              "      <td>0.4</td>\n",
              "      <td>0.018</td>\n",
              "      <td>0.022</td>\n",
              "      <td>26.0</td>\n",
              "      <td>14.0</td>\n",
              "      <td>서울 중구 덕수궁길 15</td>\n",
              "    </tr>\n",
              "    <tr>\n",
              "      <th>2</th>\n",
              "      <td>서울 중구</td>\n",
              "      <td>111121</td>\n",
              "      <td>중구</td>\n",
              "      <td>2018010104</td>\n",
              "      <td>0.004</td>\n",
              "      <td>0.5</td>\n",
              "      <td>0.010</td>\n",
              "      <td>0.030</td>\n",
              "      <td>26.0</td>\n",
              "      <td>15.0</td>\n",
              "      <td>서울 중구 덕수궁길 15</td>\n",
              "    </tr>\n",
              "    <tr>\n",
              "      <th>3</th>\n",
              "      <td>서울 중구</td>\n",
              "      <td>111121</td>\n",
              "      <td>중구</td>\n",
              "      <td>2018010105</td>\n",
              "      <td>0.004</td>\n",
              "      <td>0.6</td>\n",
              "      <td>0.011</td>\n",
              "      <td>0.029</td>\n",
              "      <td>28.0</td>\n",
              "      <td>16.0</td>\n",
              "      <td>서울 중구 덕수궁길 15</td>\n",
              "    </tr>\n",
              "    <tr>\n",
              "      <th>4</th>\n",
              "      <td>서울 중구</td>\n",
              "      <td>111121</td>\n",
              "      <td>중구</td>\n",
              "      <td>2018010106</td>\n",
              "      <td>0.004</td>\n",
              "      <td>0.5</td>\n",
              "      <td>0.012</td>\n",
              "      <td>0.027</td>\n",
              "      <td>29.0</td>\n",
              "      <td>17.0</td>\n",
              "      <td>서울 중구 덕수궁길 15</td>\n",
              "    </tr>\n",
              "    <tr>\n",
              "      <th>...</th>\n",
              "      <td>...</td>\n",
              "      <td>...</td>\n",
              "      <td>...</td>\n",
              "      <td>...</td>\n",
              "      <td>...</td>\n",
              "      <td>...</td>\n",
              "      <td>...</td>\n",
              "      <td>...</td>\n",
              "      <td>...</td>\n",
              "      <td>...</td>\n",
              "      <td>...</td>\n",
              "    </tr>\n",
              "    <tr>\n",
              "      <th>986298</th>\n",
              "      <td>서울 노원구</td>\n",
              "      <td>111312</td>\n",
              "      <td>화랑로</td>\n",
              "      <td>2020103120</td>\n",
              "      <td>0.003</td>\n",
              "      <td>0.5</td>\n",
              "      <td>0.013</td>\n",
              "      <td>0.051</td>\n",
              "      <td>NaN</td>\n",
              "      <td>NaN</td>\n",
              "      <td>서울 노원구 화랑로 429</td>\n",
              "    </tr>\n",
              "    <tr>\n",
              "      <th>986299</th>\n",
              "      <td>서울 노원구</td>\n",
              "      <td>111312</td>\n",
              "      <td>화랑로</td>\n",
              "      <td>2020103121</td>\n",
              "      <td>0.003</td>\n",
              "      <td>0.5</td>\n",
              "      <td>0.017</td>\n",
              "      <td>0.040</td>\n",
              "      <td>NaN</td>\n",
              "      <td>NaN</td>\n",
              "      <td>서울 노원구 화랑로 429</td>\n",
              "    </tr>\n",
              "    <tr>\n",
              "      <th>986300</th>\n",
              "      <td>서울 노원구</td>\n",
              "      <td>111312</td>\n",
              "      <td>화랑로</td>\n",
              "      <td>2020103122</td>\n",
              "      <td>0.003</td>\n",
              "      <td>0.5</td>\n",
              "      <td>0.014</td>\n",
              "      <td>0.043</td>\n",
              "      <td>NaN</td>\n",
              "      <td>NaN</td>\n",
              "      <td>서울 노원구 화랑로 429</td>\n",
              "    </tr>\n",
              "    <tr>\n",
              "      <th>986301</th>\n",
              "      <td>서울 노원구</td>\n",
              "      <td>111312</td>\n",
              "      <td>화랑로</td>\n",
              "      <td>2020103123</td>\n",
              "      <td>0.003</td>\n",
              "      <td>0.6</td>\n",
              "      <td>0.012</td>\n",
              "      <td>0.045</td>\n",
              "      <td>NaN</td>\n",
              "      <td>NaN</td>\n",
              "      <td>서울 노원구 화랑로 429</td>\n",
              "    </tr>\n",
              "    <tr>\n",
              "      <th>986302</th>\n",
              "      <td>서울 노원구</td>\n",
              "      <td>111312</td>\n",
              "      <td>화랑로</td>\n",
              "      <td>2020103124</td>\n",
              "      <td>0.003</td>\n",
              "      <td>0.7</td>\n",
              "      <td>0.005</td>\n",
              "      <td>0.055</td>\n",
              "      <td>NaN</td>\n",
              "      <td>NaN</td>\n",
              "      <td>서울 노원구 화랑로 429</td>\n",
              "    </tr>\n",
              "  </tbody>\n",
              "</table>\n",
              "<p>986303 rows × 11 columns</p>\n",
              "</div>"
            ],
            "text/plain": [
              "         seoul    code  loc        date  ...    NO2  PM10  PM25             adr\n",
              "0        서울 중구  111121   중구  2018010102  ...  0.016  27.0  14.0   서울 중구 덕수궁길 15\n",
              "1        서울 중구  111121   중구  2018010103  ...  0.022  26.0  14.0   서울 중구 덕수궁길 15\n",
              "2        서울 중구  111121   중구  2018010104  ...  0.030  26.0  15.0   서울 중구 덕수궁길 15\n",
              "3        서울 중구  111121   중구  2018010105  ...  0.029  28.0  16.0   서울 중구 덕수궁길 15\n",
              "4        서울 중구  111121   중구  2018010106  ...  0.027  29.0  17.0   서울 중구 덕수궁길 15\n",
              "...        ...     ...  ...         ...  ...    ...   ...   ...             ...\n",
              "986298  서울 노원구  111312  화랑로  2020103120  ...  0.051   NaN   NaN  서울 노원구 화랑로 429\n",
              "986299  서울 노원구  111312  화랑로  2020103121  ...  0.040   NaN   NaN  서울 노원구 화랑로 429\n",
              "986300  서울 노원구  111312  화랑로  2020103122  ...  0.043   NaN   NaN  서울 노원구 화랑로 429\n",
              "986301  서울 노원구  111312  화랑로  2020103123  ...  0.045   NaN   NaN  서울 노원구 화랑로 429\n",
              "986302  서울 노원구  111312  화랑로  2020103124  ...  0.055   NaN   NaN  서울 노원구 화랑로 429\n",
              "\n",
              "[986303 rows x 11 columns]"
            ]
          },
          "metadata": {
            "tags": []
          },
          "execution_count": 78
        }
      ]
    },
    {
      "cell_type": "code",
      "metadata": {
        "colab": {
          "base_uri": "https://localhost:8080/",
          "height": 415
        },
        "id": "z10Ne5xsrj7q",
        "outputId": "4276eff1-787a-46d1-f548-28e0513e23c6"
      },
      "source": [
        "df_a1 = df_a.replace('화랑로','노원구')\n",
        "df_a2 = df_a1.replace('한강대로','용산구')\n",
        "df_a3 = df_a2.replace('강남대로','서초구')\n",
        "df_a4 = df_a3.replace('강변북로','성동구')\n",
        "df_a5 = df_a4.replace('공항대로','강서구')\n",
        "df_a6 = df_a5.replace('도산대로','강남구')\n",
        "df_a7 = df_a6.replace('동작대로 중앙차로','동작구')\n",
        "df_a8 = df_a7.replace('신촌로','마포구')\n",
        "df_a9 = df_a8.replace('정릉로','성북구')\n",
        "df_a10 = df_a9.replace('종로','종로구')\n",
        "df_a11 = df_a10.replace('천호대로','강동구')\n",
        "df_a12 = df_a11.replace('청계천로','중구')\n",
        "df_a13 = df_a12.replace('홍릉로','동대문구')\n",
        "df_a14 = df_a13.drop(['seoul','code','adr'], axis=1)\n",
        "df_a14"
      ],
      "execution_count": 79,
      "outputs": [
        {
          "output_type": "execute_result",
          "data": {
            "text/html": [
              "<div>\n",
              "<style scoped>\n",
              "    .dataframe tbody tr th:only-of-type {\n",
              "        vertical-align: middle;\n",
              "    }\n",
              "\n",
              "    .dataframe tbody tr th {\n",
              "        vertical-align: top;\n",
              "    }\n",
              "\n",
              "    .dataframe thead th {\n",
              "        text-align: right;\n",
              "    }\n",
              "</style>\n",
              "<table border=\"1\" class=\"dataframe\">\n",
              "  <thead>\n",
              "    <tr style=\"text-align: right;\">\n",
              "      <th></th>\n",
              "      <th>loc</th>\n",
              "      <th>date</th>\n",
              "      <th>SO2</th>\n",
              "      <th>CO</th>\n",
              "      <th>O3</th>\n",
              "      <th>NO2</th>\n",
              "      <th>PM10</th>\n",
              "      <th>PM25</th>\n",
              "    </tr>\n",
              "  </thead>\n",
              "  <tbody>\n",
              "    <tr>\n",
              "      <th>0</th>\n",
              "      <td>중구</td>\n",
              "      <td>2018010102</td>\n",
              "      <td>0.004</td>\n",
              "      <td>0.4</td>\n",
              "      <td>0.024</td>\n",
              "      <td>0.016</td>\n",
              "      <td>27.0</td>\n",
              "      <td>14.0</td>\n",
              "    </tr>\n",
              "    <tr>\n",
              "      <th>1</th>\n",
              "      <td>중구</td>\n",
              "      <td>2018010103</td>\n",
              "      <td>0.004</td>\n",
              "      <td>0.4</td>\n",
              "      <td>0.018</td>\n",
              "      <td>0.022</td>\n",
              "      <td>26.0</td>\n",
              "      <td>14.0</td>\n",
              "    </tr>\n",
              "    <tr>\n",
              "      <th>2</th>\n",
              "      <td>중구</td>\n",
              "      <td>2018010104</td>\n",
              "      <td>0.004</td>\n",
              "      <td>0.5</td>\n",
              "      <td>0.010</td>\n",
              "      <td>0.030</td>\n",
              "      <td>26.0</td>\n",
              "      <td>15.0</td>\n",
              "    </tr>\n",
              "    <tr>\n",
              "      <th>3</th>\n",
              "      <td>중구</td>\n",
              "      <td>2018010105</td>\n",
              "      <td>0.004</td>\n",
              "      <td>0.6</td>\n",
              "      <td>0.011</td>\n",
              "      <td>0.029</td>\n",
              "      <td>28.0</td>\n",
              "      <td>16.0</td>\n",
              "    </tr>\n",
              "    <tr>\n",
              "      <th>4</th>\n",
              "      <td>중구</td>\n",
              "      <td>2018010106</td>\n",
              "      <td>0.004</td>\n",
              "      <td>0.5</td>\n",
              "      <td>0.012</td>\n",
              "      <td>0.027</td>\n",
              "      <td>29.0</td>\n",
              "      <td>17.0</td>\n",
              "    </tr>\n",
              "    <tr>\n",
              "      <th>...</th>\n",
              "      <td>...</td>\n",
              "      <td>...</td>\n",
              "      <td>...</td>\n",
              "      <td>...</td>\n",
              "      <td>...</td>\n",
              "      <td>...</td>\n",
              "      <td>...</td>\n",
              "      <td>...</td>\n",
              "    </tr>\n",
              "    <tr>\n",
              "      <th>986298</th>\n",
              "      <td>노원구</td>\n",
              "      <td>2020103120</td>\n",
              "      <td>0.003</td>\n",
              "      <td>0.5</td>\n",
              "      <td>0.013</td>\n",
              "      <td>0.051</td>\n",
              "      <td>NaN</td>\n",
              "      <td>NaN</td>\n",
              "    </tr>\n",
              "    <tr>\n",
              "      <th>986299</th>\n",
              "      <td>노원구</td>\n",
              "      <td>2020103121</td>\n",
              "      <td>0.003</td>\n",
              "      <td>0.5</td>\n",
              "      <td>0.017</td>\n",
              "      <td>0.040</td>\n",
              "      <td>NaN</td>\n",
              "      <td>NaN</td>\n",
              "    </tr>\n",
              "    <tr>\n",
              "      <th>986300</th>\n",
              "      <td>노원구</td>\n",
              "      <td>2020103122</td>\n",
              "      <td>0.003</td>\n",
              "      <td>0.5</td>\n",
              "      <td>0.014</td>\n",
              "      <td>0.043</td>\n",
              "      <td>NaN</td>\n",
              "      <td>NaN</td>\n",
              "    </tr>\n",
              "    <tr>\n",
              "      <th>986301</th>\n",
              "      <td>노원구</td>\n",
              "      <td>2020103123</td>\n",
              "      <td>0.003</td>\n",
              "      <td>0.6</td>\n",
              "      <td>0.012</td>\n",
              "      <td>0.045</td>\n",
              "      <td>NaN</td>\n",
              "      <td>NaN</td>\n",
              "    </tr>\n",
              "    <tr>\n",
              "      <th>986302</th>\n",
              "      <td>노원구</td>\n",
              "      <td>2020103124</td>\n",
              "      <td>0.003</td>\n",
              "      <td>0.7</td>\n",
              "      <td>0.005</td>\n",
              "      <td>0.055</td>\n",
              "      <td>NaN</td>\n",
              "      <td>NaN</td>\n",
              "    </tr>\n",
              "  </tbody>\n",
              "</table>\n",
              "<p>986303 rows × 8 columns</p>\n",
              "</div>"
            ],
            "text/plain": [
              "        loc        date    SO2   CO     O3    NO2  PM10  PM25\n",
              "0        중구  2018010102  0.004  0.4  0.024  0.016  27.0  14.0\n",
              "1        중구  2018010103  0.004  0.4  0.018  0.022  26.0  14.0\n",
              "2        중구  2018010104  0.004  0.5  0.010  0.030  26.0  15.0\n",
              "3        중구  2018010105  0.004  0.6  0.011  0.029  28.0  16.0\n",
              "4        중구  2018010106  0.004  0.5  0.012  0.027  29.0  17.0\n",
              "...     ...         ...    ...  ...    ...    ...   ...   ...\n",
              "986298  노원구  2020103120  0.003  0.5  0.013  0.051   NaN   NaN\n",
              "986299  노원구  2020103121  0.003  0.5  0.017  0.040   NaN   NaN\n",
              "986300  노원구  2020103122  0.003  0.5  0.014  0.043   NaN   NaN\n",
              "986301  노원구  2020103123  0.003  0.6  0.012  0.045   NaN   NaN\n",
              "986302  노원구  2020103124  0.003  0.7  0.005  0.055   NaN   NaN\n",
              "\n",
              "[986303 rows x 8 columns]"
            ]
          },
          "metadata": {
            "tags": []
          },
          "execution_count": 79
        }
      ]
    },
    {
      "cell_type": "code",
      "metadata": {
        "colab": {
          "base_uri": "https://localhost:8080/",
          "height": 415
        },
        "id": "aBsopiyusJlZ",
        "outputId": "ef8d2cda-1db8-4a47-a479-da86d9410c7a"
      },
      "source": [
        "df_sum = pd.concat([df_sum_1, df_a14])\n",
        "df_sum"
      ],
      "execution_count": 80,
      "outputs": [
        {
          "output_type": "execute_result",
          "data": {
            "text/html": [
              "<div>\n",
              "<style scoped>\n",
              "    .dataframe tbody tr th:only-of-type {\n",
              "        vertical-align: middle;\n",
              "    }\n",
              "\n",
              "    .dataframe tbody tr th {\n",
              "        vertical-align: top;\n",
              "    }\n",
              "\n",
              "    .dataframe thead th {\n",
              "        text-align: right;\n",
              "    }\n",
              "</style>\n",
              "<table border=\"1\" class=\"dataframe\">\n",
              "  <thead>\n",
              "    <tr style=\"text-align: right;\">\n",
              "      <th></th>\n",
              "      <th>loc</th>\n",
              "      <th>date</th>\n",
              "      <th>SO2</th>\n",
              "      <th>CO</th>\n",
              "      <th>O3</th>\n",
              "      <th>NO2</th>\n",
              "      <th>PM10</th>\n",
              "      <th>PM25</th>\n",
              "    </tr>\n",
              "  </thead>\n",
              "  <tbody>\n",
              "    <tr>\n",
              "      <th>0</th>\n",
              "      <td>중구</td>\n",
              "      <td>2015010102</td>\n",
              "      <td>0.006</td>\n",
              "      <td>0.6</td>\n",
              "      <td>0.022</td>\n",
              "      <td>0.010</td>\n",
              "      <td>57.0</td>\n",
              "      <td>10.0</td>\n",
              "    </tr>\n",
              "    <tr>\n",
              "      <th>1</th>\n",
              "      <td>중구</td>\n",
              "      <td>2015010103</td>\n",
              "      <td>0.006</td>\n",
              "      <td>0.6</td>\n",
              "      <td>0.021</td>\n",
              "      <td>0.010</td>\n",
              "      <td>76.0</td>\n",
              "      <td>10.0</td>\n",
              "    </tr>\n",
              "    <tr>\n",
              "      <th>2</th>\n",
              "      <td>중구</td>\n",
              "      <td>2015010104</td>\n",
              "      <td>0.006</td>\n",
              "      <td>0.6</td>\n",
              "      <td>0.022</td>\n",
              "      <td>0.009</td>\n",
              "      <td>86.0</td>\n",
              "      <td>11.0</td>\n",
              "    </tr>\n",
              "    <tr>\n",
              "      <th>3</th>\n",
              "      <td>중구</td>\n",
              "      <td>2015010105</td>\n",
              "      <td>0.006</td>\n",
              "      <td>0.5</td>\n",
              "      <td>0.021</td>\n",
              "      <td>0.009</td>\n",
              "      <td>106.0</td>\n",
              "      <td>12.0</td>\n",
              "    </tr>\n",
              "    <tr>\n",
              "      <th>4</th>\n",
              "      <td>중구</td>\n",
              "      <td>2015010106</td>\n",
              "      <td>0.006</td>\n",
              "      <td>0.6</td>\n",
              "      <td>0.020</td>\n",
              "      <td>0.009</td>\n",
              "      <td>128.0</td>\n",
              "      <td>18.0</td>\n",
              "    </tr>\n",
              "    <tr>\n",
              "      <th>...</th>\n",
              "      <td>...</td>\n",
              "      <td>...</td>\n",
              "      <td>...</td>\n",
              "      <td>...</td>\n",
              "      <td>...</td>\n",
              "      <td>...</td>\n",
              "      <td>...</td>\n",
              "      <td>...</td>\n",
              "    </tr>\n",
              "    <tr>\n",
              "      <th>986298</th>\n",
              "      <td>노원구</td>\n",
              "      <td>2020103120</td>\n",
              "      <td>0.003</td>\n",
              "      <td>0.5</td>\n",
              "      <td>0.013</td>\n",
              "      <td>0.051</td>\n",
              "      <td>NaN</td>\n",
              "      <td>NaN</td>\n",
              "    </tr>\n",
              "    <tr>\n",
              "      <th>986299</th>\n",
              "      <td>노원구</td>\n",
              "      <td>2020103121</td>\n",
              "      <td>0.003</td>\n",
              "      <td>0.5</td>\n",
              "      <td>0.017</td>\n",
              "      <td>0.040</td>\n",
              "      <td>NaN</td>\n",
              "      <td>NaN</td>\n",
              "    </tr>\n",
              "    <tr>\n",
              "      <th>986300</th>\n",
              "      <td>노원구</td>\n",
              "      <td>2020103122</td>\n",
              "      <td>0.003</td>\n",
              "      <td>0.5</td>\n",
              "      <td>0.014</td>\n",
              "      <td>0.043</td>\n",
              "      <td>NaN</td>\n",
              "      <td>NaN</td>\n",
              "    </tr>\n",
              "    <tr>\n",
              "      <th>986301</th>\n",
              "      <td>노원구</td>\n",
              "      <td>2020103123</td>\n",
              "      <td>0.003</td>\n",
              "      <td>0.6</td>\n",
              "      <td>0.012</td>\n",
              "      <td>0.045</td>\n",
              "      <td>NaN</td>\n",
              "      <td>NaN</td>\n",
              "    </tr>\n",
              "    <tr>\n",
              "      <th>986302</th>\n",
              "      <td>노원구</td>\n",
              "      <td>2020103124</td>\n",
              "      <td>0.003</td>\n",
              "      <td>0.7</td>\n",
              "      <td>0.005</td>\n",
              "      <td>0.055</td>\n",
              "      <td>NaN</td>\n",
              "      <td>NaN</td>\n",
              "    </tr>\n",
              "  </tbody>\n",
              "</table>\n",
              "<p>2012158 rows × 8 columns</p>\n",
              "</div>"
            ],
            "text/plain": [
              "        loc        date    SO2   CO     O3    NO2   PM10  PM25\n",
              "0        중구  2015010102  0.006  0.6  0.022  0.010   57.0  10.0\n",
              "1        중구  2015010103  0.006  0.6  0.021  0.010   76.0  10.0\n",
              "2        중구  2015010104  0.006  0.6  0.022  0.009   86.0  11.0\n",
              "3        중구  2015010105  0.006  0.5  0.021  0.009  106.0  12.0\n",
              "4        중구  2015010106  0.006  0.6  0.020  0.009  128.0  18.0\n",
              "...     ...         ...    ...  ...    ...    ...    ...   ...\n",
              "986298  노원구  2020103120  0.003  0.5  0.013  0.051    NaN   NaN\n",
              "986299  노원구  2020103121  0.003  0.5  0.017  0.040    NaN   NaN\n",
              "986300  노원구  2020103122  0.003  0.5  0.014  0.043    NaN   NaN\n",
              "986301  노원구  2020103123  0.003  0.6  0.012  0.045    NaN   NaN\n",
              "986302  노원구  2020103124  0.003  0.7  0.005  0.055    NaN   NaN\n",
              "\n",
              "[2012158 rows x 8 columns]"
            ]
          },
          "metadata": {
            "tags": []
          },
          "execution_count": 80
        }
      ]
    },
    {
      "cell_type": "code",
      "metadata": {
        "colab": {
          "base_uri": "https://localhost:8080/",
          "height": 415
        },
        "id": "qS_lFQmGxOMb",
        "outputId": "b6a02084-2aae-4870-f678-8796025c4f5e"
      },
      "source": [
        "jung_gu = df_sum['loc'] == '중구'\n",
        "df_jung_gu = df_sum[jung_gu]\n",
        "df_jung_gu"
      ],
      "execution_count": 81,
      "outputs": [
        {
          "output_type": "execute_result",
          "data": {
            "text/html": [
              "<div>\n",
              "<style scoped>\n",
              "    .dataframe tbody tr th:only-of-type {\n",
              "        vertical-align: middle;\n",
              "    }\n",
              "\n",
              "    .dataframe tbody tr th {\n",
              "        vertical-align: top;\n",
              "    }\n",
              "\n",
              "    .dataframe thead th {\n",
              "        text-align: right;\n",
              "    }\n",
              "</style>\n",
              "<table border=\"1\" class=\"dataframe\">\n",
              "  <thead>\n",
              "    <tr style=\"text-align: right;\">\n",
              "      <th></th>\n",
              "      <th>loc</th>\n",
              "      <th>date</th>\n",
              "      <th>SO2</th>\n",
              "      <th>CO</th>\n",
              "      <th>O3</th>\n",
              "      <th>NO2</th>\n",
              "      <th>PM10</th>\n",
              "      <th>PM25</th>\n",
              "    </tr>\n",
              "  </thead>\n",
              "  <tbody>\n",
              "    <tr>\n",
              "      <th>0</th>\n",
              "      <td>중구</td>\n",
              "      <td>2015010102</td>\n",
              "      <td>0.006</td>\n",
              "      <td>0.6</td>\n",
              "      <td>0.022</td>\n",
              "      <td>0.010</td>\n",
              "      <td>57.0</td>\n",
              "      <td>10.0</td>\n",
              "    </tr>\n",
              "    <tr>\n",
              "      <th>1</th>\n",
              "      <td>중구</td>\n",
              "      <td>2015010103</td>\n",
              "      <td>0.006</td>\n",
              "      <td>0.6</td>\n",
              "      <td>0.021</td>\n",
              "      <td>0.010</td>\n",
              "      <td>76.0</td>\n",
              "      <td>10.0</td>\n",
              "    </tr>\n",
              "    <tr>\n",
              "      <th>2</th>\n",
              "      <td>중구</td>\n",
              "      <td>2015010104</td>\n",
              "      <td>0.006</td>\n",
              "      <td>0.6</td>\n",
              "      <td>0.022</td>\n",
              "      <td>0.009</td>\n",
              "      <td>86.0</td>\n",
              "      <td>11.0</td>\n",
              "    </tr>\n",
              "    <tr>\n",
              "      <th>3</th>\n",
              "      <td>중구</td>\n",
              "      <td>2015010105</td>\n",
              "      <td>0.006</td>\n",
              "      <td>0.5</td>\n",
              "      <td>0.021</td>\n",
              "      <td>0.009</td>\n",
              "      <td>106.0</td>\n",
              "      <td>12.0</td>\n",
              "    </tr>\n",
              "    <tr>\n",
              "      <th>4</th>\n",
              "      <td>중구</td>\n",
              "      <td>2015010106</td>\n",
              "      <td>0.006</td>\n",
              "      <td>0.6</td>\n",
              "      <td>0.020</td>\n",
              "      <td>0.009</td>\n",
              "      <td>128.0</td>\n",
              "      <td>18.0</td>\n",
              "    </tr>\n",
              "    <tr>\n",
              "      <th>...</th>\n",
              "      <td>...</td>\n",
              "      <td>...</td>\n",
              "      <td>...</td>\n",
              "      <td>...</td>\n",
              "      <td>...</td>\n",
              "      <td>...</td>\n",
              "      <td>...</td>\n",
              "      <td>...</td>\n",
              "    </tr>\n",
              "    <tr>\n",
              "      <th>959514</th>\n",
              "      <td>중구</td>\n",
              "      <td>2020103120</td>\n",
              "      <td>0.004</td>\n",
              "      <td>0.6</td>\n",
              "      <td>0.023</td>\n",
              "      <td>0.034</td>\n",
              "      <td>34.0</td>\n",
              "      <td>21.0</td>\n",
              "    </tr>\n",
              "    <tr>\n",
              "      <th>959515</th>\n",
              "      <td>중구</td>\n",
              "      <td>2020103121</td>\n",
              "      <td>0.005</td>\n",
              "      <td>0.5</td>\n",
              "      <td>0.021</td>\n",
              "      <td>0.030</td>\n",
              "      <td>32.0</td>\n",
              "      <td>20.0</td>\n",
              "    </tr>\n",
              "    <tr>\n",
              "      <th>959516</th>\n",
              "      <td>중구</td>\n",
              "      <td>2020103122</td>\n",
              "      <td>0.004</td>\n",
              "      <td>0.5</td>\n",
              "      <td>0.028</td>\n",
              "      <td>0.026</td>\n",
              "      <td>29.0</td>\n",
              "      <td>19.0</td>\n",
              "    </tr>\n",
              "    <tr>\n",
              "      <th>959517</th>\n",
              "      <td>중구</td>\n",
              "      <td>2020103123</td>\n",
              "      <td>0.005</td>\n",
              "      <td>0.6</td>\n",
              "      <td>0.030</td>\n",
              "      <td>0.023</td>\n",
              "      <td>26.0</td>\n",
              "      <td>18.0</td>\n",
              "    </tr>\n",
              "    <tr>\n",
              "      <th>959518</th>\n",
              "      <td>중구</td>\n",
              "      <td>2020103124</td>\n",
              "      <td>0.005</td>\n",
              "      <td>0.5</td>\n",
              "      <td>0.025</td>\n",
              "      <td>0.024</td>\n",
              "      <td>26.0</td>\n",
              "      <td>16.0</td>\n",
              "    </tr>\n",
              "  </tbody>\n",
              "</table>\n",
              "<p>93526 rows × 8 columns</p>\n",
              "</div>"
            ],
            "text/plain": [
              "       loc        date    SO2   CO     O3    NO2   PM10  PM25\n",
              "0       중구  2015010102  0.006  0.6  0.022  0.010   57.0  10.0\n",
              "1       중구  2015010103  0.006  0.6  0.021  0.010   76.0  10.0\n",
              "2       중구  2015010104  0.006  0.6  0.022  0.009   86.0  11.0\n",
              "3       중구  2015010105  0.006  0.5  0.021  0.009  106.0  12.0\n",
              "4       중구  2015010106  0.006  0.6  0.020  0.009  128.0  18.0\n",
              "...     ..         ...    ...  ...    ...    ...    ...   ...\n",
              "959514  중구  2020103120  0.004  0.6  0.023  0.034   34.0  21.0\n",
              "959515  중구  2020103121  0.005  0.5  0.021  0.030   32.0  20.0\n",
              "959516  중구  2020103122  0.004  0.5  0.028  0.026   29.0  19.0\n",
              "959517  중구  2020103123  0.005  0.6  0.030  0.023   26.0  18.0\n",
              "959518  중구  2020103124  0.005  0.5  0.025  0.024   26.0  16.0\n",
              "\n",
              "[93526 rows x 8 columns]"
            ]
          },
          "metadata": {
            "tags": []
          },
          "execution_count": 81
        }
      ]
    },
    {
      "cell_type": "code",
      "metadata": {
        "id": "9H3XFTFJcfGq"
      },
      "source": [
        "df_jung_gu.to_excel('/content/drive/My Drive/Data/jung.xlsx')"
      ],
      "execution_count": null,
      "outputs": []
    },
    {
      "cell_type": "markdown",
      "metadata": {
        "id": "HpSu4StIkh19"
      },
      "source": [
        "import glob\n",
        "import sys\n",
        "\n",
        "all_data = pd.DataFrame()\n",
        "for f in glob.glob('/content/drive/My Drive/parameter/parameter_*.xlsx'):\n",
        "    df = pd.read_excel(f)\n",
        "    all_data = all_data.append(df, ignore_index=True)\n",
        "    \n",
        "print(all_data.shape)\n",
        "\n",
        "all_data.head()\n",
        "\n",
        "all_data.to_excel(\"/content/drive/My Drive/parameter/parameter_sum.xlsx\",header=False, index=False)"
      ]
    },
    {
      "cell_type": "code",
      "metadata": {
        "id": "nG4be0yRuPRv"
      },
      "source": [
        "col_names2 = ['date','tem','rain','wind_s','wind_d','hum','pre']\n",
        "df_atm = pd.read_excel(\"/content/drive/My Drive/parameter/parameter_sum.xlsx\",names = col_names2)\n",
        "df_atm"
      ],
      "execution_count": null,
      "outputs": []
    },
    {
      "cell_type": "code",
      "metadata": {
        "id": "ANH4DCW2xmGi"
      },
      "source": [
        "date = df_atm['date']\n",
        "date_1 = date[:51144]\n",
        "date_1"
      ],
      "execution_count": null,
      "outputs": []
    },
    {
      "cell_type": "code",
      "metadata": {
        "id": "gowzQTvfwvyl"
      },
      "source": [
        "date = df_atm['date'].astype(str).str[0:13]\n",
        "date1 = date.str.replace('-','')\n",
        "date2 = date1.str.replace(' ','')\n",
        "date2"
      ],
      "execution_count": null,
      "outputs": []
    },
    {
      "cell_type": "code",
      "metadata": {
        "id": "X4mh13M0TJs9"
      },
      "source": [
        "df_atm['date']= date2\n",
        "df_atm"
      ],
      "execution_count": null,
      "outputs": []
    },
    {
      "cell_type": "code",
      "metadata": {
        "id": "hJyZUKByAfuE"
      },
      "source": [
        "df_atm1 = df_atm.sort_values(by='date', ascending=True)\n",
        "df_atm1"
      ],
      "execution_count": null,
      "outputs": []
    },
    {
      "cell_type": "code",
      "metadata": {
        "id": "PZ-ZqNDcAfwM"
      },
      "source": [
        "df_jung_gu1 = df_jung_gu.sort_values(by='date', ascending=True)\n",
        "df_jung_gu2 = df_jung_gu1.groupby('date').mean()\n",
        "df_jung_gu2"
      ],
      "execution_count": null,
      "outputs": []
    },
    {
      "cell_type": "code",
      "metadata": {
        "id": "LuuxLHMpAf0C"
      },
      "source": [
        "df_jung_gu3 = df_jung_gu2.reset_index()\n",
        "df_jung_gu3"
      ],
      "execution_count": null,
      "outputs": []
    },
    {
      "cell_type": "code",
      "metadata": {
        "id": "LPsn8lmLAf2C"
      },
      "source": [
        "df_atm2 = df_atm1[:51144]\n",
        "df_atm2.to_excel('/content/drive/My Drive/parameter/jung_sum.xlsx')\n",
        "df_atm2"
      ],
      "execution_count": null,
      "outputs": []
    },
    {
      "cell_type": "code",
      "metadata": {
        "id": "Rl5qiLv3Af4e"
      },
      "source": [
        "jung_atm = pd.read_excel('/content/drive/My Drive/lab/jung_sum_2.xlsx', index_col=0)\n",
        "jung_atm"
      ],
      "execution_count": null,
      "outputs": []
    },
    {
      "cell_type": "code",
      "metadata": {
        "id": "S_rTozGUPvrt"
      },
      "source": [
        "df_jung_gu3['tem'] = jung_atm['tem']\n",
        "df_jung_gu3['rain'] = jung_atm['rain']\n",
        "df_jung_gu3['hum'] = jung_atm['hum']\n",
        "df_jung_gu3['pre'] = jung_atm['hum']\n",
        "df_jung_gu3['wind_x'] = jung_atm['wind_x']\n",
        "df_jung_gu3['wind_y'] = jung_atm['wind_y']\n",
        "df_jung_gu3"
      ],
      "execution_count": null,
      "outputs": []
    },
    {
      "cell_type": "code",
      "metadata": {
        "id": "b11m1hYtQZmO"
      },
      "source": [
        "df_jung_gu3['rain'] = df_jung_gu3['rain'].fillna(0)"
      ],
      "execution_count": null,
      "outputs": []
    },
    {
      "cell_type": "code",
      "metadata": {
        "id": "Ex-gn-TmYqlv"
      },
      "source": [
        "df_jung_gu3"
      ],
      "execution_count": null,
      "outputs": []
    },
    {
      "cell_type": "code",
      "metadata": {
        "id": "YRD6lFkbyL6f"
      },
      "source": [
        "df_jung_gu3['date'] = date_1\n",
        "df_jung_gu3"
      ],
      "execution_count": null,
      "outputs": []
    },
    {
      "cell_type": "code",
      "metadata": {
        "id": "MbFTONYsOZ-C"
      },
      "source": [
        "df_fin2"
      ],
      "execution_count": null,
      "outputs": []
    },
    {
      "cell_type": "code",
      "metadata": {
        "id": "uANM-A_xA6Ik"
      },
      "source": [
        "df_final = df_jung_gu3.copy()"
      ],
      "execution_count": null,
      "outputs": []
    },
    {
      "cell_type": "code",
      "metadata": {
        "id": "jCR67b5Evi2H"
      },
      "source": [
        "df_final"
      ],
      "execution_count": null,
      "outputs": []
    },
    {
      "cell_type": "code",
      "metadata": {
        "id": "URxCD_JD-Xmu"
      },
      "source": [
        "#PM10 Range = 0-400\n",
        "#PM25 Range = 0-180\n",
        "#Temperature = -25-45\n",
        "#rain = >0\n",
        "#wind_x, wind_y = -12-12\n",
        "#Humidity = 0-100\n",
        "\n",
        "pm10 = df_final['PM10']<400.0\n",
        "df_fin = df_final.copy()"
      ],
      "execution_count": null,
      "outputs": []
    },
    {
      "cell_type": "code",
      "metadata": {
        "id": "FfODarbc_8iS"
      },
      "source": [
        "a = df_final['PM10']>400\n",
        "a1 = df_final[a]\n",
        "df_final[a]"
      ],
      "execution_count": null,
      "outputs": []
    },
    {
      "cell_type": "code",
      "metadata": {
        "id": "2dcREgZ2AB-N"
      },
      "source": [
        "df_fin1 = df_final.drop(a1.index, axis=0)\n",
        "df_fin1"
      ],
      "execution_count": null,
      "outputs": []
    },
    {
      "cell_type": "code",
      "metadata": {
        "id": "vhU86H-joQ0x"
      },
      "source": [
        "df_fin2 = df_fin1.set_index('date')\n",
        "df_fin2"
      ],
      "execution_count": null,
      "outputs": []
    },
    {
      "cell_type": "code",
      "metadata": {
        "id": "eQDAAvI6BsTb"
      },
      "source": [
        "from datetime import datetime\n",
        "\n",
        "date = pd.to_datetime(df_fin2.index, format='%Y-%m-%d, %H:%M:%S')\n",
        "date"
      ],
      "execution_count": null,
      "outputs": []
    },
    {
      "cell_type": "code",
      "metadata": {
        "id": "Y_PgYhgbBus_"
      },
      "source": [
        "df_fin2['date'] = date"
      ],
      "execution_count": null,
      "outputs": []
    },
    {
      "cell_type": "code",
      "metadata": {
        "id": "taBbUnMRBio_"
      },
      "source": [
        "df_2015 = df_fin2[:8740]\n",
        "df_2015"
      ],
      "execution_count": null,
      "outputs": []
    },
    {
      "cell_type": "code",
      "metadata": {
        "id": "Aw6xOpjI9_UH"
      },
      "source": [
        "import seaborn as sns\n",
        "import matplotlib.pyplot as plt\n",
        "\n",
        "plt.figure(figsize=(16,5))\n",
        "sns.lineplot(y=df_2015['PM10'], x=df_2015['date'])\n",
        "sns.lineplot(y=df_2015['PM25'], x=df_2015['date'])\n",
        "plt.xlabel('date')\n",
        "plt.ylabel('PM10')\n",
        "plt.show()"
      ],
      "execution_count": null,
      "outputs": []
    },
    {
      "cell_type": "code",
      "metadata": {
        "id": "XMAelAebqA2J"
      },
      "source": [
        "df_fin2"
      ],
      "execution_count": null,
      "outputs": []
    },
    {
      "cell_type": "code",
      "metadata": {
        "id": "OTnjm9xpAo46"
      },
      "source": [
        "#interpolate 예제\n",
        "from pandas import DataFrame, Series\n",
        "\n",
        "datestrs = ['12/1/2016', '12/03/2016', '12/04/2016', '12/10/2016']\n",
        "dates = pd.to_datetime(datestrs)\n",
        "\n",
        "ts = Series([1, np.nan, np.nan, 10], index=dates)\n",
        "ts"
      ],
      "execution_count": null,
      "outputs": []
    },
    {
      "cell_type": "markdown",
      "metadata": {
        "id": "BpOchYc_eaJD"
      },
      "source": [
        ""
      ]
    },
    {
      "cell_type": "code",
      "metadata": {
        "id": "W-_6URxFApqD"
      },
      "source": [
        "ts_int = ts.interpolate(method='values')\n",
        "ts_int"
      ],
      "execution_count": null,
      "outputs": []
    },
    {
      "cell_type": "code",
      "metadata": {
        "id": "zTZ5CjSiAhBV"
      },
      "source": [
        "#interpolate 선형 그래프로 결측값 보간\n",
        "df_fin3 = df_fin2.interpolate(method='values')\n",
        "df_fin3"
      ],
      "execution_count": null,
      "outputs": []
    },
    {
      "cell_type": "code",
      "metadata": {
        "id": "7ASF5SOBBfnm"
      },
      "source": [
        "df_fin4 = df_fin3.dropna(how='any')\n",
        "df_fin4"
      ],
      "execution_count": null,
      "outputs": []
    },
    {
      "cell_type": "code",
      "metadata": {
        "id": "c1o1A6szCDK-"
      },
      "source": [
        "plt.figure(figsize=(16,5))\n",
        "sns.lineplot(y=df_fin4['PM10'], x=df_fin4['date'])\n",
        "sns.lineplot(y=df_fin4['PM25'], x=df_fin4['date'])\n",
        "plt.xlabel('date')\n",
        "plt.ylabel('PM10, PM25')\n",
        "plt.legend(['PM10','PM25'])\n",
        "plt.show()"
      ],
      "execution_count": null,
      "outputs": []
    },
    {
      "cell_type": "code",
      "metadata": {
        "id": "KyvoC7ERCDHo"
      },
      "source": [
        "df_fin4.corr()"
      ],
      "execution_count": null,
      "outputs": []
    },
    {
      "cell_type": "code",
      "metadata": {
        "id": "0Sojwy5J8UEs"
      },
      "source": [
        "df_new = df_fin4.copy()\n",
        "df_new"
      ],
      "execution_count": null,
      "outputs": []
    },
    {
      "cell_type": "code",
      "metadata": {
        "id": "DrevafDc8UL8"
      },
      "source": [
        "df_new.index"
      ],
      "execution_count": null,
      "outputs": []
    },
    {
      "cell_type": "code",
      "metadata": {
        "id": "BThuWb9a_dWD"
      },
      "source": [
        "df_new['Year'] = df_new.index.year\n",
        "df_new['Month'] = df_new.index.month\n",
        "df_new['Day'] = df_new.index.day\n",
        "df_new['Hour'] = df_new.index.hour\n",
        "df_new"
      ],
      "execution_count": null,
      "outputs": []
    },
    {
      "cell_type": "code",
      "metadata": {
        "id": "6623SxRwjPCK"
      },
      "source": [
        "df_fin2"
      ],
      "execution_count": null,
      "outputs": []
    },
    {
      "cell_type": "code",
      "metadata": {
        "id": "qmQYIk7KjQpp"
      },
      "source": [
        "new = df_fin2.drop('date', axis=1)\n",
        "new"
      ],
      "execution_count": null,
      "outputs": []
    },
    {
      "cell_type": "code",
      "metadata": {
        "id": "_Av9B9MmjhB6"
      },
      "source": [
        "new1 = new.interpolate(method='values')\n",
        "new1"
      ],
      "execution_count": null,
      "outputs": []
    },
    {
      "cell_type": "code",
      "metadata": {
        "id": "8Is4WzsdjklJ"
      },
      "source": [
        "new2 = new1.dropna(how='any')\n",
        "new2"
      ],
      "execution_count": null,
      "outputs": []
    },
    {
      "cell_type": "code",
      "metadata": {
        "id": "fhNFC0cK_kRX"
      },
      "source": [
        "new3 = new2.reset_index()"
      ],
      "execution_count": null,
      "outputs": []
    },
    {
      "cell_type": "code",
      "metadata": {
        "id": "bYKL44U8_PL5"
      },
      "source": [
        "pm = new3['PM10']\n",
        "pm1 = pm[24:]\n",
        "pm10 = pm1.reset_index()"
      ],
      "execution_count": null,
      "outputs": []
    },
    {
      "cell_type": "code",
      "metadata": {
        "id": "xn40HdLu_wkQ"
      },
      "source": [
        "new3['pm10_tomm'] = pm10['PM10']\n",
        "new3"
      ],
      "execution_count": null,
      "outputs": []
    },
    {
      "cell_type": "code",
      "metadata": {
        "id": "uTc0KGwuFbQi"
      },
      "source": [
        "new4 = new3.dropna(how='any')"
      ],
      "execution_count": null,
      "outputs": []
    },
    {
      "cell_type": "code",
      "metadata": {
        "id": "04H-bkC2Ferj"
      },
      "source": [
        "grade = []\n",
        "for each in new4['PM10']:\n",
        "  if each <=30:\n",
        "    grade.append(0)\n",
        "  elif each <=80:\n",
        "    grade.append(1)\n",
        "  elif each <=150:\n",
        "    grade.append(2)\n",
        "  else:\n",
        "    grade.append(3)"
      ],
      "execution_count": null,
      "outputs": []
    },
    {
      "cell_type": "code",
      "metadata": {
        "id": "f9xWqdaeF2ev"
      },
      "source": [
        "grade_pm_tomm = grade[1:]\n",
        "grade_pm_tomm.append(np.nan)\n",
        "new4['grade_pm_tomm'] = grade_pm_tomm\n",
        "new5 = new4.dropna(how='any')\n",
        "new6 = new5.set_index('date')\n",
        "new7 = new6.drop('pm10_tomm', axis=1)\n",
        "new7.to_excel('/content/drive/My Drive/Data/final_data.xlsx')"
      ],
      "execution_count": null,
      "outputs": []
    },
    {
      "cell_type": "code",
      "metadata": {
        "id": "Xm87SG15hi8b"
      },
      "source": [
        "pm = new7['PM10']\n",
        "pm1 = pm[1:]\n",
        "pm10 = pm1.reset_index()\n",
        "pm10"
      ],
      "execution_count": null,
      "outputs": []
    },
    {
      "cell_type": "code",
      "metadata": {
        "id": "-X6bcF3-jxVE"
      },
      "source": [
        "new_pm = new7.reset_index()\n",
        "new_pm['value_pm_tomm'] = pm10['PM10']"
      ],
      "execution_count": null,
      "outputs": []
    },
    {
      "cell_type": "code",
      "metadata": {
        "id": "KqidhZIgWvzq"
      },
      "source": [
        "new_pm.head()"
      ],
      "execution_count": null,
      "outputs": []
    },
    {
      "cell_type": "code",
      "metadata": {
        "id": "Y1ujLnE8TmiE"
      },
      "source": [
        "X = new7[['SO2',\t'CO',\t'O3',\t'NO2',\t'PM10',\t'PM25',\t'tem'\t,'rain',\t'hum',\t'pre',\t'wind_x',\t'wind_y']]\n",
        "y = new7['grade_pm_tomm']"
      ],
      "execution_count": null,
      "outputs": []
    },
    {
      "cell_type": "code",
      "metadata": {
        "id": "LCAHS4vNTn_W"
      },
      "source": [
        "x_train = X[:26283]\n",
        "x_val = X[26283:43803]\n",
        "x_test = X[43803:]\n",
        "y_train = y[:26283]\n",
        "y_val = y[26283:43803]\n",
        "y_test = y[43803:]"
      ],
      "execution_count": null,
      "outputs": []
    },
    {
      "cell_type": "code",
      "metadata": {
        "id": "vldwzi-9Tn97"
      },
      "source": [
        "x_train_np = np.array(x_train)\n",
        "x_val_np = np.array(x_val)\n",
        "x_test_np = np.array(x_test)\n",
        "y_train_np = np.array(y_train)\n",
        "y_val_np = np.array(y_val)\n",
        "y_test_np = np.array(y_test)"
      ],
      "execution_count": null,
      "outputs": []
    },
    {
      "cell_type": "code",
      "metadata": {
        "id": "qhLL4V0GfoJ9"
      },
      "source": [
        "batch_size= 5"
      ],
      "execution_count": null,
      "outputs": []
    },
    {
      "cell_type": "code",
      "metadata": {
        "id": "TxYAxhWsTn4s"
      },
      "source": [
        "N = BUFFER_SIZE = len(y_train_np)\n",
        "train_dataset = tf.data.Dataset.from_tensor_slices((x_train, y_train))\n",
        "train_dataset = train_dataset.shuffle(BUFFER_SIZE)\n",
        "train_dataset = train_dataset.batch(batch_size)\n",
        "train_dataset = train_dataset.repeat()\n",
        "train_dataset"
      ],
      "execution_count": null,
      "outputs": []
    },
    {
      "cell_type": "code",
      "metadata": {
        "id": "pVPLiZ2JTn24"
      },
      "source": [
        "val_dataset = tf.data.Dataset.from_tensor_slices((x_val, y_val))\n",
        "val_dataset = val_dataset.batch(batch_size)\n",
        "val_dataset = val_dataset.repeat()"
      ],
      "execution_count": null,
      "outputs": []
    },
    {
      "cell_type": "code",
      "metadata": {
        "id": "zfWHBLbVTny-"
      },
      "source": [
        "test_dataset = tf.data.Dataset.from_tensor_slices((x_test, y_test))\n",
        "test_dataset = test_dataset.batch(batch_size)"
      ],
      "execution_count": null,
      "outputs": []
    },
    {
      "cell_type": "code",
      "metadata": {
        "id": "mmNVmIQRYcRs"
      },
      "source": [
        "new_pm.head()"
      ],
      "execution_count": null,
      "outputs": []
    },
    {
      "cell_type": "code",
      "metadata": {
        "id": "vrya9Z2pXFMx"
      },
      "source": [
        "new_pm1 = new_pm.drop(['grade_pm_tomm'], axis=1)\n",
        "new_pm1 = new_pm1.dropna(how='any')\n",
        "new_pm2 = new_pm1.drop('value_pm_tomm', axis=1)\n",
        "new_pm2.head()"
      ],
      "execution_count": null,
      "outputs": []
    },
    {
      "cell_type": "code",
      "metadata": {
        "id": "-x9NMKBZGiCM"
      },
      "source": [
        "train = df_new[:26283]\n",
        "val = df_new[26283:43803]\n",
        "test = df_new[43803:]"
      ],
      "execution_count": null,
      "outputs": []
    },
    {
      "cell_type": "code",
      "metadata": {
        "id": "UUt3DHBlYqHD"
      },
      "source": [
        "train = train.set_index('date')\n",
        "val = val.set_index('date')\n",
        "test = test.set_index('date')"
      ],
      "execution_count": null,
      "outputs": []
    },
    {
      "cell_type": "code",
      "metadata": {
        "id": "YTpGznR2DWje"
      },
      "source": [
        "df_new"
      ],
      "execution_count": null,
      "outputs": []
    },
    {
      "cell_type": "code",
      "metadata": {
        "id": "4j00Q2bnOn9O"
      },
      "source": [
        "mean = train.mean()\n",
        "std = train.std()\n",
        "\n",
        "train_scaled = (train - mean) / std\n",
        "val_scaled = (val-mean) / std\n",
        "test_scaled = (test-mean) / std\n",
        "\n",
        "train_scaled = train_scaled.reset_index()\n",
        "val_scaled = val_scaled.reset_index()\n",
        "test_scaled = test_scaled.reset_index()"
      ],
      "execution_count": null,
      "outputs": []
    },
    {
      "cell_type": "code",
      "metadata": {
        "id": "ty073AtG8pA6"
      },
      "source": [
        "value_tomm_pm = new_pm1['value_pm_tomm']\n",
        "train_y = value_tomm_pm[:26283]\n",
        "train_y = train_y.reset_index()\n",
        "val_y = value_tomm_pm[26283:43803]\n",
        "val_y = val_y.reset_index()\n",
        "test_y = value_tomm_pm[43803:]\n",
        "test_y = test_y.reset_index()"
      ],
      "execution_count": null,
      "outputs": []
    },
    {
      "cell_type": "code",
      "metadata": {
        "id": "yAu_S4rS8mfy"
      },
      "source": [
        "train_scaled['value_tomm'] = train_y['value_pm_tomm']\n",
        "val_scaled['value_tomm'] = val_y['value_pm_tomm']\n",
        "test_scaled['value_tomm'] = test_y['value_pm_tomm']"
      ],
      "execution_count": null,
      "outputs": []
    },
    {
      "cell_type": "code",
      "metadata": {
        "id": "sTp6UXtgZdRF"
      },
      "source": [
        "train_scaled = train_scaled.dropna(how='any')\n",
        "val_scaled = val_scaled.dropna(how='any')\n",
        "test_scaled = test_scaled.dropna(how='any')"
      ],
      "execution_count": null,
      "outputs": []
    },
    {
      "cell_type": "code",
      "metadata": {
        "id": "YYQX2YTbOn7C"
      },
      "source": [
        "train_shuffled = train_scaled.iloc[np.random.permutation(train_scaled.index)].reset_index(drop=True)\n",
        "train_shuffled.head()"
      ],
      "execution_count": null,
      "outputs": []
    },
    {
      "cell_type": "code",
      "metadata": {
        "id": "2yyiHEIIOn5F"
      },
      "source": [
        "feature_col = ['PM10','PM25','SO2','CO','O3','NO2','tem','rain','hum','pre','wind_x','wind_y']\n",
        "label_col = ['value_tomm']"
      ],
      "execution_count": null,
      "outputs": []
    },
    {
      "cell_type": "code",
      "metadata": {
        "id": "NwHQCKzmOnz8"
      },
      "source": [
        "train_feature = train_scaled[feature_col]\n",
        "train_label = train_scaled[label_col]\n",
        "valid_feature = val_scaled[feature_col]\n",
        "valid_label = val_scaled[label_col]\n",
        "test_feature = test_scaled[feature_col]\n",
        "test_label = test_scaled[label_col]\n",
        "print(train_feature.shape, train_label.shape)"
      ],
      "execution_count": null,
      "outputs": []
    },
    {
      "cell_type": "code",
      "metadata": {
        "id": "V8QLdTrHURNN"
      },
      "source": [
        "train_feature.shape"
      ],
      "execution_count": null,
      "outputs": []
    },
    {
      "cell_type": "code",
      "metadata": {
        "id": "5_4f0phXbpxK"
      },
      "source": [
        "from tensorflow.keras import layers\n",
        "from tensorflow import keras\n",
        "\n",
        "model = tf.keras.Sequential()\n",
        "model.add(layers.Dense(64, activation='relu', input_shape=(train_feature.shape[1],)))\n",
        "model.add(layers.Dense(32, activation='relu'))\n",
        "model.add(layers.Dense(1, activation='relu'))\n",
        "model.compile(optimizer='adam', loss='mse',metrics=['mae'])\n",
        "model"
      ],
      "execution_count": null,
      "outputs": []
    },
    {
      "cell_type": "code",
      "metadata": {
        "id": "f-Y0vHqRdGab"
      },
      "source": [
        "checkpoint_cb = keras.callbacks.ModelCheckpoint('best-deepneural-model.h5')\n",
        "early_stopping_cb = keras.callbacks.EarlyStopping(patience=3, restore_best_weights=True, monitor='val_loss')\n",
        "#patience = 성능이 증가하지 않는 epoch 몇번까지 허용하는지\n",
        "history = model.fit(train_feature, train_label,\n",
        "          validation_data=(valid_feature,valid_label),\n",
        "          epochs=50,\n",
        "          callbacks = [checkpoint_cb, early_stopping_cb])"
      ],
      "execution_count": null,
      "outputs": []
    },
    {
      "cell_type": "code",
      "metadata": {
        "id": "cNJBFyjBgwy2"
      },
      "source": [
        "import matplotlib.pyplot as plt\n",
        "\n",
        "plt.plot(history.history['loss'])\n",
        "plt.plot(history.history['val_loss'])\n",
        "plt.xlabel('epoch')\n",
        "plt.ylabel('loss')\n",
        "plt.show()"
      ],
      "execution_count": null,
      "outputs": []
    },
    {
      "cell_type": "code",
      "metadata": {
        "id": "WRl--XWQgyHb"
      },
      "source": [
        "pred = model.predict(test_feature)\n",
        "print('Loss', model.evaluate(test_feature, test_label))"
      ],
      "execution_count": null,
      "outputs": []
    },
    {
      "cell_type": "code",
      "metadata": {
        "id": "9AnvoAzcg82w"
      },
      "source": [
        "plt.plot(test_label, label='actual')\n",
        "plt.plot(pred, label='prediction')\n",
        "plt.legend()\n",
        "plt.show()"
      ],
      "execution_count": null,
      "outputs": []
    },
    {
      "cell_type": "markdown",
      "metadata": {
        "id": "RhUyx8FryTYu"
      },
      "source": [
        "####LSTM"
      ]
    },
    {
      "cell_type": "code",
      "metadata": {
        "id": "0rtKbaOqkN3o"
      },
      "source": [
        "mean = train.mean()\n",
        "std = train.std()\n",
        "\n",
        "train_scaled = (train - mean) / std\n",
        "val_scaled = (val-mean) / std\n",
        "test_scaled = (test-mean) / std\n",
        "\n",
        "train_scaled = train_scaled.reset_index()\n",
        "val_scaled = val_scaled.reset_index()\n",
        "test_scaled = test_scaled.reset_index()"
      ],
      "execution_count": null,
      "outputs": []
    },
    {
      "cell_type": "code",
      "metadata": {
        "id": "URYd8b1bkVxH"
      },
      "source": [
        "value_tomm_pm = new_pm1['value_pm_tomm']\n",
        "train_y = value_tomm_pm[:26283]\n",
        "train_y = train_y.reset_index()\n",
        "val_y = value_tomm_pm[26283:43803]\n",
        "val_y = val_y.reset_index()\n",
        "test_y = value_tomm_pm[43803:]\n",
        "test_y = test_y.reset_index()"
      ],
      "execution_count": null,
      "outputs": []
    },
    {
      "cell_type": "code",
      "metadata": {
        "id": "q5xhr0mnkVvJ"
      },
      "source": [
        "train_scaled['value_tomm'] = train_y['value_pm_tomm']\n",
        "val_scaled['value_tomm'] = val_y['value_pm_tomm']\n",
        "test_scaled['value_tomm'] = test_y['value_pm_tomm']"
      ],
      "execution_count": null,
      "outputs": []
    },
    {
      "cell_type": "code",
      "metadata": {
        "id": "88eC0WksXL4P"
      },
      "source": [
        "train_scaled = train_scaled.dropna(how='any')\n",
        "val_scaled = val_scaled.dropna(how='any')\n",
        "test_scaled = test_scaled.dropna(how='any')"
      ],
      "execution_count": null,
      "outputs": []
    },
    {
      "cell_type": "code",
      "metadata": {
        "id": "QPqJFuHRkVqi"
      },
      "source": [
        "train_shuffled = train_scaled.iloc[np.random.permutation(train_scaled.index)].reset_index(drop=True)\n",
        "train_shuffled.head()"
      ],
      "execution_count": null,
      "outputs": []
    },
    {
      "cell_type": "code",
      "metadata": {
        "id": "jWl97bwBV8Aw"
      },
      "source": [
        "def lstm_dataset(data, label, window_size=24):\n",
        "  feature_list = []\n",
        "  label_list = []\n",
        "\n",
        "  for i in range(len(data) - window_size):\n",
        "    feature_list.append(np.array(data.iloc[i:i+window_size]))\n",
        "    label_list.append(np.array(label.iloc[i+window_size]))\n",
        "  return np.array(feature_list), np.array(label_list)\n",
        "  # window_size = timestep(몇 시간의 데이터를 이용하여 예측을 할 것인가)"
      ],
      "execution_count": null,
      "outputs": []
    },
    {
      "cell_type": "code",
      "metadata": {
        "id": "ip2Ws5InWarB"
      },
      "source": [
        "feature_cols = ['PM10', 'PM25','SO2','CO','NO2','tem','rain','hum','pre','wind_x','wind_y']\n",
        "label_cols = ['value_tomm']\n",
        "\n",
        "train_feature = train_scaled[feature_cols]\n",
        "train_label = train_scaled[label_cols]"
      ],
      "execution_count": null,
      "outputs": []
    },
    {
      "cell_type": "code",
      "metadata": {
        "id": "pz7VcJ_LWaoN"
      },
      "source": [
        "train_feature, train_label = lstm_dataset(train_feature, train_label, window_size= 24)"
      ],
      "execution_count": null,
      "outputs": []
    },
    {
      "cell_type": "code",
      "metadata": {
        "id": "JhmiHKuL5Q-6"
      },
      "source": [
        "train_label.shape"
      ],
      "execution_count": null,
      "outputs": []
    },
    {
      "cell_type": "code",
      "metadata": {
        "id": "S8IaAwB9Waky"
      },
      "source": [
        "valid_feature = val_scaled[feature_cols]\n",
        "valid_label = val_scaled[label_cols]\n",
        "test_feature = test_scaled[feature_cols]\n",
        "test_label = test_scaled[label_cols]\n",
        "\n",
        "test_feature.shape, test_label.shape"
      ],
      "execution_count": null,
      "outputs": []
    },
    {
      "cell_type": "code",
      "metadata": {
        "id": "yhMFtEZycN-k"
      },
      "source": [
        "valid_feature, valid_label = lstm_dataset(valid_feature, valid_label, 24)\n",
        "test_feature, test_label = lstm_dataset(test_feature, test_label, 24)"
      ],
      "execution_count": null,
      "outputs": []
    },
    {
      "cell_type": "markdown",
      "metadata": {
        "id": "DzLPhZJtcLW5"
      },
      "source": [
        ""
      ]
    },
    {
      "cell_type": "code",
      "metadata": {
        "id": "YPO7QxI7pylU"
      },
      "source": [
        "print(test_feature.shape)"
      ],
      "execution_count": null,
      "outputs": []
    },
    {
      "cell_type": "code",
      "metadata": {
        "id": "9EqQ9hfCWahc"
      },
      "source": [
        "from keras.layers import Dropout\n",
        "from keras.layers import LSTM\n",
        "from keras.layers import Dense\n",
        "from keras.models import Sequential\n",
        "\n",
        "model = tf.keras.models.Sequential()\n",
        "model.add(LSTM(64,\n",
        "               input_shape=(train_feature.shape[1], train_feature.shape[2]),\n",
        "               activation='relu',\n",
        "               return_sequences=True))\n",
        "model.add(LSTM(32, activation='relu'))\n",
        "model.add(layers.Flatten(input_shape=(16,16)))\n",
        "model.add(layers.Flatten(input_shape=(2,2)))\n",
        "model.add(Dense(1))"
      ],
      "execution_count": null,
      "outputs": []
    },
    {
      "cell_type": "code",
      "metadata": {
        "id": "9rMWEQhaWafM"
      },
      "source": [
        "import os\n",
        "import keras\n",
        "from keras.callbacks import EarlyStopping, ModelCheckpoint\n",
        "\n",
        "model.compile(loss='mean_squared_error', optimizer='adam',metrics=['mae'])\n",
        "checkpoint_cb = keras.callbacks.ModelCheckpoint('tmp_checkpoint.h5')\n",
        "early_stop = EarlyStopping(monitor='val_loss',patience=3)\n",
        "\n",
        "history = model.fit(train_feature, train_label,\n",
        "                    epochs=50,\n",
        "                    batch_size=256,\n",
        "                    validation_data=(valid_feature, valid_label),\n",
        "                    callbacks=[early_stop, checkpoint_cb])"
      ],
      "execution_count": null,
      "outputs": []
    },
    {
      "cell_type": "code",
      "metadata": {
        "id": "gMn8GVFufw3f"
      },
      "source": [
        "pred = model.predict(test_feature)\n",
        "print('Loss', model.evaluate(test_feature, test_label))"
      ],
      "execution_count": null,
      "outputs": []
    },
    {
      "cell_type": "code",
      "metadata": {
        "id": "F17GEme-nOX-"
      },
      "source": [
        "import matplotlib.pyplot as plt\n",
        "\n",
        "plt.plot(history.history['loss'])\n",
        "plt.plot(history.history['val_loss'])\n",
        "plt.xlabel('epoch')\n",
        "plt.ylabel('loss')\n",
        "plt.legend(['loss', 'val_loss'])\n",
        "plt.show()"
      ],
      "execution_count": null,
      "outputs": []
    },
    {
      "cell_type": "code",
      "metadata": {
        "id": "Pb498zhPf5Dw"
      },
      "source": [
        "plt.figure(figsize=(8,6))\n",
        "plt.plot(test_label, label='actual')\n",
        "plt.plot(pred, label='prediction')\n",
        "plt.legend()\n",
        "plt.show()"
      ],
      "execution_count": null,
      "outputs": []
    },
    {
      "cell_type": "markdown",
      "metadata": {
        "id": "2G1REKgEyMte"
      },
      "source": [
        "####GRU"
      ]
    },
    {
      "cell_type": "code",
      "metadata": {
        "id": "Xrs2kBNkyMgL"
      },
      "source": [
        "from keras.layers import GRU\n",
        "\n",
        "batch_size = 128\n",
        "model = Sequential()\n",
        "model.add(GRU(64, input_shape=(train_feature.shape[1], train_feature.shape[2]), activation = 'relu', return_sequences=True))\n",
        "model.add(GRU(32, activation='relu'))\n",
        "model.add(layers.Flatten(input_shape=(16,16)))\n",
        "model.add(layers.Flatten(input_shape=(2,2)))\n",
        "model.add(Dense(1))\n",
        "\n",
        "model.compile(loss='mean_squared_error', optimizer='adam', metrics=['mae'])\n",
        "es = EarlyStopping(monitor='val_loss',\n",
        "                              min_delta=0,\n",
        "                              patience=3,\n",
        "                              verbose=0, mode='auto')\n",
        "checkpoint_cb = keras.callbacks.ModelCheckpoint('tmp_checkpoint.h5')"
      ],
      "execution_count": null,
      "outputs": []
    },
    {
      "cell_type": "code",
      "metadata": {
        "id": "wsIagqB80v2s"
      },
      "source": [
        "history = model.fit(train_feature, train_label,\n",
        "                    epochs=50,\n",
        "                    batch_size=256,\n",
        "                    validation_data=(valid_feature, valid_label),\n",
        "                    callbacks=[es, checkpoint_cb])"
      ],
      "execution_count": null,
      "outputs": []
    },
    {
      "cell_type": "code",
      "metadata": {
        "id": "y12fxl3Z38pj"
      },
      "source": [
        "pred = model.predict(test_feature)\n",
        "print('Loss', model.evaluate(test_feature, test_label))"
      ],
      "execution_count": null,
      "outputs": []
    },
    {
      "cell_type": "code",
      "metadata": {
        "id": "MHOYQp8a4CrA"
      },
      "source": [
        "import matplotlib.pyplot as plt\n",
        "\n",
        "plt.plot(history.history['loss'])\n",
        "plt.plot(history.history['val_loss'])\n",
        "plt.xlabel('epoch')\n",
        "plt.ylabel('loss')\n",
        "plt.legend(['loss', 'val_loss'])\n",
        "plt.show()"
      ],
      "execution_count": null,
      "outputs": []
    },
    {
      "cell_type": "code",
      "metadata": {
        "id": "jtHT6vjY4EyI"
      },
      "source": [
        "plt.figure(figsize=(8,6))\n",
        "plt.plot(test_label, label='actual')\n",
        "plt.plot(pred, label='prediction')\n",
        "plt.legend()\n",
        "plt.show()"
      ],
      "execution_count": null,
      "outputs": []
    },
    {
      "cell_type": "markdown",
      "metadata": {
        "id": "Gh3KaEp4V_tD"
      },
      "source": [
        "### tensor 이용"
      ]
    },
    {
      "cell_type": "code",
      "metadata": {
        "id": "OgKKdBURVXXF"
      },
      "source": [
        "value_tomm_pm = new_pm1['value_pm_tomm']\n",
        "train_y = value_tomm_pm[:26283]\n",
        "train_y = train_y.reset_index()\n",
        "val_y = value_tomm_pm[26283:43803]\n",
        "val_y = val_y.reset_index()\n",
        "test_y = value_tomm_pm[43803:]\n",
        "test_y = test_y.reset_index()"
      ],
      "execution_count": null,
      "outputs": []
    },
    {
      "cell_type": "code",
      "metadata": {
        "id": "qqJuswBkVbrU"
      },
      "source": [
        "train_scaled['value_tomm'] = train_y['value_pm_tomm']\n",
        "val_scaled['value_tomm'] = val_y['value_pm_tomm']\n",
        "test_scaled['value_tomm'] = test_y['value_pm_tomm']"
      ],
      "execution_count": null,
      "outputs": []
    },
    {
      "cell_type": "code",
      "metadata": {
        "id": "RZdBQceEEWW-"
      },
      "source": [
        "def make_dataset(dataframe, shuffle=True, batch_size=32):\n",
        "  dataframe = dataframe.copy()\n",
        "  labels = dataframe.pop('value_tomm')\n",
        "  ds = tf.data.Dataset.from_tensor_slices((dict(dataframe), labels))\n",
        "\n",
        "  if shuffle:\n",
        "    ds = ds.shuffle(buffer_size=len(dataframe))\n",
        "  ds = ds.batch(batch_size)\n",
        "  return ds"
      ],
      "execution_count": null,
      "outputs": []
    },
    {
      "cell_type": "code",
      "metadata": {
        "id": "2UDlghtYpzk3"
      },
      "source": [
        "train_scaled.shape"
      ],
      "execution_count": null,
      "outputs": []
    },
    {
      "cell_type": "code",
      "metadata": {
        "id": "uW6pSiCK3XpK"
      },
      "source": [
        "train_scaled = train_scaled.set_index('date')\n",
        "val_scaled = val_scaled.set_index('date')\n",
        "test_scaled = test_scaled.set_index('date')"
      ],
      "execution_count": null,
      "outputs": []
    },
    {
      "cell_type": "code",
      "metadata": {
        "id": "OyNB-IRhGakY"
      },
      "source": [
        "batch_size=512\n",
        "train_ds = make_dataset(train_scaled, batch_size=batch_size)\n",
        "val_ds = make_dataset(val_scaled, shuffle=False, batch_size = batch_size)\n",
        "test_ds = make_dataset(test_scaled, shuffle=False, batch_size=batch_size)"
      ],
      "execution_count": null,
      "outputs": []
    },
    {
      "cell_type": "code",
      "metadata": {
        "id": "3i6OKiVgVJde"
      },
      "source": [
        "train_scaled.pop('value_tomm').shape"
      ],
      "execution_count": null,
      "outputs": []
    },
    {
      "cell_type": "code",
      "metadata": {
        "id": "fLWtrPS_h--x"
      },
      "source": [
        "import tensorflow as tf\n",
        "from tensorflow import feature_column\n",
        "from tensorflow.keras import layers"
      ],
      "execution_count": null,
      "outputs": []
    },
    {
      "cell_type": "code",
      "metadata": {
        "id": "d-G6e0JXKWzi"
      },
      "source": [
        "feature_columns = []\n",
        "for header in ['SO2'\t,'CO'\t,'O3',\t'NO2',\t'PM10',\t'PM25',\t'tem',\t'rain',\t'hum',\t'pre',\t'wind_x',\t'wind_y']:\n",
        "  feature_columns.append(feature_column.numeric_column(header))"
      ],
      "execution_count": null,
      "outputs": []
    },
    {
      "cell_type": "code",
      "metadata": {
        "id": "5bg3UcRxKvxJ"
      },
      "source": [
        "feature_layer = tf.keras.layers.DenseFeatures(feature_columns)"
      ],
      "execution_count": null,
      "outputs": []
    },
    {
      "cell_type": "code",
      "metadata": {
        "id": "fDZhw8jZ8V-2"
      },
      "source": [
        "from keras.models import Sequential\n",
        "from keras.layers import Dense, Dropout\n",
        "from tensorflow.keras import layers\n",
        "from tensorflow.keras import initializers\n",
        "initializer = tf.keras.initializers.he_normal(seed=None)\n",
        "\n",
        "model = tf.keras.Sequential([\n",
        "  feature_layer,\n",
        "  layers.Dense(units=64, kernel_initializer='he_normal',\n",
        "    bias_initializer='zeros', activation='relu'),\n",
        "  layers.Dropout(0.2),\n",
        "  layers.Dense(units=32, activation='relu'),\n",
        "  layers.Dropout(0.2),\n",
        "  layers.Dense(units=1, activation='relu')\n",
        "])\n",
        "model.compile(optimizer='adam',\n",
        "              loss='mse',\n",
        "              metrics=['mae'])"
      ],
      "execution_count": null,
      "outputs": []
    },
    {
      "cell_type": "code",
      "metadata": {
        "id": "l15UuXShKUze"
      },
      "source": [
        "checkpoint_cb = keras.callbacks.ModelCheckpoint('best-deepneural-model.h5')\n",
        "early_stopping_cb = keras.callbacks.EarlyStopping(patience=3, restore_best_weights=True)\n",
        "\n",
        "history = model.fit(train_ds,\n",
        "          validation_data=val_ds,\n",
        "          epochs=50,\n",
        "          callbacks = [checkpoint_cb, early_stopping_cb])"
      ],
      "execution_count": null,
      "outputs": []
    },
    {
      "cell_type": "code",
      "metadata": {
        "id": "CvfwSutdBRKe"
      },
      "source": [
        "import matplotlib.pyplot as plt\n",
        "\n",
        "plt.plot(history.history['loss'])\n",
        "plt.xlabel('epoch')\n",
        "plt.ylabel('loss')\n",
        "plt.show()"
      ],
      "execution_count": null,
      "outputs": []
    },
    {
      "cell_type": "code",
      "metadata": {
        "id": "dAL60xzcMPXL"
      },
      "source": [
        "pred = model.predict(test_ds)"
      ],
      "execution_count": null,
      "outputs": []
    },
    {
      "cell_type": "code",
      "metadata": {
        "id": "tQzzBtuwXBBE"
      },
      "source": [
        "plt.figure(figsize=(12,9))\n",
        "plt.plot(test_label, label='actual')\n",
        "plt.plot(pred[24:], label='prediction')\n",
        "plt.legend()\n",
        "plt.show()"
      ],
      "execution_count": null,
      "outputs": []
    },
    {
      "cell_type": "markdown",
      "metadata": {
        "id": "tk5NJejsal8R"
      },
      "source": [
        "###Xavier initializer 제거"
      ]
    },
    {
      "cell_type": "code",
      "metadata": {
        "id": "ML0IoAVwalZg"
      },
      "source": [
        "from keras.models import Sequential\n",
        "from keras.layers import Dense, Dropout\n",
        "from tensorflow.keras import layers\n",
        "from tensorflow.keras import initializers\n",
        "\n",
        "model = tf.keras.Sequential([\n",
        "  feature_layer,\n",
        "  layers.Dense(units=100, activation='relu'),\n",
        "  layers.Dropout(0.2),\n",
        "  layers.Dense(units=100, activation='relu'),\n",
        "  layers.Dropout(0.2),\n",
        "  layers.Dense(units=1, activation='relu')\n",
        "])\n",
        "model.compile(optimizer='adam',\n",
        "              loss='mse',\n",
        "              metrics=['mae'])"
      ],
      "execution_count": null,
      "outputs": []
    },
    {
      "cell_type": "code",
      "metadata": {
        "id": "nGhbiV57alXe"
      },
      "source": [
        "checkpoint_cb = keras.callbacks.ModelCheckpoint('best-deepneural-model.h5')\n",
        "early_stopping_cb = keras.callbacks.EarlyStopping(patience=3, restore_best_weights=True)\n",
        "\n",
        "history = model.fit(train_ds,\n",
        "          validation_data=val_ds,\n",
        "          epochs=50,\n",
        "          callbacks = [checkpoint_cb, early_stopping_cb])"
      ],
      "execution_count": null,
      "outputs": []
    },
    {
      "cell_type": "code",
      "metadata": {
        "id": "5HZQbqcmalVl"
      },
      "source": [
        "import matplotlib.pyplot as plt\n",
        "\n",
        "plt.plot(history.history['loss'])\n",
        "plt.xlabel('epoch')\n",
        "plt.ylabel('loss')\n",
        "plt.show()"
      ],
      "execution_count": null,
      "outputs": []
    },
    {
      "cell_type": "code",
      "metadata": {
        "id": "R4gxXfG9bbHK"
      },
      "source": [
        "pred = model.predict(test_ds)"
      ],
      "execution_count": null,
      "outputs": []
    },
    {
      "cell_type": "code",
      "metadata": {
        "id": "deDeKFhAbetH"
      },
      "source": [
        "plt.figure(figsize=(12,9))\n",
        "plt.plot(test_label, label='actual')\n",
        "plt.plot(pred, label='prediction')\n",
        "plt.show()"
      ],
      "execution_count": null,
      "outputs": []
    },
    {
      "cell_type": "markdown",
      "metadata": {
        "id": "16mZ4hHXPinH"
      },
      "source": [
        "###xavier initialization"
      ]
    },
    {
      "cell_type": "code",
      "metadata": {
        "id": "0BvjEzC3yO5F"
      },
      "source": [
        "from tensorflow.keras import layers\n",
        "from tensorflow.keras import initializers\n",
        "\n",
        "layer = layers.Dense(\n",
        "    units=64,\n",
        "    kernel_initializer=initializers.RandomNormal(stddev=0.01),\n",
        "    bias_initializer = initializers.Zeros()\n",
        ")"
      ],
      "execution_count": null,
      "outputs": []
    },
    {
      "cell_type": "code",
      "metadata": {
        "id": "A1tVP2z76gdh"
      },
      "source": [
        "layer = layers.Dense(\n",
        "    units=64,\n",
        "    kernel_initializer='random_normal',\n",
        "    bias_initializer='zeros'\n",
        ")"
      ],
      "execution_count": null,
      "outputs": []
    },
    {
      "cell_type": "code",
      "metadata": {
        "id": "gL3L5kmI6rzu"
      },
      "source": [
        "tf.keras.initializers.RandomNormal(mean=0.0, stddev=0.05, seed=None)"
      ],
      "execution_count": null,
      "outputs": []
    },
    {
      "cell_type": "code",
      "metadata": {
        "id": "d-LTtg2e6wL_"
      },
      "source": [
        "initializer = tf.keras.initializers.RandomNormal(mean=0., stddev=1.)\n",
        "values = initializer(shape=(2,2))"
      ],
      "execution_count": null,
      "outputs": []
    },
    {
      "cell_type": "code",
      "metadata": {
        "id": "tH0dSdDL67Y1"
      },
      "source": [
        "initializer = tf.keras.initializers.RandomNormal(mean=0., stddev=1.)\n",
        "layer = tf.keras.layers.Dense(3, kernel_initializer=initializer)"
      ],
      "execution_count": null,
      "outputs": []
    },
    {
      "cell_type": "code",
      "metadata": {
        "id": "x2-i0Ngt7JRm"
      },
      "source": [
        ""
      ],
      "execution_count": null,
      "outputs": []
    }
  ]
}